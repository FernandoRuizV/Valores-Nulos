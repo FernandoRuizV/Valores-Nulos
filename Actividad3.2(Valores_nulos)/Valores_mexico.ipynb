{
 "cells": [
  {
   "cell_type": "code",
   "execution_count": 1,
   "metadata": {},
   "outputs": [],
   "source": [
    "import pandas as pd\n",
    "import numpy as np\n",
    "import matplotlib.pyplot as plt"
   ]
  },
  {
   "cell_type": "code",
   "execution_count": 4,
   "metadata": {},
   "outputs": [
    {
     "data": {
      "text/html": [
       "<div>\n",
       "<style scoped>\n",
       "    .dataframe tbody tr th:only-of-type {\n",
       "        vertical-align: middle;\n",
       "    }\n",
       "\n",
       "    .dataframe tbody tr th {\n",
       "        vertical-align: top;\n",
       "    }\n",
       "\n",
       "    .dataframe thead th {\n",
       "        text-align: right;\n",
       "    }\n",
       "</style>\n",
       "<table border=\"1\" class=\"dataframe\">\n",
       "  <thead>\n",
       "    <tr style=\"text-align: right;\">\n",
       "      <th></th>\n",
       "      <th>id</th>\n",
       "      <th>listing_url</th>\n",
       "      <th>scrape_id</th>\n",
       "      <th>last_scraped</th>\n",
       "      <th>source</th>\n",
       "      <th>name</th>\n",
       "      <th>description</th>\n",
       "      <th>neighborhood_overview</th>\n",
       "      <th>picture_url</th>\n",
       "      <th>host_id</th>\n",
       "      <th>...</th>\n",
       "      <th>review_scores_communication</th>\n",
       "      <th>review_scores_location</th>\n",
       "      <th>review_scores_value</th>\n",
       "      <th>license</th>\n",
       "      <th>instant_bookable</th>\n",
       "      <th>calculated_host_listings_count</th>\n",
       "      <th>calculated_host_listings_count_entire_homes</th>\n",
       "      <th>calculated_host_listings_count_private_rooms</th>\n",
       "      <th>calculated_host_listings_count_shared_rooms</th>\n",
       "      <th>reviews_per_month</th>\n",
       "    </tr>\n",
       "  </thead>\n",
       "  <tbody>\n",
       "    <tr>\n",
       "      <th>0</th>\n",
       "      <td>35797</td>\n",
       "      <td>https://www.airbnb.com/rooms/35797</td>\n",
       "      <td>20240925021012</td>\n",
       "      <td>2024-09-25</td>\n",
       "      <td>city scrape</td>\n",
       "      <td>Villa Dante</td>\n",
       "      <td>Dentro de Villa un estudio de arte con futon, ...</td>\n",
       "      <td>Santa Fe Mall, Interloma Park and the Lion Des...</td>\n",
       "      <td>https://a0.muscache.com/pictures/f395ab78-1185...</td>\n",
       "      <td>153786</td>\n",
       "      <td>...</td>\n",
       "      <td>NaN</td>\n",
       "      <td>NaN</td>\n",
       "      <td>NaN</td>\n",
       "      <td>NaN</td>\n",
       "      <td>f</td>\n",
       "      <td>1</td>\n",
       "      <td>1</td>\n",
       "      <td>0</td>\n",
       "      <td>0</td>\n",
       "      <td>NaN</td>\n",
       "    </tr>\n",
       "    <tr>\n",
       "      <th>1</th>\n",
       "      <td>44616</td>\n",
       "      <td>https://www.airbnb.com/rooms/44616</td>\n",
       "      <td>20240925021012</td>\n",
       "      <td>2024-09-26</td>\n",
       "      <td>previous scrape</td>\n",
       "      <td>Condesa Haus</td>\n",
       "      <td>A new concept of hosting in mexico through a b...</td>\n",
       "      <td>NaN</td>\n",
       "      <td>https://a0.muscache.com/pictures/251410/ec75fe...</td>\n",
       "      <td>196253</td>\n",
       "      <td>...</td>\n",
       "      <td>4.78</td>\n",
       "      <td>4.98</td>\n",
       "      <td>4.48</td>\n",
       "      <td>NaN</td>\n",
       "      <td>f</td>\n",
       "      <td>8</td>\n",
       "      <td>4</td>\n",
       "      <td>1</td>\n",
       "      <td>0</td>\n",
       "      <td>0.41</td>\n",
       "    </tr>\n",
       "    <tr>\n",
       "      <th>2</th>\n",
       "      <td>67703</td>\n",
       "      <td>https://www.airbnb.com/rooms/67703</td>\n",
       "      <td>20240925021012</td>\n",
       "      <td>2024-09-26</td>\n",
       "      <td>city scrape</td>\n",
       "      <td>2 bedroom apt. deco bldg, Condesa</td>\n",
       "      <td>Comfortably furnished, sunny, 2 bedroom apt., ...</td>\n",
       "      <td>NaN</td>\n",
       "      <td>https://a0.muscache.com/pictures/3281720/6f078...</td>\n",
       "      <td>334451</td>\n",
       "      <td>...</td>\n",
       "      <td>4.92</td>\n",
       "      <td>4.98</td>\n",
       "      <td>4.91</td>\n",
       "      <td>NaN</td>\n",
       "      <td>f</td>\n",
       "      <td>2</td>\n",
       "      <td>2</td>\n",
       "      <td>0</td>\n",
       "      <td>0</td>\n",
       "      <td>0.31</td>\n",
       "    </tr>\n",
       "    <tr>\n",
       "      <th>3</th>\n",
       "      <td>70644</td>\n",
       "      <td>https://www.airbnb.com/rooms/70644</td>\n",
       "      <td>20240925021012</td>\n",
       "      <td>2024-09-25</td>\n",
       "      <td>city scrape</td>\n",
       "      <td>Beautiful light Studio Coyoacan- full equipped !</td>\n",
       "      <td>COYOACAN designer studio quiet &amp; safe! well eq...</td>\n",
       "      <td>Coyoacan is a beautiful neighborhood famous fo...</td>\n",
       "      <td>https://a0.muscache.com/pictures/f397d2da-d045...</td>\n",
       "      <td>212109</td>\n",
       "      <td>...</td>\n",
       "      <td>4.98</td>\n",
       "      <td>4.96</td>\n",
       "      <td>4.92</td>\n",
       "      <td>NaN</td>\n",
       "      <td>f</td>\n",
       "      <td>3</td>\n",
       "      <td>2</td>\n",
       "      <td>1</td>\n",
       "      <td>0</td>\n",
       "      <td>0.83</td>\n",
       "    </tr>\n",
       "    <tr>\n",
       "      <th>4</th>\n",
       "      <td>107078</td>\n",
       "      <td>https://www.airbnb.com/rooms/107078</td>\n",
       "      <td>20240925021012</td>\n",
       "      <td>2024-09-25</td>\n",
       "      <td>city scrape</td>\n",
       "      <td>NEW  DESIGNER LOFT</td>\n",
       "      <td>Is the best ever place triple L &lt;br /&gt;Location...</td>\n",
       "      <td>Is located in the best area of Mexico City, Po...</td>\n",
       "      <td>https://a0.muscache.com/pictures/bd64f86d-4931...</td>\n",
       "      <td>540705</td>\n",
       "      <td>...</td>\n",
       "      <td>4.73</td>\n",
       "      <td>4.91</td>\n",
       "      <td>4.82</td>\n",
       "      <td>NaN</td>\n",
       "      <td>f</td>\n",
       "      <td>3</td>\n",
       "      <td>3</td>\n",
       "      <td>0</td>\n",
       "      <td>0</td>\n",
       "      <td>0.11</td>\n",
       "    </tr>\n",
       "  </tbody>\n",
       "</table>\n",
       "<p>5 rows × 75 columns</p>\n",
       "</div>"
      ],
      "text/plain": [
       "       id                          listing_url       scrape_id last_scraped  \\\n",
       "0   35797   https://www.airbnb.com/rooms/35797  20240925021012   2024-09-25   \n",
       "1   44616   https://www.airbnb.com/rooms/44616  20240925021012   2024-09-26   \n",
       "2   67703   https://www.airbnb.com/rooms/67703  20240925021012   2024-09-26   \n",
       "3   70644   https://www.airbnb.com/rooms/70644  20240925021012   2024-09-25   \n",
       "4  107078  https://www.airbnb.com/rooms/107078  20240925021012   2024-09-25   \n",
       "\n",
       "            source                                              name  \\\n",
       "0      city scrape                                       Villa Dante   \n",
       "1  previous scrape                                      Condesa Haus   \n",
       "2      city scrape                 2 bedroom apt. deco bldg, Condesa   \n",
       "3      city scrape  Beautiful light Studio Coyoacan- full equipped !   \n",
       "4      city scrape                                NEW  DESIGNER LOFT   \n",
       "\n",
       "                                         description  \\\n",
       "0  Dentro de Villa un estudio de arte con futon, ...   \n",
       "1  A new concept of hosting in mexico through a b...   \n",
       "2  Comfortably furnished, sunny, 2 bedroom apt., ...   \n",
       "3  COYOACAN designer studio quiet & safe! well eq...   \n",
       "4  Is the best ever place triple L <br />Location...   \n",
       "\n",
       "                               neighborhood_overview  \\\n",
       "0  Santa Fe Mall, Interloma Park and the Lion Des...   \n",
       "1                                                NaN   \n",
       "2                                                NaN   \n",
       "3  Coyoacan is a beautiful neighborhood famous fo...   \n",
       "4  Is located in the best area of Mexico City, Po...   \n",
       "\n",
       "                                         picture_url  host_id  ...  \\\n",
       "0  https://a0.muscache.com/pictures/f395ab78-1185...   153786  ...   \n",
       "1  https://a0.muscache.com/pictures/251410/ec75fe...   196253  ...   \n",
       "2  https://a0.muscache.com/pictures/3281720/6f078...   334451  ...   \n",
       "3  https://a0.muscache.com/pictures/f397d2da-d045...   212109  ...   \n",
       "4  https://a0.muscache.com/pictures/bd64f86d-4931...   540705  ...   \n",
       "\n",
       "  review_scores_communication review_scores_location review_scores_value  \\\n",
       "0                         NaN                    NaN                 NaN   \n",
       "1                        4.78                   4.98                4.48   \n",
       "2                        4.92                   4.98                4.91   \n",
       "3                        4.98                   4.96                4.92   \n",
       "4                        4.73                   4.91                4.82   \n",
       "\n",
       "  license instant_bookable calculated_host_listings_count  \\\n",
       "0     NaN                f                              1   \n",
       "1     NaN                f                              8   \n",
       "2     NaN                f                              2   \n",
       "3     NaN                f                              3   \n",
       "4     NaN                f                              3   \n",
       "\n",
       "  calculated_host_listings_count_entire_homes  \\\n",
       "0                                           1   \n",
       "1                                           4   \n",
       "2                                           2   \n",
       "3                                           2   \n",
       "4                                           3   \n",
       "\n",
       "  calculated_host_listings_count_private_rooms  \\\n",
       "0                                            0   \n",
       "1                                            1   \n",
       "2                                            0   \n",
       "3                                            1   \n",
       "4                                            0   \n",
       "\n",
       "  calculated_host_listings_count_shared_rooms reviews_per_month  \n",
       "0                                           0               NaN  \n",
       "1                                           0              0.41  \n",
       "2                                           0              0.31  \n",
       "3                                           0              0.83  \n",
       "4                                           0              0.11  \n",
       "\n",
       "[5 rows x 75 columns]"
      ]
     },
     "execution_count": 4,
     "metadata": {},
     "output_type": "execute_result"
    }
   ],
   "source": [
    "#Cargar archivo\n",
    "data= pd.read_csv('Mexico.csv')\n",
    "data.head(5)"
   ]
  },
  {
   "cell_type": "code",
   "execution_count": 5,
   "metadata": {},
   "outputs": [],
   "source": [
    "data2= data.copy()"
   ]
  },
  {
   "cell_type": "code",
   "execution_count": 6,
   "metadata": {},
   "outputs": [],
   "source": [
    "data2 = data2.drop(columns=[\"id\", \"listing_url\", \"scrape_id\", \"source\", \"picture_url\", \"host_id\", \"host_url\", \"host_name\",\"host_since\",\"host_about\",\"host_thumbnail_url\",\"host_picture_url\",\"host_neighbourhood\",\"host_listings_count\",\"host_total_listings_count\",\"neighbourhood_group_cleansed\",\"calendar_last_scraped\",\"first_review\",\"review_scores_accuracy\",\"license\",\"calculated_host_listings_count\",\"calculated_host_listings_count_entire_homes\",\"calculated_host_listings_count_private_rooms\",\"calculated_host_listings_count_shared_rooms\"])"
   ]
  },
  {
   "cell_type": "code",
   "execution_count": 7,
   "metadata": {},
   "outputs": [
    {
     "name": "stdout",
     "output_type": "stream",
     "text": [
      "<class 'pandas.core.frame.DataFrame'>\n",
      "RangeIndex: 26582 entries, 0 to 26581\n",
      "Data columns (total 51 columns):\n",
      " #   Column                       Non-Null Count  Dtype  \n",
      "---  ------                       --------------  -----  \n",
      " 0   last_scraped                 26582 non-null  object \n",
      " 1   name                         26582 non-null  object \n",
      " 2   description                  25649 non-null  object \n",
      " 3   neighborhood_overview        15687 non-null  object \n",
      " 4   host_location                21141 non-null  object \n",
      " 5   host_response_time           22960 non-null  object \n",
      " 6   host_response_rate           22960 non-null  object \n",
      " 7   host_acceptance_rate         23713 non-null  object \n",
      " 8   host_is_superhost            25073 non-null  object \n",
      " 9   host_verifications           26582 non-null  object \n",
      " 10  host_has_profile_pic         26582 non-null  object \n",
      " 11  host_identity_verified       26582 non-null  object \n",
      " 12  neighbourhood                15687 non-null  object \n",
      " 13  neighbourhood_cleansed       26582 non-null  object \n",
      " 14  latitude                     26582 non-null  float64\n",
      " 15  longitude                    26582 non-null  float64\n",
      " 16  property_type                26582 non-null  object \n",
      " 17  room_type                    26582 non-null  object \n",
      " 18  accommodates                 26582 non-null  int64  \n",
      " 19  bathrooms                    23667 non-null  float64\n",
      " 20  bathrooms_text               26556 non-null  object \n",
      " 21  bedrooms                     25716 non-null  float64\n",
      " 22  beds                         23629 non-null  float64\n",
      " 23  amenities                    26582 non-null  object \n",
      " 24  price                        23655 non-null  object \n",
      " 25  minimum_nights               26582 non-null  int64  \n",
      " 26  maximum_nights               26582 non-null  int64  \n",
      " 27  minimum_minimum_nights       26582 non-null  int64  \n",
      " 28  maximum_minimum_nights       26582 non-null  int64  \n",
      " 29  minimum_maximum_nights       26582 non-null  int64  \n",
      " 30  maximum_maximum_nights       26582 non-null  int64  \n",
      " 31  minimum_nights_avg_ntm       26582 non-null  float64\n",
      " 32  maximum_nights_avg_ntm       26582 non-null  float64\n",
      " 33  calendar_updated             0 non-null      float64\n",
      " 34  has_availability             25574 non-null  object \n",
      " 35  availability_30              26582 non-null  int64  \n",
      " 36  availability_60              26582 non-null  int64  \n",
      " 37  availability_90              26582 non-null  int64  \n",
      " 38  availability_365             26582 non-null  int64  \n",
      " 39  number_of_reviews            26582 non-null  int64  \n",
      " 40  number_of_reviews_ltm        26582 non-null  int64  \n",
      " 41  number_of_reviews_l30d       26582 non-null  int64  \n",
      " 42  last_review                  22926 non-null  object \n",
      " 43  review_scores_rating         22926 non-null  float64\n",
      " 44  review_scores_cleanliness    22925 non-null  float64\n",
      " 45  review_scores_checkin        22925 non-null  float64\n",
      " 46  review_scores_communication  22925 non-null  float64\n",
      " 47  review_scores_location       22925 non-null  float64\n",
      " 48  review_scores_value          22925 non-null  float64\n",
      " 49  instant_bookable             26582 non-null  object \n",
      " 50  reviews_per_month            22926 non-null  float64\n",
      "dtypes: float64(15), int64(14), object(22)\n",
      "memory usage: 10.3+ MB\n"
     ]
    }
   ],
   "source": [
    "data2.info()"
   ]
  },
  {
   "cell_type": "code",
   "execution_count": 8,
   "metadata": {},
   "outputs": [
    {
     "data": {
      "text/plain": [
       "last_scraped                       0\n",
       "name                               0\n",
       "description                      933\n",
       "neighborhood_overview          10895\n",
       "host_location                   5441\n",
       "host_response_time              3622\n",
       "host_response_rate              3622\n",
       "host_acceptance_rate            2869\n",
       "host_is_superhost               1509\n",
       "host_verifications                 0\n",
       "host_has_profile_pic               0\n",
       "host_identity_verified             0\n",
       "neighbourhood                  10895\n",
       "neighbourhood_cleansed             0\n",
       "latitude                           0\n",
       "longitude                          0\n",
       "property_type                      0\n",
       "room_type                          0\n",
       "accommodates                       0\n",
       "bathrooms                       2915\n",
       "bathrooms_text                    26\n",
       "bedrooms                         866\n",
       "beds                            2953\n",
       "amenities                          0\n",
       "price                           2927\n",
       "minimum_nights                     0\n",
       "maximum_nights                     0\n",
       "minimum_minimum_nights             0\n",
       "maximum_minimum_nights             0\n",
       "minimum_maximum_nights             0\n",
       "maximum_maximum_nights             0\n",
       "minimum_nights_avg_ntm             0\n",
       "maximum_nights_avg_ntm             0\n",
       "calendar_updated               26582\n",
       "has_availability                1008\n",
       "availability_30                    0\n",
       "availability_60                    0\n",
       "availability_90                    0\n",
       "availability_365                   0\n",
       "number_of_reviews                  0\n",
       "number_of_reviews_ltm              0\n",
       "number_of_reviews_l30d             0\n",
       "last_review                     3656\n",
       "review_scores_rating            3656\n",
       "review_scores_cleanliness       3657\n",
       "review_scores_checkin           3657\n",
       "review_scores_communication     3657\n",
       "review_scores_location          3657\n",
       "review_scores_value             3657\n",
       "instant_bookable                   0\n",
       "reviews_per_month               3656\n",
       "dtype: int64"
      ]
     },
     "execution_count": 8,
     "metadata": {},
     "output_type": "execute_result"
    }
   ],
   "source": [
    "valores_nulos=data2.isnull().sum()          \n",
    "valores_nulos"
   ]
  },
  {
   "cell_type": "code",
   "execution_count": 9,
   "metadata": {},
   "outputs": [
    {
     "data": {
      "text/plain": [
       "np.int64(106316)"
      ]
     },
     "execution_count": 9,
     "metadata": {},
     "output_type": "execute_result"
    }
   ],
   "source": [
    "#Identificar datos nulos por dataframe\n",
    "valores_nulos=data2.isnull().sum().sum()\n",
    "valores_nulos"
   ]
  },
  {
   "cell_type": "code",
   "execution_count": 10,
   "metadata": {},
   "outputs": [
    {
     "name": "stderr",
     "output_type": "stream",
     "text": [
      "C:\\Users\\lapep\\AppData\\Local\\Temp\\ipykernel_4492\\4143185241.py:3: FutureWarning: Series.fillna with 'method' is deprecated and will raise in a future version. Use obj.ffill() or obj.bfill() instead.\n",
      "  data2[\"description\"]=data2[\"description\"].fillna(method=\"ffill\")\n"
     ]
    }
   ],
   "source": [
    "#Quinto método de sustitución de valores nulos\n",
    "#Sustituir valores nulos por valores no nulos hacia adelante \"forward fill\"(\"ffill\")\n",
    "data2[\"description\"]=data2[\"description\"].fillna(method=\"ffill\")"
   ]
  },
  {
   "cell_type": "code",
   "execution_count": 11,
   "metadata": {},
   "outputs": [
    {
     "data": {
      "text/plain": [
       "last_scraped                       0\n",
       "name                               0\n",
       "description                        0\n",
       "neighborhood_overview          10895\n",
       "host_location                   5441\n",
       "host_response_time              3622\n",
       "host_response_rate              3622\n",
       "host_acceptance_rate            2869\n",
       "host_is_superhost               1509\n",
       "host_verifications                 0\n",
       "host_has_profile_pic               0\n",
       "host_identity_verified             0\n",
       "neighbourhood                  10895\n",
       "neighbourhood_cleansed             0\n",
       "latitude                           0\n",
       "longitude                          0\n",
       "property_type                      0\n",
       "room_type                          0\n",
       "accommodates                       0\n",
       "bathrooms                       2915\n",
       "bathrooms_text                    26\n",
       "bedrooms                         866\n",
       "beds                            2953\n",
       "amenities                          0\n",
       "price                           2927\n",
       "minimum_nights                     0\n",
       "maximum_nights                     0\n",
       "minimum_minimum_nights             0\n",
       "maximum_minimum_nights             0\n",
       "minimum_maximum_nights             0\n",
       "maximum_maximum_nights             0\n",
       "minimum_nights_avg_ntm             0\n",
       "maximum_nights_avg_ntm             0\n",
       "calendar_updated               26582\n",
       "has_availability                1008\n",
       "availability_30                    0\n",
       "availability_60                    0\n",
       "availability_90                    0\n",
       "availability_365                   0\n",
       "number_of_reviews                  0\n",
       "number_of_reviews_ltm              0\n",
       "number_of_reviews_l30d             0\n",
       "last_review                     3656\n",
       "review_scores_rating            3656\n",
       "review_scores_cleanliness       3657\n",
       "review_scores_checkin           3657\n",
       "review_scores_communication     3657\n",
       "review_scores_location          3657\n",
       "review_scores_value             3657\n",
       "instant_bookable                   0\n",
       "reviews_per_month               3656\n",
       "dtype: int64"
      ]
     },
     "execution_count": 11,
     "metadata": {},
     "output_type": "execute_result"
    }
   ],
   "source": [
    "valores_nulos=data2.isnull().sum()          \n",
    "valores_nulos"
   ]
  },
  {
   "cell_type": "code",
   "execution_count": 12,
   "metadata": {},
   "outputs": [],
   "source": [
    "#Cuarto método de sustitución de valores nulos\n",
    "#Sustituir valores nulos por un string en concreto\n",
    "data2[\"neighborhood_overview\"]=data2[\"neighborhood_overview\"].fillna(\"Nothing to say\")"
   ]
  },
  {
   "cell_type": "code",
   "execution_count": 13,
   "metadata": {},
   "outputs": [
    {
     "data": {
      "text/plain": [
       "last_scraped                       0\n",
       "name                               0\n",
       "description                        0\n",
       "neighborhood_overview              0\n",
       "host_location                   5441\n",
       "host_response_time              3622\n",
       "host_response_rate              3622\n",
       "host_acceptance_rate            2869\n",
       "host_is_superhost               1509\n",
       "host_verifications                 0\n",
       "host_has_profile_pic               0\n",
       "host_identity_verified             0\n",
       "neighbourhood                  10895\n",
       "neighbourhood_cleansed             0\n",
       "latitude                           0\n",
       "longitude                          0\n",
       "property_type                      0\n",
       "room_type                          0\n",
       "accommodates                       0\n",
       "bathrooms                       2915\n",
       "bathrooms_text                    26\n",
       "bedrooms                         866\n",
       "beds                            2953\n",
       "amenities                          0\n",
       "price                           2927\n",
       "minimum_nights                     0\n",
       "maximum_nights                     0\n",
       "minimum_minimum_nights             0\n",
       "maximum_minimum_nights             0\n",
       "minimum_maximum_nights             0\n",
       "maximum_maximum_nights             0\n",
       "minimum_nights_avg_ntm             0\n",
       "maximum_nights_avg_ntm             0\n",
       "calendar_updated               26582\n",
       "has_availability                1008\n",
       "availability_30                    0\n",
       "availability_60                    0\n",
       "availability_90                    0\n",
       "availability_365                   0\n",
       "number_of_reviews                  0\n",
       "number_of_reviews_ltm              0\n",
       "number_of_reviews_l30d             0\n",
       "last_review                     3656\n",
       "review_scores_rating            3656\n",
       "review_scores_cleanliness       3657\n",
       "review_scores_checkin           3657\n",
       "review_scores_communication     3657\n",
       "review_scores_location          3657\n",
       "review_scores_value             3657\n",
       "instant_bookable                   0\n",
       "reviews_per_month               3656\n",
       "dtype: int64"
      ]
     },
     "execution_count": 13,
     "metadata": {},
     "output_type": "execute_result"
    }
   ],
   "source": [
    "valores_nulos=data2.isnull().sum()          \n",
    "valores_nulos"
   ]
  },
  {
   "cell_type": "code",
   "execution_count": 14,
   "metadata": {},
   "outputs": [],
   "source": [
    "#Cuarto método de sustitución de valores nulos\n",
    "#Sustituir valores nulos por un string en concreto\n",
    "data2[\"host_location\"]=data2[\"host_location\"].fillna(\"Not filled yet\")"
   ]
  },
  {
   "cell_type": "code",
   "execution_count": 15,
   "metadata": {},
   "outputs": [
    {
     "data": {
      "text/plain": [
       "last_scraped                       0\n",
       "name                               0\n",
       "description                        0\n",
       "neighborhood_overview              0\n",
       "host_location                      0\n",
       "host_response_time              3622\n",
       "host_response_rate              3622\n",
       "host_acceptance_rate            2869\n",
       "host_is_superhost               1509\n",
       "host_verifications                 0\n",
       "host_has_profile_pic               0\n",
       "host_identity_verified             0\n",
       "neighbourhood                  10895\n",
       "neighbourhood_cleansed             0\n",
       "latitude                           0\n",
       "longitude                          0\n",
       "property_type                      0\n",
       "room_type                          0\n",
       "accommodates                       0\n",
       "bathrooms                       2915\n",
       "bathrooms_text                    26\n",
       "bedrooms                         866\n",
       "beds                            2953\n",
       "amenities                          0\n",
       "price                           2927\n",
       "minimum_nights                     0\n",
       "maximum_nights                     0\n",
       "minimum_minimum_nights             0\n",
       "maximum_minimum_nights             0\n",
       "minimum_maximum_nights             0\n",
       "maximum_maximum_nights             0\n",
       "minimum_nights_avg_ntm             0\n",
       "maximum_nights_avg_ntm             0\n",
       "calendar_updated               26582\n",
       "has_availability                1008\n",
       "availability_30                    0\n",
       "availability_60                    0\n",
       "availability_90                    0\n",
       "availability_365                   0\n",
       "number_of_reviews                  0\n",
       "number_of_reviews_ltm              0\n",
       "number_of_reviews_l30d             0\n",
       "last_review                     3656\n",
       "review_scores_rating            3656\n",
       "review_scores_cleanliness       3657\n",
       "review_scores_checkin           3657\n",
       "review_scores_communication     3657\n",
       "review_scores_location          3657\n",
       "review_scores_value             3657\n",
       "instant_bookable                   0\n",
       "reviews_per_month               3656\n",
       "dtype: int64"
      ]
     },
     "execution_count": 15,
     "metadata": {},
     "output_type": "execute_result"
    }
   ],
   "source": [
    "valores_nulos=data2.isnull().sum()          \n",
    "valores_nulos"
   ]
  },
  {
   "cell_type": "code",
   "execution_count": 16,
   "metadata": {},
   "outputs": [
    {
     "name": "stderr",
     "output_type": "stream",
     "text": [
      "C:\\Users\\lapep\\AppData\\Local\\Temp\\ipykernel_4492\\3327000928.py:3: FutureWarning: Series.fillna with 'method' is deprecated and will raise in a future version. Use obj.ffill() or obj.bfill() instead.\n",
      "  data2[\"host_response_time\"]=data2[\"host_response_time\"].fillna(method=\"bfill\")\n"
     ]
    }
   ],
   "source": [
    "#Sexto método de sustitución de valores nulos\n",
    "#Sustituir valores nulos por valores no nulos hacia atrás backwards\n",
    "data2[\"host_response_time\"]=data2[\"host_response_time\"].fillna(method=\"bfill\")"
   ]
  },
  {
   "cell_type": "code",
   "execution_count": 17,
   "metadata": {},
   "outputs": [
    {
     "data": {
      "text/plain": [
       "last_scraped                       0\n",
       "name                               0\n",
       "description                        0\n",
       "neighborhood_overview              0\n",
       "host_location                      0\n",
       "host_response_time                 0\n",
       "host_response_rate              3622\n",
       "host_acceptance_rate            2869\n",
       "host_is_superhost               1509\n",
       "host_verifications                 0\n",
       "host_has_profile_pic               0\n",
       "host_identity_verified             0\n",
       "neighbourhood                  10895\n",
       "neighbourhood_cleansed             0\n",
       "latitude                           0\n",
       "longitude                          0\n",
       "property_type                      0\n",
       "room_type                          0\n",
       "accommodates                       0\n",
       "bathrooms                       2915\n",
       "bathrooms_text                    26\n",
       "bedrooms                         866\n",
       "beds                            2953\n",
       "amenities                          0\n",
       "price                           2927\n",
       "minimum_nights                     0\n",
       "maximum_nights                     0\n",
       "minimum_minimum_nights             0\n",
       "maximum_minimum_nights             0\n",
       "minimum_maximum_nights             0\n",
       "maximum_maximum_nights             0\n",
       "minimum_nights_avg_ntm             0\n",
       "maximum_nights_avg_ntm             0\n",
       "calendar_updated               26582\n",
       "has_availability                1008\n",
       "availability_30                    0\n",
       "availability_60                    0\n",
       "availability_90                    0\n",
       "availability_365                   0\n",
       "number_of_reviews                  0\n",
       "number_of_reviews_ltm              0\n",
       "number_of_reviews_l30d             0\n",
       "last_review                     3656\n",
       "review_scores_rating            3656\n",
       "review_scores_cleanliness       3657\n",
       "review_scores_checkin           3657\n",
       "review_scores_communication     3657\n",
       "review_scores_location          3657\n",
       "review_scores_value             3657\n",
       "instant_bookable                   0\n",
       "reviews_per_month               3656\n",
       "dtype: int64"
      ]
     },
     "execution_count": 17,
     "metadata": {},
     "output_type": "execute_result"
    }
   ],
   "source": [
    "valores_nulos=data2.isnull().sum()          \n",
    "valores_nulos"
   ]
  },
  {
   "cell_type": "code",
   "execution_count": 18,
   "metadata": {},
   "outputs": [
    {
     "name": "stderr",
     "output_type": "stream",
     "text": [
      "C:\\Users\\lapep\\AppData\\Local\\Temp\\ipykernel_4492\\343835087.py:3: FutureWarning: Series.fillna with 'method' is deprecated and will raise in a future version. Use obj.ffill() or obj.bfill() instead.\n",
      "  data2[\"host_response_rate\"]=data2[\"host_response_rate\"].fillna(method=\"bfill\")\n"
     ]
    }
   ],
   "source": [
    "#Sexto método de sustitución de valores nulos\n",
    "#Sustituir valores nulos por valores no nulos hacia atrás backwards\n",
    "data2[\"host_response_rate\"]=data2[\"host_response_rate\"].fillna(method=\"bfill\")"
   ]
  },
  {
   "cell_type": "code",
   "execution_count": 19,
   "metadata": {},
   "outputs": [
    {
     "data": {
      "text/plain": [
       "last_scraped                       0\n",
       "name                               0\n",
       "description                        0\n",
       "neighborhood_overview              0\n",
       "host_location                      0\n",
       "host_response_time                 0\n",
       "host_response_rate                 0\n",
       "host_acceptance_rate            2869\n",
       "host_is_superhost               1509\n",
       "host_verifications                 0\n",
       "host_has_profile_pic               0\n",
       "host_identity_verified             0\n",
       "neighbourhood                  10895\n",
       "neighbourhood_cleansed             0\n",
       "latitude                           0\n",
       "longitude                          0\n",
       "property_type                      0\n",
       "room_type                          0\n",
       "accommodates                       0\n",
       "bathrooms                       2915\n",
       "bathrooms_text                    26\n",
       "bedrooms                         866\n",
       "beds                            2953\n",
       "amenities                          0\n",
       "price                           2927\n",
       "minimum_nights                     0\n",
       "maximum_nights                     0\n",
       "minimum_minimum_nights             0\n",
       "maximum_minimum_nights             0\n",
       "minimum_maximum_nights             0\n",
       "maximum_maximum_nights             0\n",
       "minimum_nights_avg_ntm             0\n",
       "maximum_nights_avg_ntm             0\n",
       "calendar_updated               26582\n",
       "has_availability                1008\n",
       "availability_30                    0\n",
       "availability_60                    0\n",
       "availability_90                    0\n",
       "availability_365                   0\n",
       "number_of_reviews                  0\n",
       "number_of_reviews_ltm              0\n",
       "number_of_reviews_l30d             0\n",
       "last_review                     3656\n",
       "review_scores_rating            3656\n",
       "review_scores_cleanliness       3657\n",
       "review_scores_checkin           3657\n",
       "review_scores_communication     3657\n",
       "review_scores_location          3657\n",
       "review_scores_value             3657\n",
       "instant_bookable                   0\n",
       "reviews_per_month               3656\n",
       "dtype: int64"
      ]
     },
     "execution_count": 19,
     "metadata": {},
     "output_type": "execute_result"
    }
   ],
   "source": [
    "valores_nulos=data2.isnull().sum()          \n",
    "valores_nulos"
   ]
  },
  {
   "cell_type": "code",
   "execution_count": 20,
   "metadata": {},
   "outputs": [],
   "source": [
    "#Cuarto método de sustitución de valores nulos\n",
    "#Sustituir valores nulos por un string en concreto\n",
    "data2[\"host_acceptance_rate\"]=data2[\"host_acceptance_rate\"].fillna(\"Without information\")"
   ]
  },
  {
   "cell_type": "code",
   "execution_count": 21,
   "metadata": {},
   "outputs": [
    {
     "data": {
      "text/plain": [
       "last_scraped                       0\n",
       "name                               0\n",
       "description                        0\n",
       "neighborhood_overview              0\n",
       "host_location                      0\n",
       "host_response_time                 0\n",
       "host_response_rate                 0\n",
       "host_acceptance_rate               0\n",
       "host_is_superhost               1509\n",
       "host_verifications                 0\n",
       "host_has_profile_pic               0\n",
       "host_identity_verified             0\n",
       "neighbourhood                  10895\n",
       "neighbourhood_cleansed             0\n",
       "latitude                           0\n",
       "longitude                          0\n",
       "property_type                      0\n",
       "room_type                          0\n",
       "accommodates                       0\n",
       "bathrooms                       2915\n",
       "bathrooms_text                    26\n",
       "bedrooms                         866\n",
       "beds                            2953\n",
       "amenities                          0\n",
       "price                           2927\n",
       "minimum_nights                     0\n",
       "maximum_nights                     0\n",
       "minimum_minimum_nights             0\n",
       "maximum_minimum_nights             0\n",
       "minimum_maximum_nights             0\n",
       "maximum_maximum_nights             0\n",
       "minimum_nights_avg_ntm             0\n",
       "maximum_nights_avg_ntm             0\n",
       "calendar_updated               26582\n",
       "has_availability                1008\n",
       "availability_30                    0\n",
       "availability_60                    0\n",
       "availability_90                    0\n",
       "availability_365                   0\n",
       "number_of_reviews                  0\n",
       "number_of_reviews_ltm              0\n",
       "number_of_reviews_l30d             0\n",
       "last_review                     3656\n",
       "review_scores_rating            3656\n",
       "review_scores_cleanliness       3657\n",
       "review_scores_checkin           3657\n",
       "review_scores_communication     3657\n",
       "review_scores_location          3657\n",
       "review_scores_value             3657\n",
       "instant_bookable                   0\n",
       "reviews_per_month               3656\n",
       "dtype: int64"
      ]
     },
     "execution_count": 21,
     "metadata": {},
     "output_type": "execute_result"
    }
   ],
   "source": [
    "valores_nulos=data2.isnull().sum()          \n",
    "valores_nulos"
   ]
  },
  {
   "cell_type": "code",
   "execution_count": 22,
   "metadata": {},
   "outputs": [
    {
     "name": "stderr",
     "output_type": "stream",
     "text": [
      "C:\\Users\\lapep\\AppData\\Local\\Temp\\ipykernel_4492\\4228744121.py:3: FutureWarning: Series.fillna with 'method' is deprecated and will raise in a future version. Use obj.ffill() or obj.bfill() instead.\n",
      "  data2[\"host_is_superhost\"]=data2[\"host_is_superhost\"].fillna(method=\"ffill\")\n"
     ]
    }
   ],
   "source": [
    "#Quinto método de sustitución de valores nulos\n",
    "#Sustituir valores nulos por valores no nulos hacia adelante \"forward fill\"(\"ffill\")\n",
    "data2[\"host_is_superhost\"]=data2[\"host_is_superhost\"].fillna(method=\"ffill\")"
   ]
  },
  {
   "cell_type": "code",
   "execution_count": 23,
   "metadata": {},
   "outputs": [
    {
     "data": {
      "text/plain": [
       "last_scraped                       0\n",
       "name                               0\n",
       "description                        0\n",
       "neighborhood_overview              0\n",
       "host_location                      0\n",
       "host_response_time                 0\n",
       "host_response_rate                 0\n",
       "host_acceptance_rate               0\n",
       "host_is_superhost                  0\n",
       "host_verifications                 0\n",
       "host_has_profile_pic               0\n",
       "host_identity_verified             0\n",
       "neighbourhood                  10895\n",
       "neighbourhood_cleansed             0\n",
       "latitude                           0\n",
       "longitude                          0\n",
       "property_type                      0\n",
       "room_type                          0\n",
       "accommodates                       0\n",
       "bathrooms                       2915\n",
       "bathrooms_text                    26\n",
       "bedrooms                         866\n",
       "beds                            2953\n",
       "amenities                          0\n",
       "price                           2927\n",
       "minimum_nights                     0\n",
       "maximum_nights                     0\n",
       "minimum_minimum_nights             0\n",
       "maximum_minimum_nights             0\n",
       "minimum_maximum_nights             0\n",
       "maximum_maximum_nights             0\n",
       "minimum_nights_avg_ntm             0\n",
       "maximum_nights_avg_ntm             0\n",
       "calendar_updated               26582\n",
       "has_availability                1008\n",
       "availability_30                    0\n",
       "availability_60                    0\n",
       "availability_90                    0\n",
       "availability_365                   0\n",
       "number_of_reviews                  0\n",
       "number_of_reviews_ltm              0\n",
       "number_of_reviews_l30d             0\n",
       "last_review                     3656\n",
       "review_scores_rating            3656\n",
       "review_scores_cleanliness       3657\n",
       "review_scores_checkin           3657\n",
       "review_scores_communication     3657\n",
       "review_scores_location          3657\n",
       "review_scores_value             3657\n",
       "instant_bookable                   0\n",
       "reviews_per_month               3656\n",
       "dtype: int64"
      ]
     },
     "execution_count": 23,
     "metadata": {},
     "output_type": "execute_result"
    }
   ],
   "source": [
    "valores_nulos=data2.isnull().sum()          \n",
    "valores_nulos"
   ]
  },
  {
   "cell_type": "code",
   "execution_count": 24,
   "metadata": {},
   "outputs": [],
   "source": [
    "#Cuarto método de sustitución de valores nulos\n",
    "#Sustituir valores nulos por un string en concreto\n",
    "data2[\"neighbourhood\"]=data2[\"neighbourhood\"].fillna(\"Not available\")"
   ]
  },
  {
   "cell_type": "code",
   "execution_count": 25,
   "metadata": {},
   "outputs": [
    {
     "data": {
      "text/plain": [
       "last_scraped                       0\n",
       "name                               0\n",
       "description                        0\n",
       "neighborhood_overview              0\n",
       "host_location                      0\n",
       "host_response_time                 0\n",
       "host_response_rate                 0\n",
       "host_acceptance_rate               0\n",
       "host_is_superhost                  0\n",
       "host_verifications                 0\n",
       "host_has_profile_pic               0\n",
       "host_identity_verified             0\n",
       "neighbourhood                      0\n",
       "neighbourhood_cleansed             0\n",
       "latitude                           0\n",
       "longitude                          0\n",
       "property_type                      0\n",
       "room_type                          0\n",
       "accommodates                       0\n",
       "bathrooms                       2915\n",
       "bathrooms_text                    26\n",
       "bedrooms                         866\n",
       "beds                            2953\n",
       "amenities                          0\n",
       "price                           2927\n",
       "minimum_nights                     0\n",
       "maximum_nights                     0\n",
       "minimum_minimum_nights             0\n",
       "maximum_minimum_nights             0\n",
       "minimum_maximum_nights             0\n",
       "maximum_maximum_nights             0\n",
       "minimum_nights_avg_ntm             0\n",
       "maximum_nights_avg_ntm             0\n",
       "calendar_updated               26582\n",
       "has_availability                1008\n",
       "availability_30                    0\n",
       "availability_60                    0\n",
       "availability_90                    0\n",
       "availability_365                   0\n",
       "number_of_reviews                  0\n",
       "number_of_reviews_ltm              0\n",
       "number_of_reviews_l30d             0\n",
       "last_review                     3656\n",
       "review_scores_rating            3656\n",
       "review_scores_cleanliness       3657\n",
       "review_scores_checkin           3657\n",
       "review_scores_communication     3657\n",
       "review_scores_location          3657\n",
       "review_scores_value             3657\n",
       "instant_bookable                   0\n",
       "reviews_per_month               3656\n",
       "dtype: int64"
      ]
     },
     "execution_count": 25,
     "metadata": {},
     "output_type": "execute_result"
    }
   ],
   "source": [
    "valores_nulos=data2.isnull().sum()          \n",
    "valores_nulos"
   ]
  },
  {
   "cell_type": "code",
   "execution_count": 26,
   "metadata": {},
   "outputs": [],
   "source": [
    "#Segundo método de sustitución de valores nulos\n",
    "#Sustituir valores nulos con mediana\n",
    "data2[\"bathrooms\"]=data2[\"bathrooms\"].fillna(round(data2[\"bathrooms\"].median(),1))"
   ]
  },
  {
   "cell_type": "code",
   "execution_count": 27,
   "metadata": {},
   "outputs": [
    {
     "data": {
      "text/plain": [
       "last_scraped                       0\n",
       "name                               0\n",
       "description                        0\n",
       "neighborhood_overview              0\n",
       "host_location                      0\n",
       "host_response_time                 0\n",
       "host_response_rate                 0\n",
       "host_acceptance_rate               0\n",
       "host_is_superhost                  0\n",
       "host_verifications                 0\n",
       "host_has_profile_pic               0\n",
       "host_identity_verified             0\n",
       "neighbourhood                      0\n",
       "neighbourhood_cleansed             0\n",
       "latitude                           0\n",
       "longitude                          0\n",
       "property_type                      0\n",
       "room_type                          0\n",
       "accommodates                       0\n",
       "bathrooms                          0\n",
       "bathrooms_text                    26\n",
       "bedrooms                         866\n",
       "beds                            2953\n",
       "amenities                          0\n",
       "price                           2927\n",
       "minimum_nights                     0\n",
       "maximum_nights                     0\n",
       "minimum_minimum_nights             0\n",
       "maximum_minimum_nights             0\n",
       "minimum_maximum_nights             0\n",
       "maximum_maximum_nights             0\n",
       "minimum_nights_avg_ntm             0\n",
       "maximum_nights_avg_ntm             0\n",
       "calendar_updated               26582\n",
       "has_availability                1008\n",
       "availability_30                    0\n",
       "availability_60                    0\n",
       "availability_90                    0\n",
       "availability_365                   0\n",
       "number_of_reviews                  0\n",
       "number_of_reviews_ltm              0\n",
       "number_of_reviews_l30d             0\n",
       "last_review                     3656\n",
       "review_scores_rating            3656\n",
       "review_scores_cleanliness       3657\n",
       "review_scores_checkin           3657\n",
       "review_scores_communication     3657\n",
       "review_scores_location          3657\n",
       "review_scores_value             3657\n",
       "instant_bookable                   0\n",
       "reviews_per_month               3656\n",
       "dtype: int64"
      ]
     },
     "execution_count": 27,
     "metadata": {},
     "output_type": "execute_result"
    }
   ],
   "source": [
    "valores_nulos=data2.isnull().sum()          \n",
    "valores_nulos"
   ]
  },
  {
   "cell_type": "code",
   "execution_count": 28,
   "metadata": {},
   "outputs": [
    {
     "name": "stderr",
     "output_type": "stream",
     "text": [
      "C:\\Users\\lapep\\AppData\\Local\\Temp\\ipykernel_4492\\1749104701.py:3: FutureWarning: Series.fillna with 'method' is deprecated and will raise in a future version. Use obj.ffill() or obj.bfill() instead.\n",
      "  data2[\"bathrooms_text\"]=data2[\"bathrooms_text\"].fillna(method=\"ffill\")\n"
     ]
    }
   ],
   "source": [
    "#Quinto método de sustitución de valores nulos\n",
    "#Sustituir valores nulos por valores no nulos hacia adelante \"forward fill\"(\"ffill\")\n",
    "data2[\"bathrooms_text\"]=data2[\"bathrooms_text\"].fillna(method=\"ffill\")"
   ]
  },
  {
   "cell_type": "code",
   "execution_count": 29,
   "metadata": {},
   "outputs": [
    {
     "data": {
      "text/plain": [
       "last_scraped                       0\n",
       "name                               0\n",
       "description                        0\n",
       "neighborhood_overview              0\n",
       "host_location                      0\n",
       "host_response_time                 0\n",
       "host_response_rate                 0\n",
       "host_acceptance_rate               0\n",
       "host_is_superhost                  0\n",
       "host_verifications                 0\n",
       "host_has_profile_pic               0\n",
       "host_identity_verified             0\n",
       "neighbourhood                      0\n",
       "neighbourhood_cleansed             0\n",
       "latitude                           0\n",
       "longitude                          0\n",
       "property_type                      0\n",
       "room_type                          0\n",
       "accommodates                       0\n",
       "bathrooms                          0\n",
       "bathrooms_text                     0\n",
       "bedrooms                         866\n",
       "beds                            2953\n",
       "amenities                          0\n",
       "price                           2927\n",
       "minimum_nights                     0\n",
       "maximum_nights                     0\n",
       "minimum_minimum_nights             0\n",
       "maximum_minimum_nights             0\n",
       "minimum_maximum_nights             0\n",
       "maximum_maximum_nights             0\n",
       "minimum_nights_avg_ntm             0\n",
       "maximum_nights_avg_ntm             0\n",
       "calendar_updated               26582\n",
       "has_availability                1008\n",
       "availability_30                    0\n",
       "availability_60                    0\n",
       "availability_90                    0\n",
       "availability_365                   0\n",
       "number_of_reviews                  0\n",
       "number_of_reviews_ltm              0\n",
       "number_of_reviews_l30d             0\n",
       "last_review                     3656\n",
       "review_scores_rating            3656\n",
       "review_scores_cleanliness       3657\n",
       "review_scores_checkin           3657\n",
       "review_scores_communication     3657\n",
       "review_scores_location          3657\n",
       "review_scores_value             3657\n",
       "instant_bookable                   0\n",
       "reviews_per_month               3656\n",
       "dtype: int64"
      ]
     },
     "execution_count": 29,
     "metadata": {},
     "output_type": "execute_result"
    }
   ],
   "source": [
    "valores_nulos=data2.isnull().sum()          \n",
    "valores_nulos"
   ]
  },
  {
   "cell_type": "code",
   "execution_count": 30,
   "metadata": {},
   "outputs": [],
   "source": [
    "#Primer método de sustitución de valores nulos\n",
    "#Sustituir valores nulos con promedio o media\n",
    "data2[\"bedrooms\"]=data2[\"bedrooms\"].fillna(round(data2[\"bedrooms\"].mean(),1))"
   ]
  },
  {
   "cell_type": "code",
   "execution_count": 31,
   "metadata": {},
   "outputs": [
    {
     "data": {
      "text/plain": [
       "last_scraped                       0\n",
       "name                               0\n",
       "description                        0\n",
       "neighborhood_overview              0\n",
       "host_location                      0\n",
       "host_response_time                 0\n",
       "host_response_rate                 0\n",
       "host_acceptance_rate               0\n",
       "host_is_superhost                  0\n",
       "host_verifications                 0\n",
       "host_has_profile_pic               0\n",
       "host_identity_verified             0\n",
       "neighbourhood                      0\n",
       "neighbourhood_cleansed             0\n",
       "latitude                           0\n",
       "longitude                          0\n",
       "property_type                      0\n",
       "room_type                          0\n",
       "accommodates                       0\n",
       "bathrooms                          0\n",
       "bathrooms_text                     0\n",
       "bedrooms                           0\n",
       "beds                            2953\n",
       "amenities                          0\n",
       "price                           2927\n",
       "minimum_nights                     0\n",
       "maximum_nights                     0\n",
       "minimum_minimum_nights             0\n",
       "maximum_minimum_nights             0\n",
       "minimum_maximum_nights             0\n",
       "maximum_maximum_nights             0\n",
       "minimum_nights_avg_ntm             0\n",
       "maximum_nights_avg_ntm             0\n",
       "calendar_updated               26582\n",
       "has_availability                1008\n",
       "availability_30                    0\n",
       "availability_60                    0\n",
       "availability_90                    0\n",
       "availability_365                   0\n",
       "number_of_reviews                  0\n",
       "number_of_reviews_ltm              0\n",
       "number_of_reviews_l30d             0\n",
       "last_review                     3656\n",
       "review_scores_rating            3656\n",
       "review_scores_cleanliness       3657\n",
       "review_scores_checkin           3657\n",
       "review_scores_communication     3657\n",
       "review_scores_location          3657\n",
       "review_scores_value             3657\n",
       "instant_bookable                   0\n",
       "reviews_per_month               3656\n",
       "dtype: int64"
      ]
     },
     "execution_count": 31,
     "metadata": {},
     "output_type": "execute_result"
    }
   ],
   "source": [
    "valores_nulos=data2.isnull().sum()          \n",
    "valores_nulos"
   ]
  },
  {
   "cell_type": "code",
   "execution_count": 32,
   "metadata": {},
   "outputs": [],
   "source": [
    "#Primer método de sustitución de valores nulos\n",
    "#Sustituir valores nulos con promedio o media\n",
    "data2[\"beds\"]=data2[\"beds\"].fillna(round(data2[\"beds\"].mean(),1))"
   ]
  },
  {
   "cell_type": "code",
   "execution_count": 33,
   "metadata": {},
   "outputs": [
    {
     "data": {
      "text/plain": [
       "last_scraped                       0\n",
       "name                               0\n",
       "description                        0\n",
       "neighborhood_overview              0\n",
       "host_location                      0\n",
       "host_response_time                 0\n",
       "host_response_rate                 0\n",
       "host_acceptance_rate               0\n",
       "host_is_superhost                  0\n",
       "host_verifications                 0\n",
       "host_has_profile_pic               0\n",
       "host_identity_verified             0\n",
       "neighbourhood                      0\n",
       "neighbourhood_cleansed             0\n",
       "latitude                           0\n",
       "longitude                          0\n",
       "property_type                      0\n",
       "room_type                          0\n",
       "accommodates                       0\n",
       "bathrooms                          0\n",
       "bathrooms_text                     0\n",
       "bedrooms                           0\n",
       "beds                               0\n",
       "amenities                          0\n",
       "price                           2927\n",
       "minimum_nights                     0\n",
       "maximum_nights                     0\n",
       "minimum_minimum_nights             0\n",
       "maximum_minimum_nights             0\n",
       "minimum_maximum_nights             0\n",
       "maximum_maximum_nights             0\n",
       "minimum_nights_avg_ntm             0\n",
       "maximum_nights_avg_ntm             0\n",
       "calendar_updated               26582\n",
       "has_availability                1008\n",
       "availability_30                    0\n",
       "availability_60                    0\n",
       "availability_90                    0\n",
       "availability_365                   0\n",
       "number_of_reviews                  0\n",
       "number_of_reviews_ltm              0\n",
       "number_of_reviews_l30d             0\n",
       "last_review                     3656\n",
       "review_scores_rating            3656\n",
       "review_scores_cleanliness       3657\n",
       "review_scores_checkin           3657\n",
       "review_scores_communication     3657\n",
       "review_scores_location          3657\n",
       "review_scores_value             3657\n",
       "instant_bookable                   0\n",
       "reviews_per_month               3656\n",
       "dtype: int64"
      ]
     },
     "execution_count": 33,
     "metadata": {},
     "output_type": "execute_result"
    }
   ],
   "source": [
    "valores_nulos=data2.isnull().sum()          \n",
    "valores_nulos"
   ]
  },
  {
   "cell_type": "code",
   "execution_count": 34,
   "metadata": {},
   "outputs": [],
   "source": [
    "#Cuarto método de sustitución de valores nulos\n",
    "#Sustituir valores nulos por un string en concreto\n",
    "data2[\"price\"]=data2[\"price\"].fillna(\"Does not say\")"
   ]
  },
  {
   "cell_type": "code",
   "execution_count": 35,
   "metadata": {},
   "outputs": [
    {
     "data": {
      "text/plain": [
       "last_scraped                       0\n",
       "name                               0\n",
       "description                        0\n",
       "neighborhood_overview              0\n",
       "host_location                      0\n",
       "host_response_time                 0\n",
       "host_response_rate                 0\n",
       "host_acceptance_rate               0\n",
       "host_is_superhost                  0\n",
       "host_verifications                 0\n",
       "host_has_profile_pic               0\n",
       "host_identity_verified             0\n",
       "neighbourhood                      0\n",
       "neighbourhood_cleansed             0\n",
       "latitude                           0\n",
       "longitude                          0\n",
       "property_type                      0\n",
       "room_type                          0\n",
       "accommodates                       0\n",
       "bathrooms                          0\n",
       "bathrooms_text                     0\n",
       "bedrooms                           0\n",
       "beds                               0\n",
       "amenities                          0\n",
       "price                              0\n",
       "minimum_nights                     0\n",
       "maximum_nights                     0\n",
       "minimum_minimum_nights             0\n",
       "maximum_minimum_nights             0\n",
       "minimum_maximum_nights             0\n",
       "maximum_maximum_nights             0\n",
       "minimum_nights_avg_ntm             0\n",
       "maximum_nights_avg_ntm             0\n",
       "calendar_updated               26582\n",
       "has_availability                1008\n",
       "availability_30                    0\n",
       "availability_60                    0\n",
       "availability_90                    0\n",
       "availability_365                   0\n",
       "number_of_reviews                  0\n",
       "number_of_reviews_ltm              0\n",
       "number_of_reviews_l30d             0\n",
       "last_review                     3656\n",
       "review_scores_rating            3656\n",
       "review_scores_cleanliness       3657\n",
       "review_scores_checkin           3657\n",
       "review_scores_communication     3657\n",
       "review_scores_location          3657\n",
       "review_scores_value             3657\n",
       "instant_bookable                   0\n",
       "reviews_per_month               3656\n",
       "dtype: int64"
      ]
     },
     "execution_count": 35,
     "metadata": {},
     "output_type": "execute_result"
    }
   ],
   "source": [
    "valores_nulos=data2.isnull().sum()          \n",
    "valores_nulos"
   ]
  },
  {
   "cell_type": "code",
   "execution_count": null,
   "metadata": {},
   "outputs": [],
   "source": [
    "#Cuarto método de sustitución de valores nulos\n",
    "#Sustituir valores nulos por un string en concreto\n",
    "data2[\"review_scores_location\"]=data2[\"review_scores_location\"].fillna(\"Does not say\")"
   ]
  },
  {
   "cell_type": "code",
   "execution_count": 41,
   "metadata": {},
   "outputs": [
    {
     "data": {
      "text/plain": [
       "last_scraped                       0\n",
       "name                               0\n",
       "description                        0\n",
       "neighborhood_overview              0\n",
       "host_location                      0\n",
       "host_response_time                 0\n",
       "host_response_rate                 0\n",
       "host_acceptance_rate               0\n",
       "host_is_superhost                  0\n",
       "host_verifications                 0\n",
       "host_has_profile_pic               0\n",
       "host_identity_verified             0\n",
       "neighbourhood                      0\n",
       "neighbourhood_cleansed             0\n",
       "latitude                           0\n",
       "longitude                          0\n",
       "property_type                      0\n",
       "room_type                          0\n",
       "accommodates                       0\n",
       "bathrooms                          0\n",
       "bathrooms_text                     0\n",
       "bedrooms                           0\n",
       "beds                               0\n",
       "amenities                          0\n",
       "price                              0\n",
       "minimum_nights                     0\n",
       "maximum_nights                     0\n",
       "minimum_minimum_nights             0\n",
       "maximum_minimum_nights             0\n",
       "minimum_maximum_nights             0\n",
       "maximum_maximum_nights             0\n",
       "minimum_nights_avg_ntm             0\n",
       "maximum_nights_avg_ntm             0\n",
       "calendar_updated               26582\n",
       "has_availability                1008\n",
       "availability_30                    0\n",
       "availability_60                    0\n",
       "availability_90                    0\n",
       "availability_365                   0\n",
       "number_of_reviews                  0\n",
       "number_of_reviews_ltm              0\n",
       "number_of_reviews_l30d             0\n",
       "last_review                     3656\n",
       "review_scores_rating            3656\n",
       "review_scores_cleanliness       3657\n",
       "review_scores_checkin           3657\n",
       "review_scores_communication     3657\n",
       "review_scores_location             0\n",
       "review_scores_value             3657\n",
       "instant_bookable                   0\n",
       "reviews_per_month               3656\n",
       "dtype: int64"
      ]
     },
     "execution_count": 41,
     "metadata": {},
     "output_type": "execute_result"
    }
   ],
   "source": [
    "valores_nulos=data2.isnull().sum()          \n",
    "valores_nulos"
   ]
  },
  {
   "cell_type": "code",
   "execution_count": 42,
   "metadata": {},
   "outputs": [],
   "source": [
    "#Cuarto método de sustitución de valores nulos\n",
    "#Sustituir valores nulos por un string en concreto\n",
    "data2[\"review_scores_value\"]=data2[\"review_scores_value\"].fillna(\"Does not say\")"
   ]
  },
  {
   "cell_type": "code",
   "execution_count": 43,
   "metadata": {},
   "outputs": [
    {
     "data": {
      "text/plain": [
       "last_scraped                       0\n",
       "name                               0\n",
       "description                        0\n",
       "neighborhood_overview              0\n",
       "host_location                      0\n",
       "host_response_time                 0\n",
       "host_response_rate                 0\n",
       "host_acceptance_rate               0\n",
       "host_is_superhost                  0\n",
       "host_verifications                 0\n",
       "host_has_profile_pic               0\n",
       "host_identity_verified             0\n",
       "neighbourhood                      0\n",
       "neighbourhood_cleansed             0\n",
       "latitude                           0\n",
       "longitude                          0\n",
       "property_type                      0\n",
       "room_type                          0\n",
       "accommodates                       0\n",
       "bathrooms                          0\n",
       "bathrooms_text                     0\n",
       "bedrooms                           0\n",
       "beds                               0\n",
       "amenities                          0\n",
       "price                              0\n",
       "minimum_nights                     0\n",
       "maximum_nights                     0\n",
       "minimum_minimum_nights             0\n",
       "maximum_minimum_nights             0\n",
       "minimum_maximum_nights             0\n",
       "maximum_maximum_nights             0\n",
       "minimum_nights_avg_ntm             0\n",
       "maximum_nights_avg_ntm             0\n",
       "calendar_updated               26582\n",
       "has_availability                1008\n",
       "availability_30                    0\n",
       "availability_60                    0\n",
       "availability_90                    0\n",
       "availability_365                   0\n",
       "number_of_reviews                  0\n",
       "number_of_reviews_ltm              0\n",
       "number_of_reviews_l30d             0\n",
       "last_review                     3656\n",
       "review_scores_rating            3656\n",
       "review_scores_cleanliness       3657\n",
       "review_scores_checkin           3657\n",
       "review_scores_communication     3657\n",
       "review_scores_location             0\n",
       "review_scores_value                0\n",
       "instant_bookable                   0\n",
       "reviews_per_month               3656\n",
       "dtype: int64"
      ]
     },
     "execution_count": 43,
     "metadata": {},
     "output_type": "execute_result"
    }
   ],
   "source": [
    "valores_nulos=data2.isnull().sum()          \n",
    "valores_nulos"
   ]
  },
  {
   "cell_type": "code",
   "execution_count": 44,
   "metadata": {},
   "outputs": [],
   "source": [
    "#Cuarto método de sustitución de valores nulos\n",
    "#Sustituir valores nulos por un string en concreto\n",
    "data2[\"reviews_per_month\"]=data2[\"reviews_per_month\"].fillna(\"Does not say\")"
   ]
  },
  {
   "cell_type": "code",
   "execution_count": 45,
   "metadata": {},
   "outputs": [
    {
     "data": {
      "text/plain": [
       "last_scraped                       0\n",
       "name                               0\n",
       "description                        0\n",
       "neighborhood_overview              0\n",
       "host_location                      0\n",
       "host_response_time                 0\n",
       "host_response_rate                 0\n",
       "host_acceptance_rate               0\n",
       "host_is_superhost                  0\n",
       "host_verifications                 0\n",
       "host_has_profile_pic               0\n",
       "host_identity_verified             0\n",
       "neighbourhood                      0\n",
       "neighbourhood_cleansed             0\n",
       "latitude                           0\n",
       "longitude                          0\n",
       "property_type                      0\n",
       "room_type                          0\n",
       "accommodates                       0\n",
       "bathrooms                          0\n",
       "bathrooms_text                     0\n",
       "bedrooms                           0\n",
       "beds                               0\n",
       "amenities                          0\n",
       "price                              0\n",
       "minimum_nights                     0\n",
       "maximum_nights                     0\n",
       "minimum_minimum_nights             0\n",
       "maximum_minimum_nights             0\n",
       "minimum_maximum_nights             0\n",
       "maximum_maximum_nights             0\n",
       "minimum_nights_avg_ntm             0\n",
       "maximum_nights_avg_ntm             0\n",
       "calendar_updated               26582\n",
       "has_availability                1008\n",
       "availability_30                    0\n",
       "availability_60                    0\n",
       "availability_90                    0\n",
       "availability_365                   0\n",
       "number_of_reviews                  0\n",
       "number_of_reviews_ltm              0\n",
       "number_of_reviews_l30d             0\n",
       "last_review                     3656\n",
       "review_scores_rating            3656\n",
       "review_scores_cleanliness       3657\n",
       "review_scores_checkin           3657\n",
       "review_scores_communication     3657\n",
       "review_scores_location             0\n",
       "review_scores_value                0\n",
       "instant_bookable                   0\n",
       "reviews_per_month                  0\n",
       "dtype: int64"
      ]
     },
     "execution_count": 45,
     "metadata": {},
     "output_type": "execute_result"
    }
   ],
   "source": [
    "valores_nulos=data2.isnull().sum()          \n",
    "valores_nulos"
   ]
  },
  {
   "cell_type": "code",
   "execution_count": 46,
   "metadata": {},
   "outputs": [
    {
     "name": "stderr",
     "output_type": "stream",
     "text": [
      "C:\\Users\\lapep\\AppData\\Local\\Temp\\ipykernel_4492\\1794171787.py:3: FutureWarning: Series.fillna with 'method' is deprecated and will raise in a future version. Use obj.ffill() or obj.bfill() instead.\n",
      "  data2[\"minimum_minimum_nights\"]=data2[\"minimum_minimum_nights\"].fillna(method=\"ffill\")\n"
     ]
    }
   ],
   "source": [
    "#Quinto método de sustitución de valores nulos\n",
    "#Sustituir valores nulos por valores no nulos hacia adelante \"forward fill\"(\"ffill\")\n",
    "data2[\"minimum_minimum_nights\"]=data2[\"minimum_minimum_nights\"].fillna(method=\"ffill\")"
   ]
  },
  {
   "cell_type": "code",
   "execution_count": 47,
   "metadata": {},
   "outputs": [
    {
     "data": {
      "text/plain": [
       "last_scraped                       0\n",
       "name                               0\n",
       "description                        0\n",
       "neighborhood_overview              0\n",
       "host_location                      0\n",
       "host_response_time                 0\n",
       "host_response_rate                 0\n",
       "host_acceptance_rate               0\n",
       "host_is_superhost                  0\n",
       "host_verifications                 0\n",
       "host_has_profile_pic               0\n",
       "host_identity_verified             0\n",
       "neighbourhood                      0\n",
       "neighbourhood_cleansed             0\n",
       "latitude                           0\n",
       "longitude                          0\n",
       "property_type                      0\n",
       "room_type                          0\n",
       "accommodates                       0\n",
       "bathrooms                          0\n",
       "bathrooms_text                     0\n",
       "bedrooms                           0\n",
       "beds                               0\n",
       "amenities                          0\n",
       "price                              0\n",
       "minimum_nights                     0\n",
       "maximum_nights                     0\n",
       "minimum_minimum_nights             0\n",
       "maximum_minimum_nights             0\n",
       "minimum_maximum_nights             0\n",
       "maximum_maximum_nights             0\n",
       "minimum_nights_avg_ntm             0\n",
       "maximum_nights_avg_ntm             0\n",
       "calendar_updated               26582\n",
       "has_availability                1008\n",
       "availability_30                    0\n",
       "availability_60                    0\n",
       "availability_90                    0\n",
       "availability_365                   0\n",
       "number_of_reviews                  0\n",
       "number_of_reviews_ltm              0\n",
       "number_of_reviews_l30d             0\n",
       "last_review                     3656\n",
       "review_scores_rating            3656\n",
       "review_scores_cleanliness       3657\n",
       "review_scores_checkin           3657\n",
       "review_scores_communication     3657\n",
       "review_scores_location             0\n",
       "review_scores_value                0\n",
       "instant_bookable                   0\n",
       "reviews_per_month                  0\n",
       "dtype: int64"
      ]
     },
     "execution_count": 47,
     "metadata": {},
     "output_type": "execute_result"
    }
   ],
   "source": [
    "valores_nulos=data2.isnull().sum()          \n",
    "valores_nulos"
   ]
  },
  {
   "cell_type": "code",
   "execution_count": 48,
   "metadata": {},
   "outputs": [
    {
     "name": "stderr",
     "output_type": "stream",
     "text": [
      "C:\\Users\\lapep\\AppData\\Local\\Temp\\ipykernel_4492\\1125925491.py:3: FutureWarning: Series.fillna with 'method' is deprecated and will raise in a future version. Use obj.ffill() or obj.bfill() instead.\n",
      "  data2[\"maximum_minimum_nights\"]=data2[\"maximum_minimum_nights\"].fillna(method=\"bfill\")\n"
     ]
    }
   ],
   "source": [
    "#Sexto método de sustitución de valores nulos\n",
    "#Sustituir valores nulos por valores no nulos hacia atrás backwards\n",
    "data2[\"maximum_minimum_nights\"]=data2[\"maximum_minimum_nights\"].fillna(method=\"bfill\")"
   ]
  },
  {
   "cell_type": "code",
   "execution_count": 49,
   "metadata": {},
   "outputs": [
    {
     "data": {
      "text/plain": [
       "last_scraped                       0\n",
       "name                               0\n",
       "description                        0\n",
       "neighborhood_overview              0\n",
       "host_location                      0\n",
       "host_response_time                 0\n",
       "host_response_rate                 0\n",
       "host_acceptance_rate               0\n",
       "host_is_superhost                  0\n",
       "host_verifications                 0\n",
       "host_has_profile_pic               0\n",
       "host_identity_verified             0\n",
       "neighbourhood                      0\n",
       "neighbourhood_cleansed             0\n",
       "latitude                           0\n",
       "longitude                          0\n",
       "property_type                      0\n",
       "room_type                          0\n",
       "accommodates                       0\n",
       "bathrooms                          0\n",
       "bathrooms_text                     0\n",
       "bedrooms                           0\n",
       "beds                               0\n",
       "amenities                          0\n",
       "price                              0\n",
       "minimum_nights                     0\n",
       "maximum_nights                     0\n",
       "minimum_minimum_nights             0\n",
       "maximum_minimum_nights             0\n",
       "minimum_maximum_nights             0\n",
       "maximum_maximum_nights             0\n",
       "minimum_nights_avg_ntm             0\n",
       "maximum_nights_avg_ntm             0\n",
       "calendar_updated               26582\n",
       "has_availability                1008\n",
       "availability_30                    0\n",
       "availability_60                    0\n",
       "availability_90                    0\n",
       "availability_365                   0\n",
       "number_of_reviews                  0\n",
       "number_of_reviews_ltm              0\n",
       "number_of_reviews_l30d             0\n",
       "last_review                     3656\n",
       "review_scores_rating            3656\n",
       "review_scores_cleanliness       3657\n",
       "review_scores_checkin           3657\n",
       "review_scores_communication     3657\n",
       "review_scores_location             0\n",
       "review_scores_value                0\n",
       "instant_bookable                   0\n",
       "reviews_per_month                  0\n",
       "dtype: int64"
      ]
     },
     "execution_count": 49,
     "metadata": {},
     "output_type": "execute_result"
    }
   ],
   "source": [
    "valores_nulos=data2.isnull().sum()          \n",
    "valores_nulos"
   ]
  },
  {
   "cell_type": "code",
   "execution_count": 50,
   "metadata": {},
   "outputs": [
    {
     "name": "stderr",
     "output_type": "stream",
     "text": [
      "C:\\Users\\lapep\\AppData\\Local\\Temp\\ipykernel_4492\\3658705434.py:3: FutureWarning: Series.fillna with 'method' is deprecated and will raise in a future version. Use obj.ffill() or obj.bfill() instead.\n",
      "  data2[\"minimum_maximum_nights\"]=data2[\"minimum_maximum_nights\"].fillna(method=\"bfill\")\n"
     ]
    }
   ],
   "source": [
    "#Sexto método de sustitución de valores nulos\n",
    "#Sustituir valores nulos por valores no nulos hacia atrás backwards\n",
    "data2[\"minimum_maximum_nights\"]=data2[\"minimum_maximum_nights\"].fillna(method=\"bfill\")"
   ]
  },
  {
   "cell_type": "code",
   "execution_count": 51,
   "metadata": {},
   "outputs": [
    {
     "data": {
      "text/plain": [
       "last_scraped                       0\n",
       "name                               0\n",
       "description                        0\n",
       "neighborhood_overview              0\n",
       "host_location                      0\n",
       "host_response_time                 0\n",
       "host_response_rate                 0\n",
       "host_acceptance_rate               0\n",
       "host_is_superhost                  0\n",
       "host_verifications                 0\n",
       "host_has_profile_pic               0\n",
       "host_identity_verified             0\n",
       "neighbourhood                      0\n",
       "neighbourhood_cleansed             0\n",
       "latitude                           0\n",
       "longitude                          0\n",
       "property_type                      0\n",
       "room_type                          0\n",
       "accommodates                       0\n",
       "bathrooms                          0\n",
       "bathrooms_text                     0\n",
       "bedrooms                           0\n",
       "beds                               0\n",
       "amenities                          0\n",
       "price                              0\n",
       "minimum_nights                     0\n",
       "maximum_nights                     0\n",
       "minimum_minimum_nights             0\n",
       "maximum_minimum_nights             0\n",
       "minimum_maximum_nights             0\n",
       "maximum_maximum_nights             0\n",
       "minimum_nights_avg_ntm             0\n",
       "maximum_nights_avg_ntm             0\n",
       "calendar_updated               26582\n",
       "has_availability                1008\n",
       "availability_30                    0\n",
       "availability_60                    0\n",
       "availability_90                    0\n",
       "availability_365                   0\n",
       "number_of_reviews                  0\n",
       "number_of_reviews_ltm              0\n",
       "number_of_reviews_l30d             0\n",
       "last_review                     3656\n",
       "review_scores_rating            3656\n",
       "review_scores_cleanliness       3657\n",
       "review_scores_checkin           3657\n",
       "review_scores_communication     3657\n",
       "review_scores_location             0\n",
       "review_scores_value                0\n",
       "instant_bookable                   0\n",
       "reviews_per_month                  0\n",
       "dtype: int64"
      ]
     },
     "execution_count": 51,
     "metadata": {},
     "output_type": "execute_result"
    }
   ],
   "source": [
    "valores_nulos=data2.isnull().sum()          \n",
    "valores_nulos"
   ]
  },
  {
   "cell_type": "code",
   "execution_count": 52,
   "metadata": {},
   "outputs": [
    {
     "name": "stderr",
     "output_type": "stream",
     "text": [
      "C:\\Users\\lapep\\AppData\\Local\\Temp\\ipykernel_4492\\1794171787.py:3: FutureWarning: Series.fillna with 'method' is deprecated and will raise in a future version. Use obj.ffill() or obj.bfill() instead.\n",
      "  data2[\"minimum_minimum_nights\"]=data2[\"minimum_minimum_nights\"].fillna(method=\"ffill\")\n"
     ]
    }
   ],
   "source": [
    "#Quinto método de sustitución de valores nulos\n",
    "#Sustituir valores nulos por valores no nulos hacia adelante \"forward fill\"(\"ffill\")\n",
    "data2[\"minimum_minimum_nights\"]=data2[\"minimum_minimum_nights\"].fillna(method=\"ffill\")"
   ]
  },
  {
   "cell_type": "code",
   "execution_count": 53,
   "metadata": {},
   "outputs": [
    {
     "data": {
      "text/plain": [
       "last_scraped                       0\n",
       "name                               0\n",
       "description                        0\n",
       "neighborhood_overview              0\n",
       "host_location                      0\n",
       "host_response_time                 0\n",
       "host_response_rate                 0\n",
       "host_acceptance_rate               0\n",
       "host_is_superhost                  0\n",
       "host_verifications                 0\n",
       "host_has_profile_pic               0\n",
       "host_identity_verified             0\n",
       "neighbourhood                      0\n",
       "neighbourhood_cleansed             0\n",
       "latitude                           0\n",
       "longitude                          0\n",
       "property_type                      0\n",
       "room_type                          0\n",
       "accommodates                       0\n",
       "bathrooms                          0\n",
       "bathrooms_text                     0\n",
       "bedrooms                           0\n",
       "beds                               0\n",
       "amenities                          0\n",
       "price                              0\n",
       "minimum_nights                     0\n",
       "maximum_nights                     0\n",
       "minimum_minimum_nights             0\n",
       "maximum_minimum_nights             0\n",
       "minimum_maximum_nights             0\n",
       "maximum_maximum_nights             0\n",
       "minimum_nights_avg_ntm             0\n",
       "maximum_nights_avg_ntm             0\n",
       "calendar_updated               26582\n",
       "has_availability                1008\n",
       "availability_30                    0\n",
       "availability_60                    0\n",
       "availability_90                    0\n",
       "availability_365                   0\n",
       "number_of_reviews                  0\n",
       "number_of_reviews_ltm              0\n",
       "number_of_reviews_l30d             0\n",
       "last_review                     3656\n",
       "review_scores_rating            3656\n",
       "review_scores_cleanliness       3657\n",
       "review_scores_checkin           3657\n",
       "review_scores_communication     3657\n",
       "review_scores_location             0\n",
       "review_scores_value                0\n",
       "instant_bookable                   0\n",
       "reviews_per_month                  0\n",
       "dtype: int64"
      ]
     },
     "execution_count": 53,
     "metadata": {},
     "output_type": "execute_result"
    }
   ],
   "source": [
    "valores_nulos=data2.isnull().sum()          \n",
    "valores_nulos"
   ]
  },
  {
   "cell_type": "code",
   "execution_count": 54,
   "metadata": {},
   "outputs": [
    {
     "name": "stderr",
     "output_type": "stream",
     "text": [
      "C:\\Users\\lapep\\AppData\\Local\\Temp\\ipykernel_4492\\417671857.py:3: FutureWarning: Series.fillna with 'method' is deprecated and will raise in a future version. Use obj.ffill() or obj.bfill() instead.\n",
      "  data2[\"maximum_maximum_nights\"]=data2[\"maximum_maximum_nights\"].fillna(method=\"ffill\")\n"
     ]
    }
   ],
   "source": [
    "#Quinto método de sustitución de valores nulos\n",
    "#Sustituir valores nulos por valores no nulos hacia adelante \"forward fill\"(\"ffill\")\n",
    "data2[\"maximum_maximum_nights\"]=data2[\"maximum_maximum_nights\"].fillna(method=\"ffill\")"
   ]
  },
  {
   "cell_type": "code",
   "execution_count": 55,
   "metadata": {},
   "outputs": [
    {
     "data": {
      "text/plain": [
       "last_scraped                       0\n",
       "name                               0\n",
       "description                        0\n",
       "neighborhood_overview              0\n",
       "host_location                      0\n",
       "host_response_time                 0\n",
       "host_response_rate                 0\n",
       "host_acceptance_rate               0\n",
       "host_is_superhost                  0\n",
       "host_verifications                 0\n",
       "host_has_profile_pic               0\n",
       "host_identity_verified             0\n",
       "neighbourhood                      0\n",
       "neighbourhood_cleansed             0\n",
       "latitude                           0\n",
       "longitude                          0\n",
       "property_type                      0\n",
       "room_type                          0\n",
       "accommodates                       0\n",
       "bathrooms                          0\n",
       "bathrooms_text                     0\n",
       "bedrooms                           0\n",
       "beds                               0\n",
       "amenities                          0\n",
       "price                              0\n",
       "minimum_nights                     0\n",
       "maximum_nights                     0\n",
       "minimum_minimum_nights             0\n",
       "maximum_minimum_nights             0\n",
       "minimum_maximum_nights             0\n",
       "maximum_maximum_nights             0\n",
       "minimum_nights_avg_ntm             0\n",
       "maximum_nights_avg_ntm             0\n",
       "calendar_updated               26582\n",
       "has_availability                1008\n",
       "availability_30                    0\n",
       "availability_60                    0\n",
       "availability_90                    0\n",
       "availability_365                   0\n",
       "number_of_reviews                  0\n",
       "number_of_reviews_ltm              0\n",
       "number_of_reviews_l30d             0\n",
       "last_review                     3656\n",
       "review_scores_rating            3656\n",
       "review_scores_cleanliness       3657\n",
       "review_scores_checkin           3657\n",
       "review_scores_communication     3657\n",
       "review_scores_location             0\n",
       "review_scores_value                0\n",
       "instant_bookable                   0\n",
       "reviews_per_month                  0\n",
       "dtype: int64"
      ]
     },
     "execution_count": 55,
     "metadata": {},
     "output_type": "execute_result"
    }
   ],
   "source": [
    "valores_nulos=data2.isnull().sum()          \n",
    "valores_nulos"
   ]
  },
  {
   "cell_type": "code",
   "execution_count": 56,
   "metadata": {},
   "outputs": [
    {
     "name": "stderr",
     "output_type": "stream",
     "text": [
      "C:\\Users\\lapep\\AppData\\Local\\Temp\\ipykernel_4492\\3706120427.py:3: FutureWarning: Series.fillna with 'method' is deprecated and will raise in a future version. Use obj.ffill() or obj.bfill() instead.\n",
      "  data2[\"minimum_nights_avg_ntm\"]=data2[\"minimum_nights_avg_ntm\"].fillna(method=\"ffill\")\n"
     ]
    }
   ],
   "source": [
    "#Quinto método de sustitución de valores nulos\n",
    "#Sustituir valores nulos por valores no nulos hacia adelante \"forward fill\"(\"ffill\")\n",
    "data2[\"minimum_nights_avg_ntm\"]=data2[\"minimum_nights_avg_ntm\"].fillna(method=\"ffill\")"
   ]
  },
  {
   "cell_type": "code",
   "execution_count": 57,
   "metadata": {},
   "outputs": [
    {
     "data": {
      "text/plain": [
       "last_scraped                       0\n",
       "name                               0\n",
       "description                        0\n",
       "neighborhood_overview              0\n",
       "host_location                      0\n",
       "host_response_time                 0\n",
       "host_response_rate                 0\n",
       "host_acceptance_rate               0\n",
       "host_is_superhost                  0\n",
       "host_verifications                 0\n",
       "host_has_profile_pic               0\n",
       "host_identity_verified             0\n",
       "neighbourhood                      0\n",
       "neighbourhood_cleansed             0\n",
       "latitude                           0\n",
       "longitude                          0\n",
       "property_type                      0\n",
       "room_type                          0\n",
       "accommodates                       0\n",
       "bathrooms                          0\n",
       "bathrooms_text                     0\n",
       "bedrooms                           0\n",
       "beds                               0\n",
       "amenities                          0\n",
       "price                              0\n",
       "minimum_nights                     0\n",
       "maximum_nights                     0\n",
       "minimum_minimum_nights             0\n",
       "maximum_minimum_nights             0\n",
       "minimum_maximum_nights             0\n",
       "maximum_maximum_nights             0\n",
       "minimum_nights_avg_ntm             0\n",
       "maximum_nights_avg_ntm             0\n",
       "calendar_updated               26582\n",
       "has_availability                1008\n",
       "availability_30                    0\n",
       "availability_60                    0\n",
       "availability_90                    0\n",
       "availability_365                   0\n",
       "number_of_reviews                  0\n",
       "number_of_reviews_ltm              0\n",
       "number_of_reviews_l30d             0\n",
       "last_review                     3656\n",
       "review_scores_rating            3656\n",
       "review_scores_cleanliness       3657\n",
       "review_scores_checkin           3657\n",
       "review_scores_communication     3657\n",
       "review_scores_location             0\n",
       "review_scores_value                0\n",
       "instant_bookable                   0\n",
       "reviews_per_month                  0\n",
       "dtype: int64"
      ]
     },
     "execution_count": 57,
     "metadata": {},
     "output_type": "execute_result"
    }
   ],
   "source": [
    "valores_nulos=data2.isnull().sum()          \n",
    "valores_nulos"
   ]
  },
  {
   "cell_type": "code",
   "execution_count": 58,
   "metadata": {},
   "outputs": [
    {
     "name": "stderr",
     "output_type": "stream",
     "text": [
      "C:\\Users\\lapep\\AppData\\Local\\Temp\\ipykernel_4492\\3995633466.py:3: FutureWarning: Series.fillna with 'method' is deprecated and will raise in a future version. Use obj.ffill() or obj.bfill() instead.\n",
      "  data2[\"maximum_nights_avg_ntm\"]=data2[\"maximum_nights_avg_ntm\"].fillna(method=\"bfill\")\n"
     ]
    }
   ],
   "source": [
    "#Sexto método de sustitución de valores nulos\n",
    "#Sustituir valores nulos por valores no nulos hacia atrás backwards\n",
    "data2[\"maximum_nights_avg_ntm\"]=data2[\"maximum_nights_avg_ntm\"].fillna(method=\"bfill\")"
   ]
  },
  {
   "cell_type": "code",
   "execution_count": 59,
   "metadata": {},
   "outputs": [
    {
     "data": {
      "text/plain": [
       "last_scraped                       0\n",
       "name                               0\n",
       "description                        0\n",
       "neighborhood_overview              0\n",
       "host_location                      0\n",
       "host_response_time                 0\n",
       "host_response_rate                 0\n",
       "host_acceptance_rate               0\n",
       "host_is_superhost                  0\n",
       "host_verifications                 0\n",
       "host_has_profile_pic               0\n",
       "host_identity_verified             0\n",
       "neighbourhood                      0\n",
       "neighbourhood_cleansed             0\n",
       "latitude                           0\n",
       "longitude                          0\n",
       "property_type                      0\n",
       "room_type                          0\n",
       "accommodates                       0\n",
       "bathrooms                          0\n",
       "bathrooms_text                     0\n",
       "bedrooms                           0\n",
       "beds                               0\n",
       "amenities                          0\n",
       "price                              0\n",
       "minimum_nights                     0\n",
       "maximum_nights                     0\n",
       "minimum_minimum_nights             0\n",
       "maximum_minimum_nights             0\n",
       "minimum_maximum_nights             0\n",
       "maximum_maximum_nights             0\n",
       "minimum_nights_avg_ntm             0\n",
       "maximum_nights_avg_ntm             0\n",
       "calendar_updated               26582\n",
       "has_availability                1008\n",
       "availability_30                    0\n",
       "availability_60                    0\n",
       "availability_90                    0\n",
       "availability_365                   0\n",
       "number_of_reviews                  0\n",
       "number_of_reviews_ltm              0\n",
       "number_of_reviews_l30d             0\n",
       "last_review                     3656\n",
       "review_scores_rating            3656\n",
       "review_scores_cleanliness       3657\n",
       "review_scores_checkin           3657\n",
       "review_scores_communication     3657\n",
       "review_scores_location             0\n",
       "review_scores_value                0\n",
       "instant_bookable                   0\n",
       "reviews_per_month                  0\n",
       "dtype: int64"
      ]
     },
     "execution_count": 59,
     "metadata": {},
     "output_type": "execute_result"
    }
   ],
   "source": [
    "valores_nulos=data2.isnull().sum()          \n",
    "valores_nulos"
   ]
  },
  {
   "cell_type": "code",
   "execution_count": 60,
   "metadata": {},
   "outputs": [],
   "source": [
    "#Cuarto método de sustitución de valores nulos\n",
    "#Sustituir valores nulos por un string en concreto\n",
    "data2[\"calendar_updated\"]=data2[\"calendar_updated\"].fillna(\"Not clarify\")"
   ]
  },
  {
   "cell_type": "code",
   "execution_count": 61,
   "metadata": {},
   "outputs": [
    {
     "data": {
      "text/plain": [
       "last_scraped                      0\n",
       "name                              0\n",
       "description                       0\n",
       "neighborhood_overview             0\n",
       "host_location                     0\n",
       "host_response_time                0\n",
       "host_response_rate                0\n",
       "host_acceptance_rate              0\n",
       "host_is_superhost                 0\n",
       "host_verifications                0\n",
       "host_has_profile_pic              0\n",
       "host_identity_verified            0\n",
       "neighbourhood                     0\n",
       "neighbourhood_cleansed            0\n",
       "latitude                          0\n",
       "longitude                         0\n",
       "property_type                     0\n",
       "room_type                         0\n",
       "accommodates                      0\n",
       "bathrooms                         0\n",
       "bathrooms_text                    0\n",
       "bedrooms                          0\n",
       "beds                              0\n",
       "amenities                         0\n",
       "price                             0\n",
       "minimum_nights                    0\n",
       "maximum_nights                    0\n",
       "minimum_minimum_nights            0\n",
       "maximum_minimum_nights            0\n",
       "minimum_maximum_nights            0\n",
       "maximum_maximum_nights            0\n",
       "minimum_nights_avg_ntm            0\n",
       "maximum_nights_avg_ntm            0\n",
       "calendar_updated                  0\n",
       "has_availability               1008\n",
       "availability_30                   0\n",
       "availability_60                   0\n",
       "availability_90                   0\n",
       "availability_365                  0\n",
       "number_of_reviews                 0\n",
       "number_of_reviews_ltm             0\n",
       "number_of_reviews_l30d            0\n",
       "last_review                    3656\n",
       "review_scores_rating           3656\n",
       "review_scores_cleanliness      3657\n",
       "review_scores_checkin          3657\n",
       "review_scores_communication    3657\n",
       "review_scores_location            0\n",
       "review_scores_value               0\n",
       "instant_bookable                  0\n",
       "reviews_per_month                 0\n",
       "dtype: int64"
      ]
     },
     "execution_count": 61,
     "metadata": {},
     "output_type": "execute_result"
    }
   ],
   "source": [
    "valores_nulos=data2.isnull().sum()          \n",
    "valores_nulos"
   ]
  },
  {
   "cell_type": "code",
   "execution_count": 62,
   "metadata": {},
   "outputs": [],
   "source": [
    "#Cuarto método de sustitución de valores nulos\n",
    "#Sustituir valores nulos por un string en concreto\n",
    "data2[\"has_availability\"]=data2[\"has_availability\"].fillna(\"Has no information\")"
   ]
  },
  {
   "cell_type": "code",
   "execution_count": 63,
   "metadata": {},
   "outputs": [
    {
     "data": {
      "text/plain": [
       "last_scraped                      0\n",
       "name                              0\n",
       "description                       0\n",
       "neighborhood_overview             0\n",
       "host_location                     0\n",
       "host_response_time                0\n",
       "host_response_rate                0\n",
       "host_acceptance_rate              0\n",
       "host_is_superhost                 0\n",
       "host_verifications                0\n",
       "host_has_profile_pic              0\n",
       "host_identity_verified            0\n",
       "neighbourhood                     0\n",
       "neighbourhood_cleansed            0\n",
       "latitude                          0\n",
       "longitude                         0\n",
       "property_type                     0\n",
       "room_type                         0\n",
       "accommodates                      0\n",
       "bathrooms                         0\n",
       "bathrooms_text                    0\n",
       "bedrooms                          0\n",
       "beds                              0\n",
       "amenities                         0\n",
       "price                             0\n",
       "minimum_nights                    0\n",
       "maximum_nights                    0\n",
       "minimum_minimum_nights            0\n",
       "maximum_minimum_nights            0\n",
       "minimum_maximum_nights            0\n",
       "maximum_maximum_nights            0\n",
       "minimum_nights_avg_ntm            0\n",
       "maximum_nights_avg_ntm            0\n",
       "calendar_updated                  0\n",
       "has_availability                  0\n",
       "availability_30                   0\n",
       "availability_60                   0\n",
       "availability_90                   0\n",
       "availability_365                  0\n",
       "number_of_reviews                 0\n",
       "number_of_reviews_ltm             0\n",
       "number_of_reviews_l30d            0\n",
       "last_review                    3656\n",
       "review_scores_rating           3656\n",
       "review_scores_cleanliness      3657\n",
       "review_scores_checkin          3657\n",
       "review_scores_communication    3657\n",
       "review_scores_location            0\n",
       "review_scores_value               0\n",
       "instant_bookable                  0\n",
       "reviews_per_month                 0\n",
       "dtype: int64"
      ]
     },
     "execution_count": 63,
     "metadata": {},
     "output_type": "execute_result"
    }
   ],
   "source": [
    "valores_nulos=data2.isnull().sum()          \n",
    "valores_nulos"
   ]
  },
  {
   "cell_type": "code",
   "execution_count": 64,
   "metadata": {},
   "outputs": [],
   "source": [
    "#Cuarto método de sustitución de valores nulos\n",
    "#Sustituir valores nulos por un string en concreto\n",
    "data2[\"last_review\"]=data2[\"last_review\"].fillna(\"Zero information\")"
   ]
  },
  {
   "cell_type": "code",
   "execution_count": 65,
   "metadata": {},
   "outputs": [
    {
     "data": {
      "text/plain": [
       "last_scraped                      0\n",
       "name                              0\n",
       "description                       0\n",
       "neighborhood_overview             0\n",
       "host_location                     0\n",
       "host_response_time                0\n",
       "host_response_rate                0\n",
       "host_acceptance_rate              0\n",
       "host_is_superhost                 0\n",
       "host_verifications                0\n",
       "host_has_profile_pic              0\n",
       "host_identity_verified            0\n",
       "neighbourhood                     0\n",
       "neighbourhood_cleansed            0\n",
       "latitude                          0\n",
       "longitude                         0\n",
       "property_type                     0\n",
       "room_type                         0\n",
       "accommodates                      0\n",
       "bathrooms                         0\n",
       "bathrooms_text                    0\n",
       "bedrooms                          0\n",
       "beds                              0\n",
       "amenities                         0\n",
       "price                             0\n",
       "minimum_nights                    0\n",
       "maximum_nights                    0\n",
       "minimum_minimum_nights            0\n",
       "maximum_minimum_nights            0\n",
       "minimum_maximum_nights            0\n",
       "maximum_maximum_nights            0\n",
       "minimum_nights_avg_ntm            0\n",
       "maximum_nights_avg_ntm            0\n",
       "calendar_updated                  0\n",
       "has_availability                  0\n",
       "availability_30                   0\n",
       "availability_60                   0\n",
       "availability_90                   0\n",
       "availability_365                  0\n",
       "number_of_reviews                 0\n",
       "number_of_reviews_ltm             0\n",
       "number_of_reviews_l30d            0\n",
       "last_review                       0\n",
       "review_scores_rating           3656\n",
       "review_scores_cleanliness      3657\n",
       "review_scores_checkin          3657\n",
       "review_scores_communication    3657\n",
       "review_scores_location            0\n",
       "review_scores_value               0\n",
       "instant_bookable                  0\n",
       "reviews_per_month                 0\n",
       "dtype: int64"
      ]
     },
     "execution_count": 65,
     "metadata": {},
     "output_type": "execute_result"
    }
   ],
   "source": [
    "valores_nulos=data2.isnull().sum()          \n",
    "valores_nulos"
   ]
  },
  {
   "cell_type": "code",
   "execution_count": 66,
   "metadata": {},
   "outputs": [],
   "source": [
    "#Cuarto método de sustitución de valores nulos\n",
    "#Sustituir valores nulos por un string en concreto\n",
    "data2[\"review_scores_rating\"]=data2[\"review_scores_rating\"].fillna(\"No information\")"
   ]
  },
  {
   "cell_type": "code",
   "execution_count": 67,
   "metadata": {},
   "outputs": [
    {
     "data": {
      "text/plain": [
       "last_scraped                      0\n",
       "name                              0\n",
       "description                       0\n",
       "neighborhood_overview             0\n",
       "host_location                     0\n",
       "host_response_time                0\n",
       "host_response_rate                0\n",
       "host_acceptance_rate              0\n",
       "host_is_superhost                 0\n",
       "host_verifications                0\n",
       "host_has_profile_pic              0\n",
       "host_identity_verified            0\n",
       "neighbourhood                     0\n",
       "neighbourhood_cleansed            0\n",
       "latitude                          0\n",
       "longitude                         0\n",
       "property_type                     0\n",
       "room_type                         0\n",
       "accommodates                      0\n",
       "bathrooms                         0\n",
       "bathrooms_text                    0\n",
       "bedrooms                          0\n",
       "beds                              0\n",
       "amenities                         0\n",
       "price                             0\n",
       "minimum_nights                    0\n",
       "maximum_nights                    0\n",
       "minimum_minimum_nights            0\n",
       "maximum_minimum_nights            0\n",
       "minimum_maximum_nights            0\n",
       "maximum_maximum_nights            0\n",
       "minimum_nights_avg_ntm            0\n",
       "maximum_nights_avg_ntm            0\n",
       "calendar_updated                  0\n",
       "has_availability                  0\n",
       "availability_30                   0\n",
       "availability_60                   0\n",
       "availability_90                   0\n",
       "availability_365                  0\n",
       "number_of_reviews                 0\n",
       "number_of_reviews_ltm             0\n",
       "number_of_reviews_l30d            0\n",
       "last_review                       0\n",
       "review_scores_rating              0\n",
       "review_scores_cleanliness      3657\n",
       "review_scores_checkin          3657\n",
       "review_scores_communication    3657\n",
       "review_scores_location            0\n",
       "review_scores_value               0\n",
       "instant_bookable                  0\n",
       "reviews_per_month                 0\n",
       "dtype: int64"
      ]
     },
     "execution_count": 67,
     "metadata": {},
     "output_type": "execute_result"
    }
   ],
   "source": [
    "valores_nulos=data2.isnull().sum()          \n",
    "valores_nulos"
   ]
  },
  {
   "cell_type": "code",
   "execution_count": 68,
   "metadata": {},
   "outputs": [],
   "source": [
    "#Cuarto método de sustitución de valores nulos\n",
    "#Sustituir valores nulos por un string en concreto\n",
    "data2[\"review_scores_cleanliness\"]=data2[\"review_scores_cleanliness\"].fillna(\"Nothing\")"
   ]
  },
  {
   "cell_type": "code",
   "execution_count": 69,
   "metadata": {},
   "outputs": [
    {
     "data": {
      "text/plain": [
       "last_scraped                      0\n",
       "name                              0\n",
       "description                       0\n",
       "neighborhood_overview             0\n",
       "host_location                     0\n",
       "host_response_time                0\n",
       "host_response_rate                0\n",
       "host_acceptance_rate              0\n",
       "host_is_superhost                 0\n",
       "host_verifications                0\n",
       "host_has_profile_pic              0\n",
       "host_identity_verified            0\n",
       "neighbourhood                     0\n",
       "neighbourhood_cleansed            0\n",
       "latitude                          0\n",
       "longitude                         0\n",
       "property_type                     0\n",
       "room_type                         0\n",
       "accommodates                      0\n",
       "bathrooms                         0\n",
       "bathrooms_text                    0\n",
       "bedrooms                          0\n",
       "beds                              0\n",
       "amenities                         0\n",
       "price                             0\n",
       "minimum_nights                    0\n",
       "maximum_nights                    0\n",
       "minimum_minimum_nights            0\n",
       "maximum_minimum_nights            0\n",
       "minimum_maximum_nights            0\n",
       "maximum_maximum_nights            0\n",
       "minimum_nights_avg_ntm            0\n",
       "maximum_nights_avg_ntm            0\n",
       "calendar_updated                  0\n",
       "has_availability                  0\n",
       "availability_30                   0\n",
       "availability_60                   0\n",
       "availability_90                   0\n",
       "availability_365                  0\n",
       "number_of_reviews                 0\n",
       "number_of_reviews_ltm             0\n",
       "number_of_reviews_l30d            0\n",
       "last_review                       0\n",
       "review_scores_rating              0\n",
       "review_scores_cleanliness         0\n",
       "review_scores_checkin          3657\n",
       "review_scores_communication    3657\n",
       "review_scores_location            0\n",
       "review_scores_value               0\n",
       "instant_bookable                  0\n",
       "reviews_per_month                 0\n",
       "dtype: int64"
      ]
     },
     "execution_count": 69,
     "metadata": {},
     "output_type": "execute_result"
    }
   ],
   "source": [
    "valores_nulos=data2.isnull().sum()          \n",
    "valores_nulos"
   ]
  },
  {
   "cell_type": "code",
   "execution_count": 70,
   "metadata": {},
   "outputs": [],
   "source": [
    "#Cuarto método de sustitución de valores nulos\n",
    "#Sustituir valores nulos por un string en concreto\n",
    "data2[\"review_scores_checkin\"]=data2[\"review_scores_checkin\"].fillna(\"Nothing\")"
   ]
  },
  {
   "cell_type": "code",
   "execution_count": 71,
   "metadata": {},
   "outputs": [
    {
     "data": {
      "text/plain": [
       "last_scraped                      0\n",
       "name                              0\n",
       "description                       0\n",
       "neighborhood_overview             0\n",
       "host_location                     0\n",
       "host_response_time                0\n",
       "host_response_rate                0\n",
       "host_acceptance_rate              0\n",
       "host_is_superhost                 0\n",
       "host_verifications                0\n",
       "host_has_profile_pic              0\n",
       "host_identity_verified            0\n",
       "neighbourhood                     0\n",
       "neighbourhood_cleansed            0\n",
       "latitude                          0\n",
       "longitude                         0\n",
       "property_type                     0\n",
       "room_type                         0\n",
       "accommodates                      0\n",
       "bathrooms                         0\n",
       "bathrooms_text                    0\n",
       "bedrooms                          0\n",
       "beds                              0\n",
       "amenities                         0\n",
       "price                             0\n",
       "minimum_nights                    0\n",
       "maximum_nights                    0\n",
       "minimum_minimum_nights            0\n",
       "maximum_minimum_nights            0\n",
       "minimum_maximum_nights            0\n",
       "maximum_maximum_nights            0\n",
       "minimum_nights_avg_ntm            0\n",
       "maximum_nights_avg_ntm            0\n",
       "calendar_updated                  0\n",
       "has_availability                  0\n",
       "availability_30                   0\n",
       "availability_60                   0\n",
       "availability_90                   0\n",
       "availability_365                  0\n",
       "number_of_reviews                 0\n",
       "number_of_reviews_ltm             0\n",
       "number_of_reviews_l30d            0\n",
       "last_review                       0\n",
       "review_scores_rating              0\n",
       "review_scores_cleanliness         0\n",
       "review_scores_checkin             0\n",
       "review_scores_communication    3657\n",
       "review_scores_location            0\n",
       "review_scores_value               0\n",
       "instant_bookable                  0\n",
       "reviews_per_month                 0\n",
       "dtype: int64"
      ]
     },
     "execution_count": 71,
     "metadata": {},
     "output_type": "execute_result"
    }
   ],
   "source": [
    "valores_nulos=data2.isnull().sum()          \n",
    "valores_nulos"
   ]
  },
  {
   "cell_type": "code",
   "execution_count": 72,
   "metadata": {},
   "outputs": [],
   "source": [
    "#Cuarto método de sustitución de valores nulos\n",
    "#Sustituir valores nulos por un string en concreto\n",
    "data2[\"review_scores_communication\"]=data2[\"review_scores_communication\"].fillna(\"Does not say\")"
   ]
  },
  {
   "cell_type": "code",
   "execution_count": 73,
   "metadata": {},
   "outputs": [
    {
     "data": {
      "text/plain": [
       "last_scraped                   0\n",
       "name                           0\n",
       "description                    0\n",
       "neighborhood_overview          0\n",
       "host_location                  0\n",
       "host_response_time             0\n",
       "host_response_rate             0\n",
       "host_acceptance_rate           0\n",
       "host_is_superhost              0\n",
       "host_verifications             0\n",
       "host_has_profile_pic           0\n",
       "host_identity_verified         0\n",
       "neighbourhood                  0\n",
       "neighbourhood_cleansed         0\n",
       "latitude                       0\n",
       "longitude                      0\n",
       "property_type                  0\n",
       "room_type                      0\n",
       "accommodates                   0\n",
       "bathrooms                      0\n",
       "bathrooms_text                 0\n",
       "bedrooms                       0\n",
       "beds                           0\n",
       "amenities                      0\n",
       "price                          0\n",
       "minimum_nights                 0\n",
       "maximum_nights                 0\n",
       "minimum_minimum_nights         0\n",
       "maximum_minimum_nights         0\n",
       "minimum_maximum_nights         0\n",
       "maximum_maximum_nights         0\n",
       "minimum_nights_avg_ntm         0\n",
       "maximum_nights_avg_ntm         0\n",
       "calendar_updated               0\n",
       "has_availability               0\n",
       "availability_30                0\n",
       "availability_60                0\n",
       "availability_90                0\n",
       "availability_365               0\n",
       "number_of_reviews              0\n",
       "number_of_reviews_ltm          0\n",
       "number_of_reviews_l30d         0\n",
       "last_review                    0\n",
       "review_scores_rating           0\n",
       "review_scores_cleanliness      0\n",
       "review_scores_checkin          0\n",
       "review_scores_communication    0\n",
       "review_scores_location         0\n",
       "review_scores_value            0\n",
       "instant_bookable               0\n",
       "reviews_per_month              0\n",
       "dtype: int64"
      ]
     },
     "execution_count": 73,
     "metadata": {},
     "output_type": "execute_result"
    }
   ],
   "source": [
    "valores_nulos=data2.isnull().sum()          \n",
    "valores_nulos"
   ]
  },
  {
   "cell_type": "code",
   "execution_count": 74,
   "metadata": {},
   "outputs": [
    {
     "data": {
      "text/plain": [
       "np.int64(0)"
      ]
     },
     "execution_count": 74,
     "metadata": {},
     "output_type": "execute_result"
    }
   ],
   "source": [
    "valores_nulos=data2.isnull().sum().sum()\n",
    "valores_nulos"
   ]
  },
  {
   "cell_type": "code",
   "execution_count": 76,
   "metadata": {},
   "outputs": [],
   "source": [
    "#Convertir DataFrame a CSV\n",
    "data2.to_csv(\"México_filtrado.csv\")"
   ]
  }
 ],
 "metadata": {
  "kernelspec": {
   "display_name": "Python 3",
   "language": "python",
   "name": "python3"
  },
  "language_info": {
   "codemirror_mode": {
    "name": "ipython",
    "version": 3
   },
   "file_extension": ".py",
   "mimetype": "text/x-python",
   "name": "python",
   "nbconvert_exporter": "python",
   "pygments_lexer": "ipython3",
   "version": "3.13.1"
  }
 },
 "nbformat": 4,
 "nbformat_minor": 2
}
