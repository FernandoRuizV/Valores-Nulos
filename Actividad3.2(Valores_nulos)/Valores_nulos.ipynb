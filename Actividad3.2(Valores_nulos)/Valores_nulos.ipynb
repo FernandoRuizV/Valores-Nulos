{
 "cells": [
  {
   "cell_type": "code",
   "execution_count": 1,
   "metadata": {},
   "outputs": [],
   "source": [
    "import pandas as pd\n",
    "import numpy as np\n",
    "import matplotlib.pyplot as plt"
   ]
  },
  {
   "cell_type": "code",
   "execution_count": 2,
   "metadata": {},
   "outputs": [
    {
     "data": {
      "text/html": [
       "<div>\n",
       "<style scoped>\n",
       "    .dataframe tbody tr th:only-of-type {\n",
       "        vertical-align: middle;\n",
       "    }\n",
       "\n",
       "    .dataframe tbody tr th {\n",
       "        vertical-align: top;\n",
       "    }\n",
       "\n",
       "    .dataframe thead th {\n",
       "        text-align: right;\n",
       "    }\n",
       "</style>\n",
       "<table border=\"1\" class=\"dataframe\">\n",
       "  <thead>\n",
       "    <tr style=\"text-align: right;\">\n",
       "      <th></th>\n",
       "      <th>id</th>\n",
       "      <th>listing_url</th>\n",
       "      <th>scrape_id</th>\n",
       "      <th>last_scraped</th>\n",
       "      <th>source</th>\n",
       "      <th>name</th>\n",
       "      <th>description</th>\n",
       "      <th>neighborhood_overview</th>\n",
       "      <th>picture_url</th>\n",
       "      <th>host_id</th>\n",
       "      <th>...</th>\n",
       "      <th>review_scores_communication</th>\n",
       "      <th>review_scores_location</th>\n",
       "      <th>review_scores_value</th>\n",
       "      <th>license</th>\n",
       "      <th>instant_bookable</th>\n",
       "      <th>calculated_host_listings_count</th>\n",
       "      <th>calculated_host_listings_count_entire_homes</th>\n",
       "      <th>calculated_host_listings_count_private_rooms</th>\n",
       "      <th>calculated_host_listings_count_shared_rooms</th>\n",
       "      <th>reviews_per_month</th>\n",
       "    </tr>\n",
       "  </thead>\n",
       "  <tbody>\n",
       "    <tr>\n",
       "      <th>0</th>\n",
       "      <td>6624170</td>\n",
       "      <td>https://www.airbnb.com/rooms/6624170</td>\n",
       "      <td>20240905174946</td>\n",
       "      <td>2024-09-05</td>\n",
       "      <td>previous scrape</td>\n",
       "      <td>Warm, cozy sunlighted downtown appt</td>\n",
       "      <td>2 room appt. 1.8 km from central station with ...</td>\n",
       "      <td>NaN</td>\n",
       "      <td>https://a0.muscache.com/pictures/df91da10-f7d4...</td>\n",
       "      <td>34670170</td>\n",
       "      <td>...</td>\n",
       "      <td>4.86</td>\n",
       "      <td>4.56</td>\n",
       "      <td>4.65</td>\n",
       "      <td>0363 3CF3 3233 3B24 6BEC</td>\n",
       "      <td>f</td>\n",
       "      <td>1</td>\n",
       "      <td>1</td>\n",
       "      <td>0</td>\n",
       "      <td>0</td>\n",
       "      <td>0.38</td>\n",
       "    </tr>\n",
       "    <tr>\n",
       "      <th>1</th>\n",
       "      <td>8837071</td>\n",
       "      <td>https://www.airbnb.com/rooms/8837071</td>\n",
       "      <td>20240905174946</td>\n",
       "      <td>2024-09-05</td>\n",
       "      <td>previous scrape</td>\n",
       "      <td>Cozy apartment in city center</td>\n",
       "      <td>Located in Amsterdam's sweet spot. A stone's t...</td>\n",
       "      <td>see the guide</td>\n",
       "      <td>https://a0.muscache.com/pictures/5fee12d4-61d0...</td>\n",
       "      <td>13034277</td>\n",
       "      <td>...</td>\n",
       "      <td>NaN</td>\n",
       "      <td>NaN</td>\n",
       "      <td>NaN</td>\n",
       "      <td>0363 0C20 1768 FAAA 3556</td>\n",
       "      <td>f</td>\n",
       "      <td>1</td>\n",
       "      <td>1</td>\n",
       "      <td>0</td>\n",
       "      <td>0</td>\n",
       "      <td>NaN</td>\n",
       "    </tr>\n",
       "    <tr>\n",
       "      <th>2</th>\n",
       "      <td>716107</td>\n",
       "      <td>https://www.airbnb.com/rooms/716107</td>\n",
       "      <td>20240905174946</td>\n",
       "      <td>2024-09-05</td>\n",
       "      <td>previous scrape</td>\n",
       "      <td>Loft style home nearby city centre</td>\n",
       "      <td>NaN</td>\n",
       "      <td>NaN</td>\n",
       "      <td>https://a0.muscache.com/pictures/9927048/b367a...</td>\n",
       "      <td>3689867</td>\n",
       "      <td>...</td>\n",
       "      <td>4.83</td>\n",
       "      <td>4.66</td>\n",
       "      <td>4.61</td>\n",
       "      <td>0363 0014 1E57 F097 81A5</td>\n",
       "      <td>f</td>\n",
       "      <td>1</td>\n",
       "      <td>1</td>\n",
       "      <td>0</td>\n",
       "      <td>0</td>\n",
       "      <td>1.21</td>\n",
       "    </tr>\n",
       "    <tr>\n",
       "      <th>3</th>\n",
       "      <td>664538756986273255</td>\n",
       "      <td>https://www.airbnb.com/rooms/664538756986273255</td>\n",
       "      <td>20240905174946</td>\n",
       "      <td>2024-09-06</td>\n",
       "      <td>previous scrape</td>\n",
       "      <td>Geweldige duurzame eco woonark op unieke plek!</td>\n",
       "      <td>This unique eco houseboat is located in the mo...</td>\n",
       "      <td>NaN</td>\n",
       "      <td>https://a0.muscache.com/pictures/miso/Hosting-...</td>\n",
       "      <td>7647768</td>\n",
       "      <td>...</td>\n",
       "      <td>5.00</td>\n",
       "      <td>5.00</td>\n",
       "      <td>5.00</td>\n",
       "      <td>0363 468D A0A1 6595 5E39</td>\n",
       "      <td>f</td>\n",
       "      <td>1</td>\n",
       "      <td>1</td>\n",
       "      <td>0</td>\n",
       "      <td>0</td>\n",
       "      <td>0.04</td>\n",
       "    </tr>\n",
       "    <tr>\n",
       "      <th>4</th>\n",
       "      <td>8191077</td>\n",
       "      <td>https://www.airbnb.com/rooms/8191077</td>\n",
       "      <td>20240905174946</td>\n",
       "      <td>2024-09-05</td>\n",
       "      <td>previous scrape</td>\n",
       "      <td>Old bar apartment</td>\n",
       "      <td>This just renovated apartment for 6 persons is...</td>\n",
       "      <td>Our apartment is situated in the centre of Ams...</td>\n",
       "      <td>https://a0.muscache.com/pictures/miso/Hosting-...</td>\n",
       "      <td>43205475</td>\n",
       "      <td>...</td>\n",
       "      <td>4.79</td>\n",
       "      <td>4.83</td>\n",
       "      <td>4.45</td>\n",
       "      <td>Exempt</td>\n",
       "      <td>f</td>\n",
       "      <td>1</td>\n",
       "      <td>0</td>\n",
       "      <td>1</td>\n",
       "      <td>0</td>\n",
       "      <td>2.41</td>\n",
       "    </tr>\n",
       "  </tbody>\n",
       "</table>\n",
       "<p>5 rows × 75 columns</p>\n",
       "</div>"
      ],
      "text/plain": [
       "                   id                                      listing_url  \\\n",
       "0             6624170             https://www.airbnb.com/rooms/6624170   \n",
       "1             8837071             https://www.airbnb.com/rooms/8837071   \n",
       "2              716107              https://www.airbnb.com/rooms/716107   \n",
       "3  664538756986273255  https://www.airbnb.com/rooms/664538756986273255   \n",
       "4             8191077             https://www.airbnb.com/rooms/8191077   \n",
       "\n",
       "        scrape_id last_scraped           source  \\\n",
       "0  20240905174946   2024-09-05  previous scrape   \n",
       "1  20240905174946   2024-09-05  previous scrape   \n",
       "2  20240905174946   2024-09-05  previous scrape   \n",
       "3  20240905174946   2024-09-06  previous scrape   \n",
       "4  20240905174946   2024-09-05  previous scrape   \n",
       "\n",
       "                                             name  \\\n",
       "0             Warm, cozy sunlighted downtown appt   \n",
       "1                   Cozy apartment in city center   \n",
       "2              Loft style home nearby city centre   \n",
       "3  Geweldige duurzame eco woonark op unieke plek!   \n",
       "4                               Old bar apartment   \n",
       "\n",
       "                                         description  \\\n",
       "0  2 room appt. 1.8 km from central station with ...   \n",
       "1  Located in Amsterdam's sweet spot. A stone's t...   \n",
       "2                                                NaN   \n",
       "3  This unique eco houseboat is located in the mo...   \n",
       "4  This just renovated apartment for 6 persons is...   \n",
       "\n",
       "                               neighborhood_overview  \\\n",
       "0                                                NaN   \n",
       "1                                      see the guide   \n",
       "2                                                NaN   \n",
       "3                                                NaN   \n",
       "4  Our apartment is situated in the centre of Ams...   \n",
       "\n",
       "                                         picture_url   host_id  ...  \\\n",
       "0  https://a0.muscache.com/pictures/df91da10-f7d4...  34670170  ...   \n",
       "1  https://a0.muscache.com/pictures/5fee12d4-61d0...  13034277  ...   \n",
       "2  https://a0.muscache.com/pictures/9927048/b367a...   3689867  ...   \n",
       "3  https://a0.muscache.com/pictures/miso/Hosting-...   7647768  ...   \n",
       "4  https://a0.muscache.com/pictures/miso/Hosting-...  43205475  ...   \n",
       "\n",
       "  review_scores_communication review_scores_location review_scores_value  \\\n",
       "0                        4.86                   4.56                4.65   \n",
       "1                         NaN                    NaN                 NaN   \n",
       "2                        4.83                   4.66                4.61   \n",
       "3                        5.00                   5.00                5.00   \n",
       "4                        4.79                   4.83                4.45   \n",
       "\n",
       "                    license instant_bookable calculated_host_listings_count  \\\n",
       "0  0363 3CF3 3233 3B24 6BEC                f                              1   \n",
       "1  0363 0C20 1768 FAAA 3556                f                              1   \n",
       "2  0363 0014 1E57 F097 81A5                f                              1   \n",
       "3  0363 468D A0A1 6595 5E39                f                              1   \n",
       "4                    Exempt                f                              1   \n",
       "\n",
       "  calculated_host_listings_count_entire_homes  \\\n",
       "0                                           1   \n",
       "1                                           1   \n",
       "2                                           1   \n",
       "3                                           1   \n",
       "4                                           0   \n",
       "\n",
       "  calculated_host_listings_count_private_rooms  \\\n",
       "0                                            0   \n",
       "1                                            0   \n",
       "2                                            0   \n",
       "3                                            0   \n",
       "4                                            1   \n",
       "\n",
       "  calculated_host_listings_count_shared_rooms reviews_per_month  \n",
       "0                                           0              0.38  \n",
       "1                                           0               NaN  \n",
       "2                                           0              1.21  \n",
       "3                                           0              0.04  \n",
       "4                                           0              2.41  \n",
       "\n",
       "[5 rows x 75 columns]"
      ]
     },
     "execution_count": 2,
     "metadata": {},
     "output_type": "execute_result"
    }
   ],
   "source": [
    "#Cargar archivo\n",
    "data= pd.read_csv('listings.csv')\n",
    "data.head(5)"
   ]
  },
  {
   "cell_type": "code",
   "execution_count": 3,
   "metadata": {},
   "outputs": [],
   "source": [
    "data2= data.copy()"
   ]
  },
  {
   "cell_type": "code",
   "execution_count": 4,
   "metadata": {},
   "outputs": [],
   "source": [
    "data2 = data2.drop(columns=[\"id\", \"listing_url\", \"scrape_id\", \"source\", \"picture_url\", \"host_id\", \"host_url\", \"host_name\",\"host_since\",\"host_about\",\"host_thumbnail_url\",\"host_picture_url\",\"host_neighbourhood\",\"host_listings_count\",\"host_total_listings_count\",\"neighbourhood_group_cleansed\",\"calendar_last_scraped\",\"first_review\",\"review_scores_accuracy\",\"license\",\"calculated_host_listings_count\",\"calculated_host_listings_count_entire_homes\",\"calculated_host_listings_count_private_rooms\",\"calculated_host_listings_count_shared_rooms\"])"
   ]
  },
  {
   "cell_type": "code",
   "execution_count": 5,
   "metadata": {},
   "outputs": [
    {
     "name": "stdout",
     "output_type": "stream",
     "text": [
      "<class 'pandas.core.frame.DataFrame'>\n",
      "RangeIndex: 9659 entries, 0 to 9658\n",
      "Data columns (total 51 columns):\n",
      " #   Column                       Non-Null Count  Dtype  \n",
      "---  ------                       --------------  -----  \n",
      " 0   last_scraped                 9659 non-null   object \n",
      " 1   name                         9659 non-null   object \n",
      " 2   description                  9310 non-null   object \n",
      " 3   neighborhood_overview        5469 non-null   object \n",
      " 4   host_location                8547 non-null   object \n",
      " 5   host_response_time           6483 non-null   object \n",
      " 6   host_response_rate           6483 non-null   object \n",
      " 7   host_acceptance_rate         7835 non-null   object \n",
      " 8   host_is_superhost            9549 non-null   object \n",
      " 9   host_verifications           9659 non-null   object \n",
      " 10  host_has_profile_pic         9659 non-null   object \n",
      " 11  host_identity_verified       9659 non-null   object \n",
      " 12  neighbourhood                5469 non-null   object \n",
      " 13  neighbourhood_cleansed       9659 non-null   object \n",
      " 14  latitude                     9659 non-null   float64\n",
      " 15  longitude                    9659 non-null   float64\n",
      " 16  property_type                9659 non-null   object \n",
      " 17  room_type                    9659 non-null   object \n",
      " 18  accommodates                 9659 non-null   int64  \n",
      " 19  bathrooms                    5868 non-null   float64\n",
      " 20  bathrooms_text               9649 non-null   object \n",
      " 21  bedrooms                     9385 non-null   float64\n",
      " 22  beds                         5843 non-null   float64\n",
      " 23  amenities                    9659 non-null   object \n",
      " 24  price                        5869 non-null   object \n",
      " 25  minimum_nights               9659 non-null   int64  \n",
      " 26  maximum_nights               9659 non-null   int64  \n",
      " 27  minimum_minimum_nights       9658 non-null   float64\n",
      " 28  maximum_minimum_nights       9658 non-null   float64\n",
      " 29  minimum_maximum_nights       9658 non-null   float64\n",
      " 30  maximum_maximum_nights       9658 non-null   float64\n",
      " 31  minimum_nights_avg_ntm       9658 non-null   float64\n",
      " 32  maximum_nights_avg_ntm       9658 non-null   float64\n",
      " 33  calendar_updated             0 non-null      float64\n",
      " 34  has_availability             9349 non-null   object \n",
      " 35  availability_30              9659 non-null   int64  \n",
      " 36  availability_60              9659 non-null   int64  \n",
      " 37  availability_90              9659 non-null   int64  \n",
      " 38  availability_365             9659 non-null   int64  \n",
      " 39  number_of_reviews            9659 non-null   int64  \n",
      " 40  number_of_reviews_ltm        9659 non-null   int64  \n",
      " 41  number_of_reviews_l30d       9659 non-null   int64  \n",
      " 42  last_review                  8632 non-null   object \n",
      " 43  review_scores_rating         8632 non-null   float64\n",
      " 44  review_scores_cleanliness    8631 non-null   float64\n",
      " 45  review_scores_checkin        8632 non-null   float64\n",
      " 46  review_scores_communication  8632 non-null   float64\n",
      " 47  review_scores_location       8632 non-null   float64\n",
      " 48  review_scores_value          8632 non-null   float64\n",
      " 49  instant_bookable             9659 non-null   object \n",
      " 50  reviews_per_month            8632 non-null   float64\n",
      "dtypes: float64(19), int64(10), object(22)\n",
      "memory usage: 3.8+ MB\n"
     ]
    }
   ],
   "source": [
    "data2.info()"
   ]
  },
  {
   "cell_type": "code",
   "execution_count": 6,
   "metadata": {},
   "outputs": [
    {
     "data": {
      "text/plain": [
       "last_scraped                      0\n",
       "name                              0\n",
       "description                     349\n",
       "neighborhood_overview          4190\n",
       "host_location                  1112\n",
       "host_response_time             3176\n",
       "host_response_rate             3176\n",
       "host_acceptance_rate           1824\n",
       "host_is_superhost               110\n",
       "host_verifications                0\n",
       "host_has_profile_pic              0\n",
       "host_identity_verified            0\n",
       "neighbourhood                  4190\n",
       "neighbourhood_cleansed            0\n",
       "latitude                          0\n",
       "longitude                         0\n",
       "property_type                     0\n",
       "room_type                         0\n",
       "accommodates                      0\n",
       "bathrooms                      3791\n",
       "bathrooms_text                   10\n",
       "bedrooms                        274\n",
       "beds                           3816\n",
       "amenities                         0\n",
       "price                          3790\n",
       "minimum_nights                    0\n",
       "maximum_nights                    0\n",
       "minimum_minimum_nights            1\n",
       "maximum_minimum_nights            1\n",
       "minimum_maximum_nights            1\n",
       "maximum_maximum_nights            1\n",
       "minimum_nights_avg_ntm            1\n",
       "maximum_nights_avg_ntm            1\n",
       "calendar_updated               9659\n",
       "has_availability                310\n",
       "availability_30                   0\n",
       "availability_60                   0\n",
       "availability_90                   0\n",
       "availability_365                  0\n",
       "number_of_reviews                 0\n",
       "number_of_reviews_ltm             0\n",
       "number_of_reviews_l30d            0\n",
       "last_review                    1027\n",
       "review_scores_rating           1027\n",
       "review_scores_cleanliness      1028\n",
       "review_scores_checkin          1027\n",
       "review_scores_communication    1027\n",
       "review_scores_location         1027\n",
       "review_scores_value            1027\n",
       "instant_bookable                  0\n",
       "reviews_per_month              1027\n",
       "dtype: int64"
      ]
     },
     "execution_count": 6,
     "metadata": {},
     "output_type": "execute_result"
    }
   ],
   "source": [
    "valores_nulos=data2.isnull().sum()          \n",
    "valores_nulos"
   ]
  },
  {
   "cell_type": "code",
   "execution_count": 7,
   "metadata": {},
   "outputs": [
    {
     "data": {
      "text/plain": [
       "np.int64(48000)"
      ]
     },
     "execution_count": 7,
     "metadata": {},
     "output_type": "execute_result"
    }
   ],
   "source": [
    "#Identificar datos nulos por dataframe\n",
    "valores_nulos=data2.isnull().sum().sum()\n",
    "valores_nulos"
   ]
  },
  {
   "cell_type": "code",
   "execution_count": 90,
   "metadata": {},
   "outputs": [
    {
     "name": "stderr",
     "output_type": "stream",
     "text": [
      "C:\\Users\\lapep\\AppData\\Local\\Temp\\ipykernel_21984\\3698051563.py:4: FutureWarning: Series.fillna with 'method' is deprecated and will raise in a future version. Use obj.ffill() or obj.bfill() instead.\n",
      "  data2[\"description\"]=data2[\"description\"].fillna(method=\"ffill\")\n"
     ]
    }
   ],
   "source": [
    "#Quinto método de sustitución de valores nulos\n",
    "#Sustituir valores nulos por valores no nulos hacia adelante \"forward fill\"(\"ffill\")\n",
    "data2[\"description\"]=data2[\"description\"].fillna(method=\"ffill\")"
   ]
  },
  {
   "cell_type": "code",
   "execution_count": 9,
   "metadata": {},
   "outputs": [
    {
     "data": {
      "text/plain": [
       "last_scraped                      0\n",
       "name                              0\n",
       "description                       0\n",
       "neighborhood_overview          4190\n",
       "host_location                  1112\n",
       "host_response_time             3176\n",
       "host_response_rate             3176\n",
       "host_acceptance_rate           1824\n",
       "host_is_superhost               110\n",
       "host_verifications                0\n",
       "host_has_profile_pic              0\n",
       "host_identity_verified            0\n",
       "neighbourhood                  4190\n",
       "neighbourhood_cleansed            0\n",
       "latitude                          0\n",
       "longitude                         0\n",
       "property_type                     0\n",
       "room_type                         0\n",
       "accommodates                      0\n",
       "bathrooms                      3791\n",
       "bathrooms_text                   10\n",
       "bedrooms                        274\n",
       "beds                           3816\n",
       "amenities                         0\n",
       "price                          3790\n",
       "minimum_nights                    0\n",
       "maximum_nights                    0\n",
       "minimum_minimum_nights            1\n",
       "maximum_minimum_nights            1\n",
       "minimum_maximum_nights            1\n",
       "maximum_maximum_nights            1\n",
       "minimum_nights_avg_ntm            1\n",
       "maximum_nights_avg_ntm            1\n",
       "calendar_updated               9659\n",
       "has_availability                310\n",
       "availability_30                   0\n",
       "availability_60                   0\n",
       "availability_90                   0\n",
       "availability_365                  0\n",
       "number_of_reviews                 0\n",
       "number_of_reviews_ltm             0\n",
       "number_of_reviews_l30d            0\n",
       "last_review                    1027\n",
       "review_scores_rating           1027\n",
       "review_scores_cleanliness      1028\n",
       "review_scores_checkin          1027\n",
       "review_scores_communication    1027\n",
       "review_scores_location         1027\n",
       "review_scores_value            1027\n",
       "instant_bookable                  0\n",
       "reviews_per_month              1027\n",
       "dtype: int64"
      ]
     },
     "execution_count": 9,
     "metadata": {},
     "output_type": "execute_result"
    }
   ],
   "source": [
    "valores_nulos=data2.isnull().sum()          \n",
    "valores_nulos"
   ]
  },
  {
   "cell_type": "code",
   "execution_count": 10,
   "metadata": {},
   "outputs": [],
   "source": [
    "#Cuarto método de sustitución de valores nulos\n",
    "#Sustituir valores nulos por un string en concreto\n",
    "data2[\"neighborhood_overview\"]=data2[\"neighborhood_overview\"].fillna(\"Nothing to say\")"
   ]
  },
  {
   "cell_type": "code",
   "execution_count": 11,
   "metadata": {},
   "outputs": [
    {
     "data": {
      "text/plain": [
       "last_scraped                      0\n",
       "name                              0\n",
       "description                       0\n",
       "neighborhood_overview             0\n",
       "host_location                  1112\n",
       "host_response_time             3176\n",
       "host_response_rate             3176\n",
       "host_acceptance_rate           1824\n",
       "host_is_superhost               110\n",
       "host_verifications                0\n",
       "host_has_profile_pic              0\n",
       "host_identity_verified            0\n",
       "neighbourhood                  4190\n",
       "neighbourhood_cleansed            0\n",
       "latitude                          0\n",
       "longitude                         0\n",
       "property_type                     0\n",
       "room_type                         0\n",
       "accommodates                      0\n",
       "bathrooms                      3791\n",
       "bathrooms_text                   10\n",
       "bedrooms                        274\n",
       "beds                           3816\n",
       "amenities                         0\n",
       "price                          3790\n",
       "minimum_nights                    0\n",
       "maximum_nights                    0\n",
       "minimum_minimum_nights            1\n",
       "maximum_minimum_nights            1\n",
       "minimum_maximum_nights            1\n",
       "maximum_maximum_nights            1\n",
       "minimum_nights_avg_ntm            1\n",
       "maximum_nights_avg_ntm            1\n",
       "calendar_updated               9659\n",
       "has_availability                310\n",
       "availability_30                   0\n",
       "availability_60                   0\n",
       "availability_90                   0\n",
       "availability_365                  0\n",
       "number_of_reviews                 0\n",
       "number_of_reviews_ltm             0\n",
       "number_of_reviews_l30d            0\n",
       "last_review                    1027\n",
       "review_scores_rating           1027\n",
       "review_scores_cleanliness      1028\n",
       "review_scores_checkin          1027\n",
       "review_scores_communication    1027\n",
       "review_scores_location         1027\n",
       "review_scores_value            1027\n",
       "instant_bookable                  0\n",
       "reviews_per_month              1027\n",
       "dtype: int64"
      ]
     },
     "execution_count": 11,
     "metadata": {},
     "output_type": "execute_result"
    }
   ],
   "source": [
    "valores_nulos=data2.isnull().sum()          \n",
    "valores_nulos"
   ]
  },
  {
   "cell_type": "code",
   "execution_count": 12,
   "metadata": {},
   "outputs": [],
   "source": [
    "#Cuarto método de sustitución de valores nulos\n",
    "#Sustituir valores nulos por un string en concreto\n",
    "data2[\"host_location\"]=data2[\"host_location\"].fillna(\"Not filled yet\")"
   ]
  },
  {
   "cell_type": "code",
   "execution_count": 13,
   "metadata": {},
   "outputs": [
    {
     "data": {
      "text/plain": [
       "last_scraped                      0\n",
       "name                              0\n",
       "description                       0\n",
       "neighborhood_overview             0\n",
       "host_location                     0\n",
       "host_response_time             3176\n",
       "host_response_rate             3176\n",
       "host_acceptance_rate           1824\n",
       "host_is_superhost               110\n",
       "host_verifications                0\n",
       "host_has_profile_pic              0\n",
       "host_identity_verified            0\n",
       "neighbourhood                  4190\n",
       "neighbourhood_cleansed            0\n",
       "latitude                          0\n",
       "longitude                         0\n",
       "property_type                     0\n",
       "room_type                         0\n",
       "accommodates                      0\n",
       "bathrooms                      3791\n",
       "bathrooms_text                   10\n",
       "bedrooms                        274\n",
       "beds                           3816\n",
       "amenities                         0\n",
       "price                          3790\n",
       "minimum_nights                    0\n",
       "maximum_nights                    0\n",
       "minimum_minimum_nights            1\n",
       "maximum_minimum_nights            1\n",
       "minimum_maximum_nights            1\n",
       "maximum_maximum_nights            1\n",
       "minimum_nights_avg_ntm            1\n",
       "maximum_nights_avg_ntm            1\n",
       "calendar_updated               9659\n",
       "has_availability                310\n",
       "availability_30                   0\n",
       "availability_60                   0\n",
       "availability_90                   0\n",
       "availability_365                  0\n",
       "number_of_reviews                 0\n",
       "number_of_reviews_ltm             0\n",
       "number_of_reviews_l30d            0\n",
       "last_review                    1027\n",
       "review_scores_rating           1027\n",
       "review_scores_cleanliness      1028\n",
       "review_scores_checkin          1027\n",
       "review_scores_communication    1027\n",
       "review_scores_location         1027\n",
       "review_scores_value            1027\n",
       "instant_bookable                  0\n",
       "reviews_per_month              1027\n",
       "dtype: int64"
      ]
     },
     "execution_count": 13,
     "metadata": {},
     "output_type": "execute_result"
    }
   ],
   "source": [
    "valores_nulos=data2.isnull().sum()          \n",
    "valores_nulos"
   ]
  },
  {
   "cell_type": "code",
   "execution_count": 15,
   "metadata": {},
   "outputs": [
    {
     "name": "stderr",
     "output_type": "stream",
     "text": [
      "C:\\Users\\lapep\\AppData\\Local\\Temp\\ipykernel_21984\\3327000928.py:3: FutureWarning: Series.fillna with 'method' is deprecated and will raise in a future version. Use obj.ffill() or obj.bfill() instead.\n",
      "  data2[\"host_response_time\"]=data2[\"host_response_time\"].fillna(method=\"bfill\")\n"
     ]
    }
   ],
   "source": [
    "#Sexto método de sustitución de valores nulos\n",
    "#Sustituir valores nulos por valores no nulos hacia atrás backwards\n",
    "data2[\"host_response_time\"]=data2[\"host_response_time\"].fillna(method=\"bfill\")"
   ]
  },
  {
   "cell_type": "code",
   "execution_count": 16,
   "metadata": {},
   "outputs": [
    {
     "data": {
      "text/plain": [
       "last_scraped                      0\n",
       "name                              0\n",
       "description                       0\n",
       "neighborhood_overview             0\n",
       "host_location                     0\n",
       "host_response_time                0\n",
       "host_response_rate             3176\n",
       "host_acceptance_rate           1824\n",
       "host_is_superhost               110\n",
       "host_verifications                0\n",
       "host_has_profile_pic              0\n",
       "host_identity_verified            0\n",
       "neighbourhood                  4190\n",
       "neighbourhood_cleansed            0\n",
       "latitude                          0\n",
       "longitude                         0\n",
       "property_type                     0\n",
       "room_type                         0\n",
       "accommodates                      0\n",
       "bathrooms                      3791\n",
       "bathrooms_text                   10\n",
       "bedrooms                        274\n",
       "beds                           3816\n",
       "amenities                         0\n",
       "price                          3790\n",
       "minimum_nights                    0\n",
       "maximum_nights                    0\n",
       "minimum_minimum_nights            1\n",
       "maximum_minimum_nights            1\n",
       "minimum_maximum_nights            1\n",
       "maximum_maximum_nights            1\n",
       "minimum_nights_avg_ntm            1\n",
       "maximum_nights_avg_ntm            1\n",
       "calendar_updated               9659\n",
       "has_availability                310\n",
       "availability_30                   0\n",
       "availability_60                   0\n",
       "availability_90                   0\n",
       "availability_365                  0\n",
       "number_of_reviews                 0\n",
       "number_of_reviews_ltm             0\n",
       "number_of_reviews_l30d            0\n",
       "last_review                    1027\n",
       "review_scores_rating           1027\n",
       "review_scores_cleanliness      1028\n",
       "review_scores_checkin          1027\n",
       "review_scores_communication    1027\n",
       "review_scores_location         1027\n",
       "review_scores_value            1027\n",
       "instant_bookable                  0\n",
       "reviews_per_month              1027\n",
       "dtype: int64"
      ]
     },
     "execution_count": 16,
     "metadata": {},
     "output_type": "execute_result"
    }
   ],
   "source": [
    "valores_nulos=data2.isnull().sum()          \n",
    "valores_nulos"
   ]
  },
  {
   "cell_type": "code",
   "execution_count": 18,
   "metadata": {},
   "outputs": [
    {
     "name": "stderr",
     "output_type": "stream",
     "text": [
      "C:\\Users\\lapep\\AppData\\Local\\Temp\\ipykernel_21984\\343835087.py:3: FutureWarning: Series.fillna with 'method' is deprecated and will raise in a future version. Use obj.ffill() or obj.bfill() instead.\n",
      "  data2[\"host_response_rate\"]=data2[\"host_response_rate\"].fillna(method=\"bfill\")\n"
     ]
    }
   ],
   "source": [
    "#Sexto método de sustitución de valores nulos\n",
    "#Sustituir valores nulos por valores no nulos hacia atrás backwards\n",
    "data2[\"host_response_rate\"]=data2[\"host_response_rate\"].fillna(method=\"bfill\")"
   ]
  },
  {
   "cell_type": "code",
   "execution_count": 19,
   "metadata": {},
   "outputs": [
    {
     "data": {
      "text/plain": [
       "last_scraped                      0\n",
       "name                              0\n",
       "description                       0\n",
       "neighborhood_overview             0\n",
       "host_location                     0\n",
       "host_response_time                0\n",
       "host_response_rate                0\n",
       "host_acceptance_rate           1824\n",
       "host_is_superhost               110\n",
       "host_verifications                0\n",
       "host_has_profile_pic              0\n",
       "host_identity_verified            0\n",
       "neighbourhood                  4190\n",
       "neighbourhood_cleansed            0\n",
       "latitude                          0\n",
       "longitude                         0\n",
       "property_type                     0\n",
       "room_type                         0\n",
       "accommodates                      0\n",
       "bathrooms                      3791\n",
       "bathrooms_text                   10\n",
       "bedrooms                        274\n",
       "beds                           3816\n",
       "amenities                         0\n",
       "price                          3790\n",
       "minimum_nights                    0\n",
       "maximum_nights                    0\n",
       "minimum_minimum_nights            1\n",
       "maximum_minimum_nights            1\n",
       "minimum_maximum_nights            1\n",
       "maximum_maximum_nights            1\n",
       "minimum_nights_avg_ntm            1\n",
       "maximum_nights_avg_ntm            1\n",
       "calendar_updated               9659\n",
       "has_availability                310\n",
       "availability_30                   0\n",
       "availability_60                   0\n",
       "availability_90                   0\n",
       "availability_365                  0\n",
       "number_of_reviews                 0\n",
       "number_of_reviews_ltm             0\n",
       "number_of_reviews_l30d            0\n",
       "last_review                    1027\n",
       "review_scores_rating           1027\n",
       "review_scores_cleanliness      1028\n",
       "review_scores_checkin          1027\n",
       "review_scores_communication    1027\n",
       "review_scores_location         1027\n",
       "review_scores_value            1027\n",
       "instant_bookable                  0\n",
       "reviews_per_month              1027\n",
       "dtype: int64"
      ]
     },
     "execution_count": 19,
     "metadata": {},
     "output_type": "execute_result"
    }
   ],
   "source": [
    "valores_nulos=data2.isnull().sum()          \n",
    "valores_nulos"
   ]
  },
  {
   "cell_type": "code",
   "execution_count": 20,
   "metadata": {},
   "outputs": [],
   "source": [
    "#Cuarto método de sustitución de valores nulos\n",
    "#Sustituir valores nulos por un string en concreto\n",
    "data2[\"host_acceptance_rate\"]=data2[\"host_acceptance_rate\"].fillna(\"Without information\")"
   ]
  },
  {
   "cell_type": "code",
   "execution_count": 21,
   "metadata": {},
   "outputs": [
    {
     "data": {
      "text/plain": [
       "last_scraped                      0\n",
       "name                              0\n",
       "description                       0\n",
       "neighborhood_overview             0\n",
       "host_location                     0\n",
       "host_response_time                0\n",
       "host_response_rate                0\n",
       "host_acceptance_rate              0\n",
       "host_is_superhost               110\n",
       "host_verifications                0\n",
       "host_has_profile_pic              0\n",
       "host_identity_verified            0\n",
       "neighbourhood                  4190\n",
       "neighbourhood_cleansed            0\n",
       "latitude                          0\n",
       "longitude                         0\n",
       "property_type                     0\n",
       "room_type                         0\n",
       "accommodates                      0\n",
       "bathrooms                      3791\n",
       "bathrooms_text                   10\n",
       "bedrooms                        274\n",
       "beds                           3816\n",
       "amenities                         0\n",
       "price                          3790\n",
       "minimum_nights                    0\n",
       "maximum_nights                    0\n",
       "minimum_minimum_nights            1\n",
       "maximum_minimum_nights            1\n",
       "minimum_maximum_nights            1\n",
       "maximum_maximum_nights            1\n",
       "minimum_nights_avg_ntm            1\n",
       "maximum_nights_avg_ntm            1\n",
       "calendar_updated               9659\n",
       "has_availability                310\n",
       "availability_30                   0\n",
       "availability_60                   0\n",
       "availability_90                   0\n",
       "availability_365                  0\n",
       "number_of_reviews                 0\n",
       "number_of_reviews_ltm             0\n",
       "number_of_reviews_l30d            0\n",
       "last_review                    1027\n",
       "review_scores_rating           1027\n",
       "review_scores_cleanliness      1028\n",
       "review_scores_checkin          1027\n",
       "review_scores_communication    1027\n",
       "review_scores_location         1027\n",
       "review_scores_value            1027\n",
       "instant_bookable                  0\n",
       "reviews_per_month              1027\n",
       "dtype: int64"
      ]
     },
     "execution_count": 21,
     "metadata": {},
     "output_type": "execute_result"
    }
   ],
   "source": [
    "valores_nulos=data2.isnull().sum()          \n",
    "valores_nulos"
   ]
  },
  {
   "cell_type": "code",
   "execution_count": 22,
   "metadata": {},
   "outputs": [
    {
     "name": "stderr",
     "output_type": "stream",
     "text": [
      "C:\\Users\\lapep\\AppData\\Local\\Temp\\ipykernel_21984\\4228744121.py:3: FutureWarning: Series.fillna with 'method' is deprecated and will raise in a future version. Use obj.ffill() or obj.bfill() instead.\n",
      "  data2[\"host_is_superhost\"]=data2[\"host_is_superhost\"].fillna(method=\"ffill\")\n"
     ]
    }
   ],
   "source": [
    "#Quinto método de sustitución de valores nulos\n",
    "#Sustituir valores nulos por valores no nulos hacia adelante \"forward fill\"(\"ffill\")\n",
    "data2[\"host_is_superhost\"]=data2[\"host_is_superhost\"].fillna(method=\"ffill\")"
   ]
  },
  {
   "cell_type": "code",
   "execution_count": 23,
   "metadata": {},
   "outputs": [
    {
     "data": {
      "text/plain": [
       "last_scraped                      0\n",
       "name                              0\n",
       "description                       0\n",
       "neighborhood_overview             0\n",
       "host_location                     0\n",
       "host_response_time                0\n",
       "host_response_rate                0\n",
       "host_acceptance_rate              0\n",
       "host_is_superhost                 0\n",
       "host_verifications                0\n",
       "host_has_profile_pic              0\n",
       "host_identity_verified            0\n",
       "neighbourhood                  4190\n",
       "neighbourhood_cleansed            0\n",
       "latitude                          0\n",
       "longitude                         0\n",
       "property_type                     0\n",
       "room_type                         0\n",
       "accommodates                      0\n",
       "bathrooms                      3791\n",
       "bathrooms_text                   10\n",
       "bedrooms                        274\n",
       "beds                           3816\n",
       "amenities                         0\n",
       "price                          3790\n",
       "minimum_nights                    0\n",
       "maximum_nights                    0\n",
       "minimum_minimum_nights            1\n",
       "maximum_minimum_nights            1\n",
       "minimum_maximum_nights            1\n",
       "maximum_maximum_nights            1\n",
       "minimum_nights_avg_ntm            1\n",
       "maximum_nights_avg_ntm            1\n",
       "calendar_updated               9659\n",
       "has_availability                310\n",
       "availability_30                   0\n",
       "availability_60                   0\n",
       "availability_90                   0\n",
       "availability_365                  0\n",
       "number_of_reviews                 0\n",
       "number_of_reviews_ltm             0\n",
       "number_of_reviews_l30d            0\n",
       "last_review                    1027\n",
       "review_scores_rating           1027\n",
       "review_scores_cleanliness      1028\n",
       "review_scores_checkin          1027\n",
       "review_scores_communication    1027\n",
       "review_scores_location         1027\n",
       "review_scores_value            1027\n",
       "instant_bookable                  0\n",
       "reviews_per_month              1027\n",
       "dtype: int64"
      ]
     },
     "execution_count": 23,
     "metadata": {},
     "output_type": "execute_result"
    }
   ],
   "source": [
    "valores_nulos=data2.isnull().sum()          \n",
    "valores_nulos"
   ]
  },
  {
   "cell_type": "code",
   "execution_count": 24,
   "metadata": {},
   "outputs": [],
   "source": [
    "#Cuarto método de sustitución de valores nulos\n",
    "#Sustituir valores nulos por un string en concreto\n",
    "data2[\"neighbourhood\"]=data2[\"neighbourhood\"].fillna(\"Not available\")"
   ]
  },
  {
   "cell_type": "code",
   "execution_count": 25,
   "metadata": {},
   "outputs": [
    {
     "data": {
      "text/plain": [
       "last_scraped                      0\n",
       "name                              0\n",
       "description                       0\n",
       "neighborhood_overview             0\n",
       "host_location                     0\n",
       "host_response_time                0\n",
       "host_response_rate                0\n",
       "host_acceptance_rate              0\n",
       "host_is_superhost                 0\n",
       "host_verifications                0\n",
       "host_has_profile_pic              0\n",
       "host_identity_verified            0\n",
       "neighbourhood                     0\n",
       "neighbourhood_cleansed            0\n",
       "latitude                          0\n",
       "longitude                         0\n",
       "property_type                     0\n",
       "room_type                         0\n",
       "accommodates                      0\n",
       "bathrooms                      3791\n",
       "bathrooms_text                   10\n",
       "bedrooms                        274\n",
       "beds                           3816\n",
       "amenities                         0\n",
       "price                          3790\n",
       "minimum_nights                    0\n",
       "maximum_nights                    0\n",
       "minimum_minimum_nights            1\n",
       "maximum_minimum_nights            1\n",
       "minimum_maximum_nights            1\n",
       "maximum_maximum_nights            1\n",
       "minimum_nights_avg_ntm            1\n",
       "maximum_nights_avg_ntm            1\n",
       "calendar_updated               9659\n",
       "has_availability                310\n",
       "availability_30                   0\n",
       "availability_60                   0\n",
       "availability_90                   0\n",
       "availability_365                  0\n",
       "number_of_reviews                 0\n",
       "number_of_reviews_ltm             0\n",
       "number_of_reviews_l30d            0\n",
       "last_review                    1027\n",
       "review_scores_rating           1027\n",
       "review_scores_cleanliness      1028\n",
       "review_scores_checkin          1027\n",
       "review_scores_communication    1027\n",
       "review_scores_location         1027\n",
       "review_scores_value            1027\n",
       "instant_bookable                  0\n",
       "reviews_per_month              1027\n",
       "dtype: int64"
      ]
     },
     "execution_count": 25,
     "metadata": {},
     "output_type": "execute_result"
    }
   ],
   "source": [
    "valores_nulos=data2.isnull().sum()          \n",
    "valores_nulos"
   ]
  },
  {
   "cell_type": "code",
   "execution_count": 26,
   "metadata": {},
   "outputs": [],
   "source": [
    "#Segundo método de sustitución de valores nulos\n",
    "#Sustituir valores nulos con mediana\n",
    "data2[\"bathrooms\"]=data2[\"bathrooms\"].fillna(round(data2[\"bathrooms\"].median(),1))"
   ]
  },
  {
   "cell_type": "code",
   "execution_count": 27,
   "metadata": {},
   "outputs": [
    {
     "data": {
      "text/plain": [
       "last_scraped                      0\n",
       "name                              0\n",
       "description                       0\n",
       "neighborhood_overview             0\n",
       "host_location                     0\n",
       "host_response_time                0\n",
       "host_response_rate                0\n",
       "host_acceptance_rate              0\n",
       "host_is_superhost                 0\n",
       "host_verifications                0\n",
       "host_has_profile_pic              0\n",
       "host_identity_verified            0\n",
       "neighbourhood                     0\n",
       "neighbourhood_cleansed            0\n",
       "latitude                          0\n",
       "longitude                         0\n",
       "property_type                     0\n",
       "room_type                         0\n",
       "accommodates                      0\n",
       "bathrooms                         0\n",
       "bathrooms_text                   10\n",
       "bedrooms                        274\n",
       "beds                           3816\n",
       "amenities                         0\n",
       "price                          3790\n",
       "minimum_nights                    0\n",
       "maximum_nights                    0\n",
       "minimum_minimum_nights            1\n",
       "maximum_minimum_nights            1\n",
       "minimum_maximum_nights            1\n",
       "maximum_maximum_nights            1\n",
       "minimum_nights_avg_ntm            1\n",
       "maximum_nights_avg_ntm            1\n",
       "calendar_updated               9659\n",
       "has_availability                310\n",
       "availability_30                   0\n",
       "availability_60                   0\n",
       "availability_90                   0\n",
       "availability_365                  0\n",
       "number_of_reviews                 0\n",
       "number_of_reviews_ltm             0\n",
       "number_of_reviews_l30d            0\n",
       "last_review                    1027\n",
       "review_scores_rating           1027\n",
       "review_scores_cleanliness      1028\n",
       "review_scores_checkin          1027\n",
       "review_scores_communication    1027\n",
       "review_scores_location         1027\n",
       "review_scores_value            1027\n",
       "instant_bookable                  0\n",
       "reviews_per_month              1027\n",
       "dtype: int64"
      ]
     },
     "execution_count": 27,
     "metadata": {},
     "output_type": "execute_result"
    }
   ],
   "source": [
    "valores_nulos=data2.isnull().sum()          \n",
    "valores_nulos"
   ]
  },
  {
   "cell_type": "code",
   "execution_count": 28,
   "metadata": {},
   "outputs": [
    {
     "name": "stderr",
     "output_type": "stream",
     "text": [
      "C:\\Users\\lapep\\AppData\\Local\\Temp\\ipykernel_21984\\1749104701.py:3: FutureWarning: Series.fillna with 'method' is deprecated and will raise in a future version. Use obj.ffill() or obj.bfill() instead.\n",
      "  data2[\"bathrooms_text\"]=data2[\"bathrooms_text\"].fillna(method=\"ffill\")\n"
     ]
    }
   ],
   "source": [
    "#Quinto método de sustitución de valores nulos\n",
    "#Sustituir valores nulos por valores no nulos hacia adelante \"forward fill\"(\"ffill\")\n",
    "data2[\"bathrooms_text\"]=data2[\"bathrooms_text\"].fillna(method=\"ffill\")"
   ]
  },
  {
   "cell_type": "code",
   "execution_count": 29,
   "metadata": {},
   "outputs": [
    {
     "data": {
      "text/plain": [
       "last_scraped                      0\n",
       "name                              0\n",
       "description                       0\n",
       "neighborhood_overview             0\n",
       "host_location                     0\n",
       "host_response_time                0\n",
       "host_response_rate                0\n",
       "host_acceptance_rate              0\n",
       "host_is_superhost                 0\n",
       "host_verifications                0\n",
       "host_has_profile_pic              0\n",
       "host_identity_verified            0\n",
       "neighbourhood                     0\n",
       "neighbourhood_cleansed            0\n",
       "latitude                          0\n",
       "longitude                         0\n",
       "property_type                     0\n",
       "room_type                         0\n",
       "accommodates                      0\n",
       "bathrooms                         0\n",
       "bathrooms_text                    0\n",
       "bedrooms                        274\n",
       "beds                           3816\n",
       "amenities                         0\n",
       "price                          3790\n",
       "minimum_nights                    0\n",
       "maximum_nights                    0\n",
       "minimum_minimum_nights            1\n",
       "maximum_minimum_nights            1\n",
       "minimum_maximum_nights            1\n",
       "maximum_maximum_nights            1\n",
       "minimum_nights_avg_ntm            1\n",
       "maximum_nights_avg_ntm            1\n",
       "calendar_updated               9659\n",
       "has_availability                310\n",
       "availability_30                   0\n",
       "availability_60                   0\n",
       "availability_90                   0\n",
       "availability_365                  0\n",
       "number_of_reviews                 0\n",
       "number_of_reviews_ltm             0\n",
       "number_of_reviews_l30d            0\n",
       "last_review                    1027\n",
       "review_scores_rating           1027\n",
       "review_scores_cleanliness      1028\n",
       "review_scores_checkin          1027\n",
       "review_scores_communication    1027\n",
       "review_scores_location         1027\n",
       "review_scores_value            1027\n",
       "instant_bookable                  0\n",
       "reviews_per_month              1027\n",
       "dtype: int64"
      ]
     },
     "execution_count": 29,
     "metadata": {},
     "output_type": "execute_result"
    }
   ],
   "source": [
    "valores_nulos=data2.isnull().sum()          \n",
    "valores_nulos"
   ]
  },
  {
   "cell_type": "code",
   "execution_count": 30,
   "metadata": {},
   "outputs": [],
   "source": [
    "#Primer método de sustitución de valores nulos\n",
    "#Sustituir valores nulos con promedio o media\n",
    "data2[\"bedrooms\"]=data2[\"bedrooms\"].fillna(round(data2[\"bedrooms\"].mean(),1))"
   ]
  },
  {
   "cell_type": "code",
   "execution_count": 31,
   "metadata": {},
   "outputs": [
    {
     "data": {
      "text/plain": [
       "last_scraped                      0\n",
       "name                              0\n",
       "description                       0\n",
       "neighborhood_overview             0\n",
       "host_location                     0\n",
       "host_response_time                0\n",
       "host_response_rate                0\n",
       "host_acceptance_rate              0\n",
       "host_is_superhost                 0\n",
       "host_verifications                0\n",
       "host_has_profile_pic              0\n",
       "host_identity_verified            0\n",
       "neighbourhood                     0\n",
       "neighbourhood_cleansed            0\n",
       "latitude                          0\n",
       "longitude                         0\n",
       "property_type                     0\n",
       "room_type                         0\n",
       "accommodates                      0\n",
       "bathrooms                         0\n",
       "bathrooms_text                    0\n",
       "bedrooms                          0\n",
       "beds                           3816\n",
       "amenities                         0\n",
       "price                          3790\n",
       "minimum_nights                    0\n",
       "maximum_nights                    0\n",
       "minimum_minimum_nights            1\n",
       "maximum_minimum_nights            1\n",
       "minimum_maximum_nights            1\n",
       "maximum_maximum_nights            1\n",
       "minimum_nights_avg_ntm            1\n",
       "maximum_nights_avg_ntm            1\n",
       "calendar_updated               9659\n",
       "has_availability                310\n",
       "availability_30                   0\n",
       "availability_60                   0\n",
       "availability_90                   0\n",
       "availability_365                  0\n",
       "number_of_reviews                 0\n",
       "number_of_reviews_ltm             0\n",
       "number_of_reviews_l30d            0\n",
       "last_review                    1027\n",
       "review_scores_rating           1027\n",
       "review_scores_cleanliness      1028\n",
       "review_scores_checkin          1027\n",
       "review_scores_communication    1027\n",
       "review_scores_location         1027\n",
       "review_scores_value            1027\n",
       "instant_bookable                  0\n",
       "reviews_per_month              1027\n",
       "dtype: int64"
      ]
     },
     "execution_count": 31,
     "metadata": {},
     "output_type": "execute_result"
    }
   ],
   "source": [
    "valores_nulos=data2.isnull().sum()          \n",
    "valores_nulos"
   ]
  },
  {
   "cell_type": "code",
   "execution_count": 32,
   "metadata": {},
   "outputs": [],
   "source": [
    "#Primer método de sustitución de valores nulos\n",
    "#Sustituir valores nulos con promedio o media\n",
    "data2[\"beds\"]=data2[\"beds\"].fillna(round(data2[\"beds\"].mean(),1))"
   ]
  },
  {
   "cell_type": "code",
   "execution_count": 33,
   "metadata": {},
   "outputs": [
    {
     "data": {
      "text/plain": [
       "last_scraped                      0\n",
       "name                              0\n",
       "description                       0\n",
       "neighborhood_overview             0\n",
       "host_location                     0\n",
       "host_response_time                0\n",
       "host_response_rate                0\n",
       "host_acceptance_rate              0\n",
       "host_is_superhost                 0\n",
       "host_verifications                0\n",
       "host_has_profile_pic              0\n",
       "host_identity_verified            0\n",
       "neighbourhood                     0\n",
       "neighbourhood_cleansed            0\n",
       "latitude                          0\n",
       "longitude                         0\n",
       "property_type                     0\n",
       "room_type                         0\n",
       "accommodates                      0\n",
       "bathrooms                         0\n",
       "bathrooms_text                    0\n",
       "bedrooms                          0\n",
       "beds                              0\n",
       "amenities                         0\n",
       "price                          3790\n",
       "minimum_nights                    0\n",
       "maximum_nights                    0\n",
       "minimum_minimum_nights            1\n",
       "maximum_minimum_nights            1\n",
       "minimum_maximum_nights            1\n",
       "maximum_maximum_nights            1\n",
       "minimum_nights_avg_ntm            1\n",
       "maximum_nights_avg_ntm            1\n",
       "calendar_updated               9659\n",
       "has_availability                310\n",
       "availability_30                   0\n",
       "availability_60                   0\n",
       "availability_90                   0\n",
       "availability_365                  0\n",
       "number_of_reviews                 0\n",
       "number_of_reviews_ltm             0\n",
       "number_of_reviews_l30d            0\n",
       "last_review                    1027\n",
       "review_scores_rating           1027\n",
       "review_scores_cleanliness      1028\n",
       "review_scores_checkin          1027\n",
       "review_scores_communication    1027\n",
       "review_scores_location         1027\n",
       "review_scores_value            1027\n",
       "instant_bookable                  0\n",
       "reviews_per_month              1027\n",
       "dtype: int64"
      ]
     },
     "execution_count": 33,
     "metadata": {},
     "output_type": "execute_result"
    }
   ],
   "source": [
    "valores_nulos=data2.isnull().sum()          \n",
    "valores_nulos"
   ]
  },
  {
   "cell_type": "code",
   "execution_count": 35,
   "metadata": {},
   "outputs": [],
   "source": [
    "#Cuarto método de sustitución de valores nulos\n",
    "#Sustituir valores nulos por un string en concreto\n",
    "data2[\"price\"]=data2[\"price\"].fillna(\"Does not say\")"
   ]
  },
  {
   "cell_type": "code",
   "execution_count": 36,
   "metadata": {},
   "outputs": [
    {
     "data": {
      "text/plain": [
       "last_scraped                      0\n",
       "name                              0\n",
       "description                       0\n",
       "neighborhood_overview             0\n",
       "host_location                     0\n",
       "host_response_time                0\n",
       "host_response_rate                0\n",
       "host_acceptance_rate              0\n",
       "host_is_superhost                 0\n",
       "host_verifications                0\n",
       "host_has_profile_pic              0\n",
       "host_identity_verified            0\n",
       "neighbourhood                     0\n",
       "neighbourhood_cleansed            0\n",
       "latitude                          0\n",
       "longitude                         0\n",
       "property_type                     0\n",
       "room_type                         0\n",
       "accommodates                      0\n",
       "bathrooms                         0\n",
       "bathrooms_text                    0\n",
       "bedrooms                          0\n",
       "beds                              0\n",
       "amenities                         0\n",
       "price                             0\n",
       "minimum_nights                    0\n",
       "maximum_nights                    0\n",
       "minimum_minimum_nights            1\n",
       "maximum_minimum_nights            1\n",
       "minimum_maximum_nights            1\n",
       "maximum_maximum_nights            1\n",
       "minimum_nights_avg_ntm            1\n",
       "maximum_nights_avg_ntm            1\n",
       "calendar_updated               9659\n",
       "has_availability                310\n",
       "availability_30                   0\n",
       "availability_60                   0\n",
       "availability_90                   0\n",
       "availability_365                  0\n",
       "number_of_reviews                 0\n",
       "number_of_reviews_ltm             0\n",
       "number_of_reviews_l30d            0\n",
       "last_review                    1027\n",
       "review_scores_rating           1027\n",
       "review_scores_cleanliness      1028\n",
       "review_scores_checkin          1027\n",
       "review_scores_communication    1027\n",
       "review_scores_location         1027\n",
       "review_scores_value            1027\n",
       "instant_bookable                  0\n",
       "reviews_per_month              1027\n",
       "dtype: int64"
      ]
     },
     "execution_count": 36,
     "metadata": {},
     "output_type": "execute_result"
    }
   ],
   "source": [
    "valores_nulos=data2.isnull().sum()          \n",
    "valores_nulos"
   ]
  },
  {
   "cell_type": "code",
   "execution_count": 37,
   "metadata": {},
   "outputs": [
    {
     "name": "stderr",
     "output_type": "stream",
     "text": [
      "C:\\Users\\lapep\\AppData\\Local\\Temp\\ipykernel_21984\\3758254913.py:3: FutureWarning: Series.fillna with 'method' is deprecated and will raise in a future version. Use obj.ffill() or obj.bfill() instead.\n",
      "  data2[\"review_scores_location\"]=data2[\"review_scores_location\"].fillna(method=\"ffill\")\n"
     ]
    }
   ],
   "source": [
    "#Quinto método de sustitución de valores nulos\n",
    "#Sustituir valores nulos por valores no nulos hacia adelante \"forward fill\"(\"ffill\")\n",
    "data2[\"review_scores_location\"]=data2[\"review_scores_location\"].fillna(method=\"ffill\")"
   ]
  },
  {
   "cell_type": "code",
   "execution_count": 38,
   "metadata": {},
   "outputs": [
    {
     "data": {
      "text/plain": [
       "last_scraped                      0\n",
       "name                              0\n",
       "description                       0\n",
       "neighborhood_overview             0\n",
       "host_location                     0\n",
       "host_response_time                0\n",
       "host_response_rate                0\n",
       "host_acceptance_rate              0\n",
       "host_is_superhost                 0\n",
       "host_verifications                0\n",
       "host_has_profile_pic              0\n",
       "host_identity_verified            0\n",
       "neighbourhood                     0\n",
       "neighbourhood_cleansed            0\n",
       "latitude                          0\n",
       "longitude                         0\n",
       "property_type                     0\n",
       "room_type                         0\n",
       "accommodates                      0\n",
       "bathrooms                         0\n",
       "bathrooms_text                    0\n",
       "bedrooms                          0\n",
       "beds                              0\n",
       "amenities                         0\n",
       "price                             0\n",
       "minimum_nights                    0\n",
       "maximum_nights                    0\n",
       "minimum_minimum_nights            1\n",
       "maximum_minimum_nights            1\n",
       "minimum_maximum_nights            1\n",
       "maximum_maximum_nights            1\n",
       "minimum_nights_avg_ntm            1\n",
       "maximum_nights_avg_ntm            1\n",
       "calendar_updated               9659\n",
       "has_availability                310\n",
       "availability_30                   0\n",
       "availability_60                   0\n",
       "availability_90                   0\n",
       "availability_365                  0\n",
       "number_of_reviews                 0\n",
       "number_of_reviews_ltm             0\n",
       "number_of_reviews_l30d            0\n",
       "last_review                    1027\n",
       "review_scores_rating           1027\n",
       "review_scores_cleanliness      1028\n",
       "review_scores_checkin          1027\n",
       "review_scores_communication    1027\n",
       "review_scores_location            0\n",
       "review_scores_value            1027\n",
       "instant_bookable                  0\n",
       "reviews_per_month              1027\n",
       "dtype: int64"
      ]
     },
     "execution_count": 38,
     "metadata": {},
     "output_type": "execute_result"
    }
   ],
   "source": [
    "valores_nulos=data2.isnull().sum()          \n",
    "valores_nulos"
   ]
  },
  {
   "cell_type": "code",
   "execution_count": 46,
   "metadata": {},
   "outputs": [],
   "source": [
    "#Cuarto método de sustitución de valores nulos\n",
    "#Sustituir valores nulos por un string en concreto\n",
    "data2[\"review_scores_value\"]=data2[\"review_scores_value\"].fillna(\"Does not say\")"
   ]
  },
  {
   "cell_type": "code",
   "execution_count": 47,
   "metadata": {},
   "outputs": [
    {
     "data": {
      "text/plain": [
       "last_scraped                      0\n",
       "name                              0\n",
       "description                       0\n",
       "neighborhood_overview             0\n",
       "host_location                     0\n",
       "host_response_time                0\n",
       "host_response_rate                0\n",
       "host_acceptance_rate              0\n",
       "host_is_superhost                 0\n",
       "host_verifications                0\n",
       "host_has_profile_pic              0\n",
       "host_identity_verified            0\n",
       "neighbourhood                     0\n",
       "neighbourhood_cleansed            0\n",
       "latitude                          0\n",
       "longitude                         0\n",
       "property_type                     0\n",
       "room_type                         0\n",
       "accommodates                      0\n",
       "bathrooms                         0\n",
       "bathrooms_text                    0\n",
       "bedrooms                          0\n",
       "beds                              0\n",
       "amenities                         0\n",
       "price                             0\n",
       "minimum_nights                    0\n",
       "maximum_nights                    0\n",
       "minimum_minimum_nights            1\n",
       "maximum_minimum_nights            1\n",
       "minimum_maximum_nights            1\n",
       "maximum_maximum_nights            1\n",
       "minimum_nights_avg_ntm            1\n",
       "maximum_nights_avg_ntm            1\n",
       "calendar_updated               9659\n",
       "has_availability                310\n",
       "availability_30                   0\n",
       "availability_60                   0\n",
       "availability_90                   0\n",
       "availability_365                  0\n",
       "number_of_reviews                 0\n",
       "number_of_reviews_ltm             0\n",
       "number_of_reviews_l30d            0\n",
       "last_review                    1027\n",
       "review_scores_rating           1027\n",
       "review_scores_cleanliness      1028\n",
       "review_scores_checkin          1027\n",
       "review_scores_communication    1027\n",
       "review_scores_location            0\n",
       "review_scores_value               0\n",
       "instant_bookable                  0\n",
       "reviews_per_month                 2\n",
       "dtype: int64"
      ]
     },
     "execution_count": 47,
     "metadata": {},
     "output_type": "execute_result"
    }
   ],
   "source": [
    "valores_nulos=data2.isnull().sum()          \n",
    "valores_nulos"
   ]
  },
  {
   "cell_type": "code",
   "execution_count": 48,
   "metadata": {},
   "outputs": [],
   "source": [
    "#Cuarto método de sustitución de valores nulos\n",
    "#Sustituir valores nulos por un string en concreto\n",
    "data2[\"reviews_per_month\"]=data2[\"reviews_per_month\"].fillna(\"Does not say\")"
   ]
  },
  {
   "cell_type": "code",
   "execution_count": 56,
   "metadata": {},
   "outputs": [
    {
     "data": {
      "text/plain": [
       "last_scraped                      0\n",
       "name                              0\n",
       "description                       0\n",
       "neighborhood_overview             0\n",
       "host_location                     0\n",
       "host_response_time                0\n",
       "host_response_rate                0\n",
       "host_acceptance_rate              0\n",
       "host_is_superhost                 0\n",
       "host_verifications                0\n",
       "host_has_profile_pic              0\n",
       "host_identity_verified            0\n",
       "neighbourhood                     0\n",
       "neighbourhood_cleansed            0\n",
       "latitude                          0\n",
       "longitude                         0\n",
       "property_type                     0\n",
       "room_type                         0\n",
       "accommodates                      0\n",
       "bathrooms                         0\n",
       "bathrooms_text                    0\n",
       "bedrooms                          0\n",
       "beds                              0\n",
       "amenities                         0\n",
       "price                             0\n",
       "minimum_nights                    0\n",
       "maximum_nights                    0\n",
       "minimum_minimum_nights            1\n",
       "maximum_minimum_nights            1\n",
       "minimum_maximum_nights            1\n",
       "maximum_maximum_nights            1\n",
       "minimum_nights_avg_ntm            1\n",
       "maximum_nights_avg_ntm            1\n",
       "calendar_updated               9659\n",
       "has_availability                310\n",
       "availability_30                   0\n",
       "availability_60                   0\n",
       "availability_90                   0\n",
       "availability_365                  0\n",
       "number_of_reviews                 0\n",
       "number_of_reviews_ltm             0\n",
       "number_of_reviews_l30d            0\n",
       "last_review                    1027\n",
       "review_scores_rating           1027\n",
       "review_scores_cleanliness      1028\n",
       "review_scores_checkin          1027\n",
       "review_scores_communication    1027\n",
       "review_scores_location            0\n",
       "review_scores_value               0\n",
       "instant_bookable                  0\n",
       "reviews_per_month                 0\n",
       "dtype: int64"
      ]
     },
     "execution_count": 56,
     "metadata": {},
     "output_type": "execute_result"
    }
   ],
   "source": [
    "valores_nulos=data2.isnull().sum()          \n",
    "valores_nulos"
   ]
  },
  {
   "cell_type": "code",
   "execution_count": 57,
   "metadata": {},
   "outputs": [
    {
     "name": "stderr",
     "output_type": "stream",
     "text": [
      "C:\\Users\\lapep\\AppData\\Local\\Temp\\ipykernel_21984\\1794171787.py:3: FutureWarning: Series.fillna with 'method' is deprecated and will raise in a future version. Use obj.ffill() or obj.bfill() instead.\n",
      "  data2[\"minimum_minimum_nights\"]=data2[\"minimum_minimum_nights\"].fillna(method=\"ffill\")\n"
     ]
    }
   ],
   "source": [
    "#Quinto método de sustitución de valores nulos\n",
    "#Sustituir valores nulos por valores no nulos hacia adelante \"forward fill\"(\"ffill\")\n",
    "data2[\"minimum_minimum_nights\"]=data2[\"minimum_minimum_nights\"].fillna(method=\"ffill\")"
   ]
  },
  {
   "cell_type": "code",
   "execution_count": 58,
   "metadata": {},
   "outputs": [
    {
     "data": {
      "text/plain": [
       "last_scraped                      0\n",
       "name                              0\n",
       "description                       0\n",
       "neighborhood_overview             0\n",
       "host_location                     0\n",
       "host_response_time                0\n",
       "host_response_rate                0\n",
       "host_acceptance_rate              0\n",
       "host_is_superhost                 0\n",
       "host_verifications                0\n",
       "host_has_profile_pic              0\n",
       "host_identity_verified            0\n",
       "neighbourhood                     0\n",
       "neighbourhood_cleansed            0\n",
       "latitude                          0\n",
       "longitude                         0\n",
       "property_type                     0\n",
       "room_type                         0\n",
       "accommodates                      0\n",
       "bathrooms                         0\n",
       "bathrooms_text                    0\n",
       "bedrooms                          0\n",
       "beds                              0\n",
       "amenities                         0\n",
       "price                             0\n",
       "minimum_nights                    0\n",
       "maximum_nights                    0\n",
       "minimum_minimum_nights            0\n",
       "maximum_minimum_nights            1\n",
       "minimum_maximum_nights            1\n",
       "maximum_maximum_nights            1\n",
       "minimum_nights_avg_ntm            1\n",
       "maximum_nights_avg_ntm            1\n",
       "calendar_updated               9659\n",
       "has_availability                310\n",
       "availability_30                   0\n",
       "availability_60                   0\n",
       "availability_90                   0\n",
       "availability_365                  0\n",
       "number_of_reviews                 0\n",
       "number_of_reviews_ltm             0\n",
       "number_of_reviews_l30d            0\n",
       "last_review                    1027\n",
       "review_scores_rating           1027\n",
       "review_scores_cleanliness      1028\n",
       "review_scores_checkin          1027\n",
       "review_scores_communication    1027\n",
       "review_scores_location            0\n",
       "review_scores_value               0\n",
       "instant_bookable                  0\n",
       "reviews_per_month                 0\n",
       "dtype: int64"
      ]
     },
     "execution_count": 58,
     "metadata": {},
     "output_type": "execute_result"
    }
   ],
   "source": [
    "valores_nulos=data2.isnull().sum()          \n",
    "valores_nulos"
   ]
  },
  {
   "cell_type": "code",
   "execution_count": 59,
   "metadata": {},
   "outputs": [
    {
     "name": "stderr",
     "output_type": "stream",
     "text": [
      "C:\\Users\\lapep\\AppData\\Local\\Temp\\ipykernel_21984\\1125925491.py:3: FutureWarning: Series.fillna with 'method' is deprecated and will raise in a future version. Use obj.ffill() or obj.bfill() instead.\n",
      "  data2[\"maximum_minimum_nights\"]=data2[\"maximum_minimum_nights\"].fillna(method=\"bfill\")\n"
     ]
    }
   ],
   "source": [
    "#Sexto método de sustitución de valores nulos\n",
    "#Sustituir valores nulos por valores no nulos hacia atrás backwards\n",
    "data2[\"maximum_minimum_nights\"]=data2[\"maximum_minimum_nights\"].fillna(method=\"bfill\")"
   ]
  },
  {
   "cell_type": "code",
   "execution_count": 60,
   "metadata": {},
   "outputs": [
    {
     "data": {
      "text/plain": [
       "last_scraped                      0\n",
       "name                              0\n",
       "description                       0\n",
       "neighborhood_overview             0\n",
       "host_location                     0\n",
       "host_response_time                0\n",
       "host_response_rate                0\n",
       "host_acceptance_rate              0\n",
       "host_is_superhost                 0\n",
       "host_verifications                0\n",
       "host_has_profile_pic              0\n",
       "host_identity_verified            0\n",
       "neighbourhood                     0\n",
       "neighbourhood_cleansed            0\n",
       "latitude                          0\n",
       "longitude                         0\n",
       "property_type                     0\n",
       "room_type                         0\n",
       "accommodates                      0\n",
       "bathrooms                         0\n",
       "bathrooms_text                    0\n",
       "bedrooms                          0\n",
       "beds                              0\n",
       "amenities                         0\n",
       "price                             0\n",
       "minimum_nights                    0\n",
       "maximum_nights                    0\n",
       "minimum_minimum_nights            0\n",
       "maximum_minimum_nights            0\n",
       "minimum_maximum_nights            1\n",
       "maximum_maximum_nights            1\n",
       "minimum_nights_avg_ntm            1\n",
       "maximum_nights_avg_ntm            1\n",
       "calendar_updated               9659\n",
       "has_availability                310\n",
       "availability_30                   0\n",
       "availability_60                   0\n",
       "availability_90                   0\n",
       "availability_365                  0\n",
       "number_of_reviews                 0\n",
       "number_of_reviews_ltm             0\n",
       "number_of_reviews_l30d            0\n",
       "last_review                    1027\n",
       "review_scores_rating           1027\n",
       "review_scores_cleanliness      1028\n",
       "review_scores_checkin          1027\n",
       "review_scores_communication    1027\n",
       "review_scores_location            0\n",
       "review_scores_value               0\n",
       "instant_bookable                  0\n",
       "reviews_per_month                 0\n",
       "dtype: int64"
      ]
     },
     "execution_count": 60,
     "metadata": {},
     "output_type": "execute_result"
    }
   ],
   "source": [
    "valores_nulos=data2.isnull().sum()          \n",
    "valores_nulos"
   ]
  },
  {
   "cell_type": "code",
   "execution_count": 61,
   "metadata": {},
   "outputs": [
    {
     "name": "stderr",
     "output_type": "stream",
     "text": [
      "C:\\Users\\lapep\\AppData\\Local\\Temp\\ipykernel_21984\\3658705434.py:3: FutureWarning: Series.fillna with 'method' is deprecated and will raise in a future version. Use obj.ffill() or obj.bfill() instead.\n",
      "  data2[\"minimum_maximum_nights\"]=data2[\"minimum_maximum_nights\"].fillna(method=\"bfill\")\n"
     ]
    }
   ],
   "source": [
    "#Sexto método de sustitución de valores nulos\n",
    "#Sustituir valores nulos por valores no nulos hacia atrás backwards\n",
    "data2[\"minimum_maximum_nights\"]=data2[\"minimum_maximum_nights\"].fillna(method=\"bfill\")"
   ]
  },
  {
   "cell_type": "code",
   "execution_count": 62,
   "metadata": {},
   "outputs": [
    {
     "data": {
      "text/plain": [
       "last_scraped                      0\n",
       "name                              0\n",
       "description                       0\n",
       "neighborhood_overview             0\n",
       "host_location                     0\n",
       "host_response_time                0\n",
       "host_response_rate                0\n",
       "host_acceptance_rate              0\n",
       "host_is_superhost                 0\n",
       "host_verifications                0\n",
       "host_has_profile_pic              0\n",
       "host_identity_verified            0\n",
       "neighbourhood                     0\n",
       "neighbourhood_cleansed            0\n",
       "latitude                          0\n",
       "longitude                         0\n",
       "property_type                     0\n",
       "room_type                         0\n",
       "accommodates                      0\n",
       "bathrooms                         0\n",
       "bathrooms_text                    0\n",
       "bedrooms                          0\n",
       "beds                              0\n",
       "amenities                         0\n",
       "price                             0\n",
       "minimum_nights                    0\n",
       "maximum_nights                    0\n",
       "minimum_minimum_nights            0\n",
       "maximum_minimum_nights            0\n",
       "minimum_maximum_nights            0\n",
       "maximum_maximum_nights            1\n",
       "minimum_nights_avg_ntm            1\n",
       "maximum_nights_avg_ntm            1\n",
       "calendar_updated               9659\n",
       "has_availability                310\n",
       "availability_30                   0\n",
       "availability_60                   0\n",
       "availability_90                   0\n",
       "availability_365                  0\n",
       "number_of_reviews                 0\n",
       "number_of_reviews_ltm             0\n",
       "number_of_reviews_l30d            0\n",
       "last_review                    1027\n",
       "review_scores_rating           1027\n",
       "review_scores_cleanliness      1028\n",
       "review_scores_checkin          1027\n",
       "review_scores_communication    1027\n",
       "review_scores_location            0\n",
       "review_scores_value               0\n",
       "instant_bookable                  0\n",
       "reviews_per_month                 0\n",
       "dtype: int64"
      ]
     },
     "execution_count": 62,
     "metadata": {},
     "output_type": "execute_result"
    }
   ],
   "source": [
    "valores_nulos=data2.isnull().sum()          \n",
    "valores_nulos"
   ]
  },
  {
   "cell_type": "code",
   "execution_count": 63,
   "metadata": {},
   "outputs": [
    {
     "name": "stderr",
     "output_type": "stream",
     "text": [
      "C:\\Users\\lapep\\AppData\\Local\\Temp\\ipykernel_21984\\1794171787.py:3: FutureWarning: Series.fillna with 'method' is deprecated and will raise in a future version. Use obj.ffill() or obj.bfill() instead.\n",
      "  data2[\"minimum_minimum_nights\"]=data2[\"minimum_minimum_nights\"].fillna(method=\"ffill\")\n"
     ]
    }
   ],
   "source": [
    "#Quinto método de sustitución de valores nulos\n",
    "#Sustituir valores nulos por valores no nulos hacia adelante \"forward fill\"(\"ffill\")\n",
    "data2[\"minimum_minimum_nights\"]=data2[\"minimum_minimum_nights\"].fillna(method=\"ffill\")"
   ]
  },
  {
   "cell_type": "code",
   "execution_count": 64,
   "metadata": {},
   "outputs": [
    {
     "data": {
      "text/plain": [
       "last_scraped                      0\n",
       "name                              0\n",
       "description                       0\n",
       "neighborhood_overview             0\n",
       "host_location                     0\n",
       "host_response_time                0\n",
       "host_response_rate                0\n",
       "host_acceptance_rate              0\n",
       "host_is_superhost                 0\n",
       "host_verifications                0\n",
       "host_has_profile_pic              0\n",
       "host_identity_verified            0\n",
       "neighbourhood                     0\n",
       "neighbourhood_cleansed            0\n",
       "latitude                          0\n",
       "longitude                         0\n",
       "property_type                     0\n",
       "room_type                         0\n",
       "accommodates                      0\n",
       "bathrooms                         0\n",
       "bathrooms_text                    0\n",
       "bedrooms                          0\n",
       "beds                              0\n",
       "amenities                         0\n",
       "price                             0\n",
       "minimum_nights                    0\n",
       "maximum_nights                    0\n",
       "minimum_minimum_nights            0\n",
       "maximum_minimum_nights            0\n",
       "minimum_maximum_nights            0\n",
       "maximum_maximum_nights            1\n",
       "minimum_nights_avg_ntm            1\n",
       "maximum_nights_avg_ntm            1\n",
       "calendar_updated               9659\n",
       "has_availability                310\n",
       "availability_30                   0\n",
       "availability_60                   0\n",
       "availability_90                   0\n",
       "availability_365                  0\n",
       "number_of_reviews                 0\n",
       "number_of_reviews_ltm             0\n",
       "number_of_reviews_l30d            0\n",
       "last_review                    1027\n",
       "review_scores_rating           1027\n",
       "review_scores_cleanliness      1028\n",
       "review_scores_checkin          1027\n",
       "review_scores_communication    1027\n",
       "review_scores_location            0\n",
       "review_scores_value               0\n",
       "instant_bookable                  0\n",
       "reviews_per_month                 0\n",
       "dtype: int64"
      ]
     },
     "execution_count": 64,
     "metadata": {},
     "output_type": "execute_result"
    }
   ],
   "source": [
    "valores_nulos=data2.isnull().sum()          \n",
    "valores_nulos"
   ]
  },
  {
   "cell_type": "code",
   "execution_count": 65,
   "metadata": {},
   "outputs": [
    {
     "name": "stderr",
     "output_type": "stream",
     "text": [
      "C:\\Users\\lapep\\AppData\\Local\\Temp\\ipykernel_21984\\417671857.py:3: FutureWarning: Series.fillna with 'method' is deprecated and will raise in a future version. Use obj.ffill() or obj.bfill() instead.\n",
      "  data2[\"maximum_maximum_nights\"]=data2[\"maximum_maximum_nights\"].fillna(method=\"ffill\")\n"
     ]
    }
   ],
   "source": [
    "#Quinto método de sustitución de valores nulos\n",
    "#Sustituir valores nulos por valores no nulos hacia adelante \"forward fill\"(\"ffill\")\n",
    "data2[\"maximum_maximum_nights\"]=data2[\"maximum_maximum_nights\"].fillna(method=\"ffill\")"
   ]
  },
  {
   "cell_type": "code",
   "execution_count": 66,
   "metadata": {},
   "outputs": [
    {
     "data": {
      "text/plain": [
       "last_scraped                      0\n",
       "name                              0\n",
       "description                       0\n",
       "neighborhood_overview             0\n",
       "host_location                     0\n",
       "host_response_time                0\n",
       "host_response_rate                0\n",
       "host_acceptance_rate              0\n",
       "host_is_superhost                 0\n",
       "host_verifications                0\n",
       "host_has_profile_pic              0\n",
       "host_identity_verified            0\n",
       "neighbourhood                     0\n",
       "neighbourhood_cleansed            0\n",
       "latitude                          0\n",
       "longitude                         0\n",
       "property_type                     0\n",
       "room_type                         0\n",
       "accommodates                      0\n",
       "bathrooms                         0\n",
       "bathrooms_text                    0\n",
       "bedrooms                          0\n",
       "beds                              0\n",
       "amenities                         0\n",
       "price                             0\n",
       "minimum_nights                    0\n",
       "maximum_nights                    0\n",
       "minimum_minimum_nights            0\n",
       "maximum_minimum_nights            0\n",
       "minimum_maximum_nights            0\n",
       "maximum_maximum_nights            0\n",
       "minimum_nights_avg_ntm            1\n",
       "maximum_nights_avg_ntm            1\n",
       "calendar_updated               9659\n",
       "has_availability                310\n",
       "availability_30                   0\n",
       "availability_60                   0\n",
       "availability_90                   0\n",
       "availability_365                  0\n",
       "number_of_reviews                 0\n",
       "number_of_reviews_ltm             0\n",
       "number_of_reviews_l30d            0\n",
       "last_review                    1027\n",
       "review_scores_rating           1027\n",
       "review_scores_cleanliness      1028\n",
       "review_scores_checkin          1027\n",
       "review_scores_communication    1027\n",
       "review_scores_location            0\n",
       "review_scores_value               0\n",
       "instant_bookable                  0\n",
       "reviews_per_month                 0\n",
       "dtype: int64"
      ]
     },
     "execution_count": 66,
     "metadata": {},
     "output_type": "execute_result"
    }
   ],
   "source": [
    "valores_nulos=data2.isnull().sum()          \n",
    "valores_nulos"
   ]
  },
  {
   "cell_type": "code",
   "execution_count": 67,
   "metadata": {},
   "outputs": [
    {
     "name": "stderr",
     "output_type": "stream",
     "text": [
      "C:\\Users\\lapep\\AppData\\Local\\Temp\\ipykernel_21984\\3706120427.py:3: FutureWarning: Series.fillna with 'method' is deprecated and will raise in a future version. Use obj.ffill() or obj.bfill() instead.\n",
      "  data2[\"minimum_nights_avg_ntm\"]=data2[\"minimum_nights_avg_ntm\"].fillna(method=\"ffill\")\n"
     ]
    }
   ],
   "source": [
    "#Quinto método de sustitución de valores nulos\n",
    "#Sustituir valores nulos por valores no nulos hacia adelante \"forward fill\"(\"ffill\")\n",
    "data2[\"minimum_nights_avg_ntm\"]=data2[\"minimum_nights_avg_ntm\"].fillna(method=\"ffill\")"
   ]
  },
  {
   "cell_type": "code",
   "execution_count": 68,
   "metadata": {},
   "outputs": [
    {
     "data": {
      "text/plain": [
       "last_scraped                      0\n",
       "name                              0\n",
       "description                       0\n",
       "neighborhood_overview             0\n",
       "host_location                     0\n",
       "host_response_time                0\n",
       "host_response_rate                0\n",
       "host_acceptance_rate              0\n",
       "host_is_superhost                 0\n",
       "host_verifications                0\n",
       "host_has_profile_pic              0\n",
       "host_identity_verified            0\n",
       "neighbourhood                     0\n",
       "neighbourhood_cleansed            0\n",
       "latitude                          0\n",
       "longitude                         0\n",
       "property_type                     0\n",
       "room_type                         0\n",
       "accommodates                      0\n",
       "bathrooms                         0\n",
       "bathrooms_text                    0\n",
       "bedrooms                          0\n",
       "beds                              0\n",
       "amenities                         0\n",
       "price                             0\n",
       "minimum_nights                    0\n",
       "maximum_nights                    0\n",
       "minimum_minimum_nights            0\n",
       "maximum_minimum_nights            0\n",
       "minimum_maximum_nights            0\n",
       "maximum_maximum_nights            0\n",
       "minimum_nights_avg_ntm            0\n",
       "maximum_nights_avg_ntm            1\n",
       "calendar_updated               9659\n",
       "has_availability                310\n",
       "availability_30                   0\n",
       "availability_60                   0\n",
       "availability_90                   0\n",
       "availability_365                  0\n",
       "number_of_reviews                 0\n",
       "number_of_reviews_ltm             0\n",
       "number_of_reviews_l30d            0\n",
       "last_review                    1027\n",
       "review_scores_rating           1027\n",
       "review_scores_cleanliness      1028\n",
       "review_scores_checkin          1027\n",
       "review_scores_communication    1027\n",
       "review_scores_location            0\n",
       "review_scores_value               0\n",
       "instant_bookable                  0\n",
       "reviews_per_month                 0\n",
       "dtype: int64"
      ]
     },
     "execution_count": 68,
     "metadata": {},
     "output_type": "execute_result"
    }
   ],
   "source": [
    "valores_nulos=data2.isnull().sum()          \n",
    "valores_nulos"
   ]
  },
  {
   "cell_type": "code",
   "execution_count": 69,
   "metadata": {},
   "outputs": [
    {
     "name": "stderr",
     "output_type": "stream",
     "text": [
      "C:\\Users\\lapep\\AppData\\Local\\Temp\\ipykernel_21984\\3995633466.py:3: FutureWarning: Series.fillna with 'method' is deprecated and will raise in a future version. Use obj.ffill() or obj.bfill() instead.\n",
      "  data2[\"maximum_nights_avg_ntm\"]=data2[\"maximum_nights_avg_ntm\"].fillna(method=\"bfill\")\n"
     ]
    }
   ],
   "source": [
    "#Sexto método de sustitución de valores nulos\n",
    "#Sustituir valores nulos por valores no nulos hacia atrás backwards\n",
    "data2[\"maximum_nights_avg_ntm\"]=data2[\"maximum_nights_avg_ntm\"].fillna(method=\"bfill\")"
   ]
  },
  {
   "cell_type": "code",
   "execution_count": 70,
   "metadata": {},
   "outputs": [
    {
     "data": {
      "text/plain": [
       "last_scraped                      0\n",
       "name                              0\n",
       "description                       0\n",
       "neighborhood_overview             0\n",
       "host_location                     0\n",
       "host_response_time                0\n",
       "host_response_rate                0\n",
       "host_acceptance_rate              0\n",
       "host_is_superhost                 0\n",
       "host_verifications                0\n",
       "host_has_profile_pic              0\n",
       "host_identity_verified            0\n",
       "neighbourhood                     0\n",
       "neighbourhood_cleansed            0\n",
       "latitude                          0\n",
       "longitude                         0\n",
       "property_type                     0\n",
       "room_type                         0\n",
       "accommodates                      0\n",
       "bathrooms                         0\n",
       "bathrooms_text                    0\n",
       "bedrooms                          0\n",
       "beds                              0\n",
       "amenities                         0\n",
       "price                             0\n",
       "minimum_nights                    0\n",
       "maximum_nights                    0\n",
       "minimum_minimum_nights            0\n",
       "maximum_minimum_nights            0\n",
       "minimum_maximum_nights            0\n",
       "maximum_maximum_nights            0\n",
       "minimum_nights_avg_ntm            0\n",
       "maximum_nights_avg_ntm            0\n",
       "calendar_updated               9659\n",
       "has_availability                310\n",
       "availability_30                   0\n",
       "availability_60                   0\n",
       "availability_90                   0\n",
       "availability_365                  0\n",
       "number_of_reviews                 0\n",
       "number_of_reviews_ltm             0\n",
       "number_of_reviews_l30d            0\n",
       "last_review                    1027\n",
       "review_scores_rating           1027\n",
       "review_scores_cleanliness      1028\n",
       "review_scores_checkin          1027\n",
       "review_scores_communication    1027\n",
       "review_scores_location            0\n",
       "review_scores_value               0\n",
       "instant_bookable                  0\n",
       "reviews_per_month                 0\n",
       "dtype: int64"
      ]
     },
     "execution_count": 70,
     "metadata": {},
     "output_type": "execute_result"
    }
   ],
   "source": [
    "valores_nulos=data2.isnull().sum()          \n",
    "valores_nulos"
   ]
  },
  {
   "cell_type": "code",
   "execution_count": 72,
   "metadata": {},
   "outputs": [],
   "source": [
    "#Cuarto método de sustitución de valores nulos\n",
    "#Sustituir valores nulos por un string en concreto\n",
    "data2[\"calendar_updated\"]=data2[\"calendar_updated\"].fillna(\"Not clarify\")"
   ]
  },
  {
   "cell_type": "code",
   "execution_count": 73,
   "metadata": {},
   "outputs": [
    {
     "data": {
      "text/plain": [
       "last_scraped                      0\n",
       "name                              0\n",
       "description                       0\n",
       "neighborhood_overview             0\n",
       "host_location                     0\n",
       "host_response_time                0\n",
       "host_response_rate                0\n",
       "host_acceptance_rate              0\n",
       "host_is_superhost                 0\n",
       "host_verifications                0\n",
       "host_has_profile_pic              0\n",
       "host_identity_verified            0\n",
       "neighbourhood                     0\n",
       "neighbourhood_cleansed            0\n",
       "latitude                          0\n",
       "longitude                         0\n",
       "property_type                     0\n",
       "room_type                         0\n",
       "accommodates                      0\n",
       "bathrooms                         0\n",
       "bathrooms_text                    0\n",
       "bedrooms                          0\n",
       "beds                              0\n",
       "amenities                         0\n",
       "price                             0\n",
       "minimum_nights                    0\n",
       "maximum_nights                    0\n",
       "minimum_minimum_nights            0\n",
       "maximum_minimum_nights            0\n",
       "minimum_maximum_nights            0\n",
       "maximum_maximum_nights            0\n",
       "minimum_nights_avg_ntm            0\n",
       "maximum_nights_avg_ntm            0\n",
       "calendar_updated                  0\n",
       "has_availability                310\n",
       "availability_30                   0\n",
       "availability_60                   0\n",
       "availability_90                   0\n",
       "availability_365                  0\n",
       "number_of_reviews                 0\n",
       "number_of_reviews_ltm             0\n",
       "number_of_reviews_l30d            0\n",
       "last_review                    1027\n",
       "review_scores_rating           1027\n",
       "review_scores_cleanliness      1028\n",
       "review_scores_checkin          1027\n",
       "review_scores_communication    1027\n",
       "review_scores_location            0\n",
       "review_scores_value               0\n",
       "instant_bookable                  0\n",
       "reviews_per_month                 0\n",
       "dtype: int64"
      ]
     },
     "execution_count": 73,
     "metadata": {},
     "output_type": "execute_result"
    }
   ],
   "source": [
    "valores_nulos=data2.isnull().sum()          \n",
    "valores_nulos"
   ]
  },
  {
   "cell_type": "code",
   "execution_count": 74,
   "metadata": {},
   "outputs": [],
   "source": [
    "#Cuarto método de sustitución de valores nulos\n",
    "#Sustituir valores nulos por un string en concreto\n",
    "data2[\"has_availability\"]=data2[\"has_availability\"].fillna(\"Has no information\")"
   ]
  },
  {
   "cell_type": "code",
   "execution_count": 75,
   "metadata": {},
   "outputs": [
    {
     "data": {
      "text/plain": [
       "last_scraped                      0\n",
       "name                              0\n",
       "description                       0\n",
       "neighborhood_overview             0\n",
       "host_location                     0\n",
       "host_response_time                0\n",
       "host_response_rate                0\n",
       "host_acceptance_rate              0\n",
       "host_is_superhost                 0\n",
       "host_verifications                0\n",
       "host_has_profile_pic              0\n",
       "host_identity_verified            0\n",
       "neighbourhood                     0\n",
       "neighbourhood_cleansed            0\n",
       "latitude                          0\n",
       "longitude                         0\n",
       "property_type                     0\n",
       "room_type                         0\n",
       "accommodates                      0\n",
       "bathrooms                         0\n",
       "bathrooms_text                    0\n",
       "bedrooms                          0\n",
       "beds                              0\n",
       "amenities                         0\n",
       "price                             0\n",
       "minimum_nights                    0\n",
       "maximum_nights                    0\n",
       "minimum_minimum_nights            0\n",
       "maximum_minimum_nights            0\n",
       "minimum_maximum_nights            0\n",
       "maximum_maximum_nights            0\n",
       "minimum_nights_avg_ntm            0\n",
       "maximum_nights_avg_ntm            0\n",
       "calendar_updated                  0\n",
       "has_availability                  0\n",
       "availability_30                   0\n",
       "availability_60                   0\n",
       "availability_90                   0\n",
       "availability_365                  0\n",
       "number_of_reviews                 0\n",
       "number_of_reviews_ltm             0\n",
       "number_of_reviews_l30d            0\n",
       "last_review                    1027\n",
       "review_scores_rating           1027\n",
       "review_scores_cleanliness      1028\n",
       "review_scores_checkin          1027\n",
       "review_scores_communication    1027\n",
       "review_scores_location            0\n",
       "review_scores_value               0\n",
       "instant_bookable                  0\n",
       "reviews_per_month                 0\n",
       "dtype: int64"
      ]
     },
     "execution_count": 75,
     "metadata": {},
     "output_type": "execute_result"
    }
   ],
   "source": [
    "valores_nulos=data2.isnull().sum()          \n",
    "valores_nulos"
   ]
  },
  {
   "cell_type": "code",
   "execution_count": 76,
   "metadata": {},
   "outputs": [],
   "source": [
    "#Cuarto método de sustitución de valores nulos\n",
    "#Sustituir valores nulos por un string en concreto\n",
    "data2[\"last_review\"]=data2[\"last_review\"].fillna(\"Zero information\")"
   ]
  },
  {
   "cell_type": "code",
   "execution_count": 77,
   "metadata": {},
   "outputs": [
    {
     "data": {
      "text/plain": [
       "last_scraped                      0\n",
       "name                              0\n",
       "description                       0\n",
       "neighborhood_overview             0\n",
       "host_location                     0\n",
       "host_response_time                0\n",
       "host_response_rate                0\n",
       "host_acceptance_rate              0\n",
       "host_is_superhost                 0\n",
       "host_verifications                0\n",
       "host_has_profile_pic              0\n",
       "host_identity_verified            0\n",
       "neighbourhood                     0\n",
       "neighbourhood_cleansed            0\n",
       "latitude                          0\n",
       "longitude                         0\n",
       "property_type                     0\n",
       "room_type                         0\n",
       "accommodates                      0\n",
       "bathrooms                         0\n",
       "bathrooms_text                    0\n",
       "bedrooms                          0\n",
       "beds                              0\n",
       "amenities                         0\n",
       "price                             0\n",
       "minimum_nights                    0\n",
       "maximum_nights                    0\n",
       "minimum_minimum_nights            0\n",
       "maximum_minimum_nights            0\n",
       "minimum_maximum_nights            0\n",
       "maximum_maximum_nights            0\n",
       "minimum_nights_avg_ntm            0\n",
       "maximum_nights_avg_ntm            0\n",
       "calendar_updated                  0\n",
       "has_availability                  0\n",
       "availability_30                   0\n",
       "availability_60                   0\n",
       "availability_90                   0\n",
       "availability_365                  0\n",
       "number_of_reviews                 0\n",
       "number_of_reviews_ltm             0\n",
       "number_of_reviews_l30d            0\n",
       "last_review                       0\n",
       "review_scores_rating           1027\n",
       "review_scores_cleanliness      1028\n",
       "review_scores_checkin          1027\n",
       "review_scores_communication    1027\n",
       "review_scores_location            0\n",
       "review_scores_value               0\n",
       "instant_bookable                  0\n",
       "reviews_per_month                 0\n",
       "dtype: int64"
      ]
     },
     "execution_count": 77,
     "metadata": {},
     "output_type": "execute_result"
    }
   ],
   "source": [
    "valores_nulos=data2.isnull().sum()          \n",
    "valores_nulos"
   ]
  },
  {
   "cell_type": "code",
   "execution_count": 78,
   "metadata": {},
   "outputs": [],
   "source": [
    "#Cuarto método de sustitución de valores nulos\n",
    "#Sustituir valores nulos por un string en concreto\n",
    "data2[\"review_scores_rating\"]=data2[\"review_scores_rating\"].fillna(\"No information\")"
   ]
  },
  {
   "cell_type": "code",
   "execution_count": 79,
   "metadata": {},
   "outputs": [
    {
     "data": {
      "text/plain": [
       "last_scraped                      0\n",
       "name                              0\n",
       "description                       0\n",
       "neighborhood_overview             0\n",
       "host_location                     0\n",
       "host_response_time                0\n",
       "host_response_rate                0\n",
       "host_acceptance_rate              0\n",
       "host_is_superhost                 0\n",
       "host_verifications                0\n",
       "host_has_profile_pic              0\n",
       "host_identity_verified            0\n",
       "neighbourhood                     0\n",
       "neighbourhood_cleansed            0\n",
       "latitude                          0\n",
       "longitude                         0\n",
       "property_type                     0\n",
       "room_type                         0\n",
       "accommodates                      0\n",
       "bathrooms                         0\n",
       "bathrooms_text                    0\n",
       "bedrooms                          0\n",
       "beds                              0\n",
       "amenities                         0\n",
       "price                             0\n",
       "minimum_nights                    0\n",
       "maximum_nights                    0\n",
       "minimum_minimum_nights            0\n",
       "maximum_minimum_nights            0\n",
       "minimum_maximum_nights            0\n",
       "maximum_maximum_nights            0\n",
       "minimum_nights_avg_ntm            0\n",
       "maximum_nights_avg_ntm            0\n",
       "calendar_updated                  0\n",
       "has_availability                  0\n",
       "availability_30                   0\n",
       "availability_60                   0\n",
       "availability_90                   0\n",
       "availability_365                  0\n",
       "number_of_reviews                 0\n",
       "number_of_reviews_ltm             0\n",
       "number_of_reviews_l30d            0\n",
       "last_review                       0\n",
       "review_scores_rating              0\n",
       "review_scores_cleanliness      1028\n",
       "review_scores_checkin          1027\n",
       "review_scores_communication    1027\n",
       "review_scores_location            0\n",
       "review_scores_value               0\n",
       "instant_bookable                  0\n",
       "reviews_per_month                 0\n",
       "dtype: int64"
      ]
     },
     "execution_count": 79,
     "metadata": {},
     "output_type": "execute_result"
    }
   ],
   "source": [
    "valores_nulos=data2.isnull().sum()          \n",
    "valores_nulos"
   ]
  },
  {
   "cell_type": "code",
   "execution_count": 80,
   "metadata": {},
   "outputs": [],
   "source": [
    "#Cuarto método de sustitución de valores nulos\n",
    "#Sustituir valores nulos por un string en concreto\n",
    "data2[\"review_scores_cleanliness\"]=data2[\"review_scores_cleanliness\"].fillna(\"Nothing\")"
   ]
  },
  {
   "cell_type": "code",
   "execution_count": 81,
   "metadata": {},
   "outputs": [
    {
     "data": {
      "text/plain": [
       "last_scraped                      0\n",
       "name                              0\n",
       "description                       0\n",
       "neighborhood_overview             0\n",
       "host_location                     0\n",
       "host_response_time                0\n",
       "host_response_rate                0\n",
       "host_acceptance_rate              0\n",
       "host_is_superhost                 0\n",
       "host_verifications                0\n",
       "host_has_profile_pic              0\n",
       "host_identity_verified            0\n",
       "neighbourhood                     0\n",
       "neighbourhood_cleansed            0\n",
       "latitude                          0\n",
       "longitude                         0\n",
       "property_type                     0\n",
       "room_type                         0\n",
       "accommodates                      0\n",
       "bathrooms                         0\n",
       "bathrooms_text                    0\n",
       "bedrooms                          0\n",
       "beds                              0\n",
       "amenities                         0\n",
       "price                             0\n",
       "minimum_nights                    0\n",
       "maximum_nights                    0\n",
       "minimum_minimum_nights            0\n",
       "maximum_minimum_nights            0\n",
       "minimum_maximum_nights            0\n",
       "maximum_maximum_nights            0\n",
       "minimum_nights_avg_ntm            0\n",
       "maximum_nights_avg_ntm            0\n",
       "calendar_updated                  0\n",
       "has_availability                  0\n",
       "availability_30                   0\n",
       "availability_60                   0\n",
       "availability_90                   0\n",
       "availability_365                  0\n",
       "number_of_reviews                 0\n",
       "number_of_reviews_ltm             0\n",
       "number_of_reviews_l30d            0\n",
       "last_review                       0\n",
       "review_scores_rating              0\n",
       "review_scores_cleanliness         0\n",
       "review_scores_checkin          1027\n",
       "review_scores_communication    1027\n",
       "review_scores_location            0\n",
       "review_scores_value               0\n",
       "instant_bookable                  0\n",
       "reviews_per_month                 0\n",
       "dtype: int64"
      ]
     },
     "execution_count": 81,
     "metadata": {},
     "output_type": "execute_result"
    }
   ],
   "source": [
    "valores_nulos=data2.isnull().sum()          \n",
    "valores_nulos"
   ]
  },
  {
   "cell_type": "code",
   "execution_count": 82,
   "metadata": {},
   "outputs": [],
   "source": [
    "#Cuarto método de sustitución de valores nulos\n",
    "#Sustituir valores nulos por un string en concreto\n",
    "data2[\"review_scores_checkin\"]=data2[\"review_scores_checkin\"].fillna(\"Nothing\")"
   ]
  },
  {
   "cell_type": "code",
   "execution_count": 83,
   "metadata": {},
   "outputs": [
    {
     "data": {
      "text/plain": [
       "last_scraped                      0\n",
       "name                              0\n",
       "description                       0\n",
       "neighborhood_overview             0\n",
       "host_location                     0\n",
       "host_response_time                0\n",
       "host_response_rate                0\n",
       "host_acceptance_rate              0\n",
       "host_is_superhost                 0\n",
       "host_verifications                0\n",
       "host_has_profile_pic              0\n",
       "host_identity_verified            0\n",
       "neighbourhood                     0\n",
       "neighbourhood_cleansed            0\n",
       "latitude                          0\n",
       "longitude                         0\n",
       "property_type                     0\n",
       "room_type                         0\n",
       "accommodates                      0\n",
       "bathrooms                         0\n",
       "bathrooms_text                    0\n",
       "bedrooms                          0\n",
       "beds                              0\n",
       "amenities                         0\n",
       "price                             0\n",
       "minimum_nights                    0\n",
       "maximum_nights                    0\n",
       "minimum_minimum_nights            0\n",
       "maximum_minimum_nights            0\n",
       "minimum_maximum_nights            0\n",
       "maximum_maximum_nights            0\n",
       "minimum_nights_avg_ntm            0\n",
       "maximum_nights_avg_ntm            0\n",
       "calendar_updated                  0\n",
       "has_availability                  0\n",
       "availability_30                   0\n",
       "availability_60                   0\n",
       "availability_90                   0\n",
       "availability_365                  0\n",
       "number_of_reviews                 0\n",
       "number_of_reviews_ltm             0\n",
       "number_of_reviews_l30d            0\n",
       "last_review                       0\n",
       "review_scores_rating              0\n",
       "review_scores_cleanliness         0\n",
       "review_scores_checkin             0\n",
       "review_scores_communication    1027\n",
       "review_scores_location            0\n",
       "review_scores_value               0\n",
       "instant_bookable                  0\n",
       "reviews_per_month                 0\n",
       "dtype: int64"
      ]
     },
     "execution_count": 83,
     "metadata": {},
     "output_type": "execute_result"
    }
   ],
   "source": [
    "valores_nulos=data2.isnull().sum()          \n",
    "valores_nulos"
   ]
  },
  {
   "cell_type": "code",
   "execution_count": 84,
   "metadata": {},
   "outputs": [],
   "source": [
    "#Cuarto método de sustitución de valores nulos\n",
    "#Sustituir valores nulos por un string en concreto\n",
    "data2[\"review_scores_communication\"]=data2[\"review_scores_communication\"].fillna(\"Does not say\")"
   ]
  },
  {
   "cell_type": "code",
   "execution_count": 85,
   "metadata": {},
   "outputs": [
    {
     "data": {
      "text/plain": [
       "last_scraped                   0\n",
       "name                           0\n",
       "description                    0\n",
       "neighborhood_overview          0\n",
       "host_location                  0\n",
       "host_response_time             0\n",
       "host_response_rate             0\n",
       "host_acceptance_rate           0\n",
       "host_is_superhost              0\n",
       "host_verifications             0\n",
       "host_has_profile_pic           0\n",
       "host_identity_verified         0\n",
       "neighbourhood                  0\n",
       "neighbourhood_cleansed         0\n",
       "latitude                       0\n",
       "longitude                      0\n",
       "property_type                  0\n",
       "room_type                      0\n",
       "accommodates                   0\n",
       "bathrooms                      0\n",
       "bathrooms_text                 0\n",
       "bedrooms                       0\n",
       "beds                           0\n",
       "amenities                      0\n",
       "price                          0\n",
       "minimum_nights                 0\n",
       "maximum_nights                 0\n",
       "minimum_minimum_nights         0\n",
       "maximum_minimum_nights         0\n",
       "minimum_maximum_nights         0\n",
       "maximum_maximum_nights         0\n",
       "minimum_nights_avg_ntm         0\n",
       "maximum_nights_avg_ntm         0\n",
       "calendar_updated               0\n",
       "has_availability               0\n",
       "availability_30                0\n",
       "availability_60                0\n",
       "availability_90                0\n",
       "availability_365               0\n",
       "number_of_reviews              0\n",
       "number_of_reviews_ltm          0\n",
       "number_of_reviews_l30d         0\n",
       "last_review                    0\n",
       "review_scores_rating           0\n",
       "review_scores_cleanliness      0\n",
       "review_scores_checkin          0\n",
       "review_scores_communication    0\n",
       "review_scores_location         0\n",
       "review_scores_value            0\n",
       "instant_bookable               0\n",
       "reviews_per_month              0\n",
       "dtype: int64"
      ]
     },
     "execution_count": 85,
     "metadata": {},
     "output_type": "execute_result"
    }
   ],
   "source": [
    "valores_nulos=data2.isnull().sum()          \n",
    "valores_nulos"
   ]
  },
  {
   "cell_type": "code",
   "execution_count": 88,
   "metadata": {},
   "outputs": [
    {
     "data": {
      "text/plain": [
       "np.int64(0)"
      ]
     },
     "execution_count": 88,
     "metadata": {},
     "output_type": "execute_result"
    }
   ],
   "source": [
    "valores_nulos=data2.isnull().sum().sum()\n",
    "valores_nulos"
   ]
  },
  {
   "cell_type": "code",
   "execution_count": 91,
   "metadata": {},
   "outputs": [],
   "source": [
    "#Convertir DataFrame a CSV\n",
    "data2.to_csv(\"Amsterdam_filtrado.csv\")"
   ]
  }
 ],
 "metadata": {
  "kernelspec": {
   "display_name": "Python 3",
   "language": "python",
   "name": "python3"
  },
  "language_info": {
   "codemirror_mode": {
    "name": "ipython",
    "version": 3
   },
   "file_extension": ".py",
   "mimetype": "text/x-python",
   "name": "python",
   "nbconvert_exporter": "python",
   "pygments_lexer": "ipython3",
   "version": "3.13.1"
  }
 },
 "nbformat": 4,
 "nbformat_minor": 2
}
